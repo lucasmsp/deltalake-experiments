{
 "cells": [
  {
   "cell_type": "code",
   "execution_count": 1,
   "id": "72683800",
   "metadata": {},
   "outputs": [],
   "source": [
    "import os\n",
    "os.environ['PYSPARK_SUBMIT_ARGS'] = '--packages io.delta:delta-core_2.12:1.2.0 pyspark-shell'\n",
    " \n",
    "import findspark\n",
    "findspark.init()"
   ]
  },
  {
   "cell_type": "code",
   "execution_count": 2,
   "id": "fa7ecc7e",
   "metadata": {},
   "outputs": [
    {
     "name": "stdout",
     "output_type": "stream",
     "text": [
      "#---------------------\r\n",
      "#       Delta Lake\r\n",
      "#---------------------\r\n",
      "#spark.jars.packages io.delta:delta-core_2.12:1.2.0  \r\n",
      "#spark.sql.extensions io.delta.sql.DeltaSparkSessionExtension\r\n",
      "#spark.sql.catalog.spark_catalog org.apache.spark.sql.delta.catalog.DeltaCatalog\r\n"
     ]
    }
   ],
   "source": [
    "!tail -6 /opt/spark/conf/spark-defaults.conf"
   ]
  },
  {
   "cell_type": "code",
   "execution_count": 3,
   "id": "f5f77efb",
   "metadata": {},
   "outputs": [
    {
     "name": "stderr",
     "output_type": "stream",
     "text": [
      "WARNING: An illegal reflective access operation has occurred\n",
      "WARNING: Illegal reflective access by org.apache.spark.unsafe.Platform (file:/opt/spark-3.2.0-bin-hadoop3.2/jars/spark-unsafe_2.12-3.2.0.jar) to constructor java.nio.DirectByteBuffer(long,int)\n",
      "WARNING: Please consider reporting this to the maintainers of org.apache.spark.unsafe.Platform\n",
      "WARNING: Use --illegal-access=warn to enable warnings of further illegal reflective access operations\n",
      "WARNING: All illegal access operations will be denied in a future release\n"
     ]
    },
    {
     "name": "stdout",
     "output_type": "stream",
     "text": [
      ":: loading settings :: url = jar:file:/opt/spark-3.2.0-bin-hadoop3.2/jars/ivy-2.5.0.jar!/org/apache/ivy/core/settings/ivysettings.xml\n"
     ]
    },
    {
     "name": "stderr",
     "output_type": "stream",
     "text": [
      "Ivy Default Cache set to: /home/lucasmsp/.ivy2/cache\n",
      "The jars for the packages stored in: /home/lucasmsp/.ivy2/jars\n",
      "io.delta#delta-core_2.12 added as a dependency\n",
      ":: resolving dependencies :: org.apache.spark#spark-submit-parent-54e90557-932c-47b8-9645-9b16e8160faa;1.0\n",
      "\tconfs: [default]\n",
      "\tfound io.delta#delta-core_2.12;1.2.0 in central\n",
      "\tfound io.delta#delta-storage;1.2.0 in central\n",
      "\tfound org.antlr#antlr4-runtime;4.8 in central\n",
      "\tfound org.codehaus.jackson#jackson-core-asl;1.9.13 in central\n",
      ":: resolution report :: resolve 200ms :: artifacts dl 10ms\n",
      "\t:: modules in use:\n",
      "\tio.delta#delta-core_2.12;1.2.0 from central in [default]\n",
      "\tio.delta#delta-storage;1.2.0 from central in [default]\n",
      "\torg.antlr#antlr4-runtime;4.8 from central in [default]\n",
      "\torg.codehaus.jackson#jackson-core-asl;1.9.13 from central in [default]\n",
      "\t---------------------------------------------------------------------\n",
      "\t|                  |            modules            ||   artifacts   |\n",
      "\t|       conf       | number| search|dwnlded|evicted|| number|dwnlded|\n",
      "\t---------------------------------------------------------------------\n",
      "\t|      default     |   4   |   0   |   0   |   0   ||   4   |   0   |\n",
      "\t---------------------------------------------------------------------\n",
      ":: retrieving :: org.apache.spark#spark-submit-parent-54e90557-932c-47b8-9645-9b16e8160faa\n",
      "\tconfs: [default]\n",
      "\t0 artifacts copied, 4 already retrieved (0kB/8ms)\n",
      "Setting default log level to \"WARN\".\n",
      "To adjust logging level use sc.setLogLevel(newLevel). For SparkR, use setLogLevel(newLevel).\n"
     ]
    }
   ],
   "source": [
    "from pyspark.sql import SparkSession\n",
    "\n",
    "spark = SparkSession \\\n",
    "    .builder \\\n",
    "    .appName(\"Delta seminar 2022\") \\\n",
    "    .config(\"spark.sql.extensions\", \"io.delta.sql.DeltaSparkSessionExtension\") \\\n",
    "    .config(\"spark.sql.catalog.spark_catalog\", \"org.apache.spark.sql.delta.catalog.DeltaCatalog\") \\\n",
    "    .getOrCreate()"
   ]
  },
  {
   "cell_type": "code",
   "execution_count": 4,
   "id": "63f12a01",
   "metadata": {},
   "outputs": [
    {
     "name": "stderr",
     "output_type": "stream",
     "text": [
      "/tmp/ipykernel_3611834/3214146474.py:11: FutureWarning: Passing a negative integer is deprecated in version 1.0 and will not be supported in future version. Instead, use None to not limit the column width.\n",
      "  pd.set_option('max_colwidth', -1)\n"
     ]
    }
   ],
   "source": [
    "from pyspark.sql.functions import expr, udf, col, lit\n",
    "from pyspark.sql.types import *\n",
    "\n",
    "from delta.tables import *\n",
    "\n",
    "import datetime\n",
    "\n",
    "import pandas as pd\n",
    "pd.set_option('display.max_columns', None)\n",
    "pd.set_option('display.expand_frame_repr', False)\n",
    "pd.set_option('max_colwidth', -1)\n",
    "\n",
    "spark.conf.set(\"spark.sql.shuffle.partitions\", \"1\")"
   ]
  },
  {
   "cell_type": "code",
   "execution_count": 5,
   "id": "fff6891e",
   "metadata": {},
   "outputs": [],
   "source": [
    "!rm -r /tmp/delta_tutorial/*"
   ]
  },
  {
   "cell_type": "code",
   "execution_count": 6,
   "id": "a6eab8a3",
   "metadata": {},
   "outputs": [],
   "source": [
    "PARQUET_PATH=\"/tmp/delta_tutorial/parquet_table\"\n",
    "DELTA_PATH=\"/tmp/delta_tutorial/delta_table\""
   ]
  },
  {
   "cell_type": "markdown",
   "id": "728639f7",
   "metadata": {},
   "source": [
    "## 1. Data generation"
   ]
  },
  {
   "cell_type": "code",
   "execution_count": 7,
   "id": "8f1449e9",
   "metadata": {},
   "outputs": [],
   "source": [
    "raw_data = spark.range(100000) \\\n",
    "  .selectExpr(\"if(id % 2 = 0, 'Open', 'Close') as action\") \\\n",
    "  .withColumn(\"date\", expr(\"cast(concat('2021-04-', cast(rand(5) * 5 as int) + 1) as date)\")) \\\n",
    "  .withColumn(\"device_id\", expr(\"cast(rand(5) * 100 as int)\"))"
   ]
  },
  {
   "cell_type": "code",
   "execution_count": 8,
   "id": "b56f8c54",
   "metadata": {},
   "outputs": [
    {
     "data": {
      "text/html": [
       "<div>\n",
       "<style scoped>\n",
       "    .dataframe tbody tr th:only-of-type {\n",
       "        vertical-align: middle;\n",
       "    }\n",
       "\n",
       "    .dataframe tbody tr th {\n",
       "        vertical-align: top;\n",
       "    }\n",
       "\n",
       "    .dataframe thead th {\n",
       "        text-align: right;\n",
       "    }\n",
       "</style>\n",
       "<table border=\"1\" class=\"dataframe\">\n",
       "  <thead>\n",
       "    <tr style=\"text-align: right;\">\n",
       "      <th></th>\n",
       "      <th>action</th>\n",
       "      <th>date</th>\n",
       "      <th>device_id</th>\n",
       "    </tr>\n",
       "  </thead>\n",
       "  <tbody>\n",
       "    <tr>\n",
       "      <th>0</th>\n",
       "      <td>Open</td>\n",
       "      <td>2021-04-01</td>\n",
       "      <td>2</td>\n",
       "    </tr>\n",
       "    <tr>\n",
       "      <th>1</th>\n",
       "      <td>Close</td>\n",
       "      <td>2021-04-01</td>\n",
       "      <td>9</td>\n",
       "    </tr>\n",
       "    <tr>\n",
       "      <th>2</th>\n",
       "      <td>Open</td>\n",
       "      <td>2021-04-04</td>\n",
       "      <td>77</td>\n",
       "    </tr>\n",
       "    <tr>\n",
       "      <th>3</th>\n",
       "      <td>Close</td>\n",
       "      <td>2021-04-03</td>\n",
       "      <td>54</td>\n",
       "    </tr>\n",
       "    <tr>\n",
       "      <th>4</th>\n",
       "      <td>Open</td>\n",
       "      <td>2021-04-02</td>\n",
       "      <td>33</td>\n",
       "    </tr>\n",
       "  </tbody>\n",
       "</table>\n",
       "</div>"
      ],
      "text/plain": [
       "  action        date  device_id\n",
       "0  Open   2021-04-01  2        \n",
       "1  Close  2021-04-01  9        \n",
       "2  Open   2021-04-04  77       \n",
       "3  Close  2021-04-03  54       \n",
       "4  Open   2021-04-02  33       "
      ]
     },
     "metadata": {},
     "output_type": "display_data"
    }
   ],
   "source": [
    "def pretty_show(df, n=5):\n",
    "    display(df.limit(n).toPandas())\n",
    "    \n",
    "pretty_show(raw_data)"
   ]
  },
  {
   "cell_type": "markdown",
   "id": "06c12117",
   "metadata": {},
   "source": [
    "## 2. Parquet"
   ]
  },
  {
   "cell_type": "code",
   "execution_count": 9,
   "id": "5fe2e456",
   "metadata": {},
   "outputs": [
    {
     "name": "stderr",
     "output_type": "stream",
     "text": [
      "                                                                                \r"
     ]
    }
   ],
   "source": [
    "raw_data.repartition(1)\\\n",
    "    .write\\\n",
    "    .format(\"parquet\")\\\n",
    "    .save(PARQUET_PATH)"
   ]
  },
  {
   "cell_type": "code",
   "execution_count": 10,
   "id": "c4941773",
   "metadata": {},
   "outputs": [
    {
     "name": "stdout",
     "output_type": "stream",
     "text": [
      "/tmp/delta_tutorial/parquet_table:\r\n",
      "total 128K\r\n",
      "-rw-r--r-- 1 lucasmsp lucasmsp 126K abr 25 11:16 part-00000-337586c5-2c1e-495d-8149-0643f5aaa3c8-c000.snappy.parquet\r\n",
      "-rw-r--r-- 1 lucasmsp lucasmsp    0 abr 25 11:16 _SUCCESS\r\n"
     ]
    }
   ],
   "source": [
    "!ls -lhR {PARQUET_PATH}"
   ]
  },
  {
   "cell_type": "code",
   "execution_count": 11,
   "id": "a38e5f9d",
   "metadata": {},
   "outputs": [
    {
     "name": "stderr",
     "output_type": "stream",
     "text": [
      "\r",
      "[Stage 4:>                                                          (0 + 8) / 8]\r"
     ]
    },
    {
     "ename": "Py4JJavaError",
     "evalue": "An error occurred while calling o77.save.\n: org.apache.spark.SparkException: Job aborted.\n\tat org.apache.spark.sql.errors.QueryExecutionErrors$.jobAbortedError(QueryExecutionErrors.scala:496)\n\tat org.apache.spark.sql.execution.datasources.FileFormatWriter$.write(FileFormatWriter.scala:251)\n\tat org.apache.spark.sql.execution.datasources.InsertIntoHadoopFsRelationCommand.run(InsertIntoHadoopFsRelationCommand.scala:186)\n\tat org.apache.spark.sql.execution.command.DataWritingCommandExec.sideEffectResult$lzycompute(commands.scala:113)\n\tat org.apache.spark.sql.execution.command.DataWritingCommandExec.sideEffectResult(commands.scala:111)\n\tat org.apache.spark.sql.execution.command.DataWritingCommandExec.executeCollect(commands.scala:125)\n\tat org.apache.spark.sql.execution.QueryExecution$$anonfun$eagerlyExecuteCommands$1.$anonfun$applyOrElse$1(QueryExecution.scala:110)\n\tat org.apache.spark.sql.execution.SQLExecution$.$anonfun$withNewExecutionId$5(SQLExecution.scala:103)\n\tat org.apache.spark.sql.execution.SQLExecution$.withSQLConfPropagated(SQLExecution.scala:163)\n\tat org.apache.spark.sql.execution.SQLExecution$.$anonfun$withNewExecutionId$1(SQLExecution.scala:90)\n\tat org.apache.spark.sql.SparkSession.withActive(SparkSession.scala:775)\n\tat org.apache.spark.sql.execution.SQLExecution$.withNewExecutionId(SQLExecution.scala:64)\n\tat org.apache.spark.sql.execution.QueryExecution$$anonfun$eagerlyExecuteCommands$1.applyOrElse(QueryExecution.scala:110)\n\tat org.apache.spark.sql.execution.QueryExecution$$anonfun$eagerlyExecuteCommands$1.applyOrElse(QueryExecution.scala:106)\n\tat org.apache.spark.sql.catalyst.trees.TreeNode.$anonfun$transformDownWithPruning$1(TreeNode.scala:481)\n\tat org.apache.spark.sql.catalyst.trees.CurrentOrigin$.withOrigin(TreeNode.scala:82)\n\tat org.apache.spark.sql.catalyst.trees.TreeNode.transformDownWithPruning(TreeNode.scala:481)\n\tat org.apache.spark.sql.catalyst.plans.logical.LogicalPlan.org$apache$spark$sql$catalyst$plans$logical$AnalysisHelper$$super$transformDownWithPruning(LogicalPlan.scala:30)\n\tat org.apache.spark.sql.catalyst.plans.logical.AnalysisHelper.transformDownWithPruning(AnalysisHelper.scala:267)\n\tat org.apache.spark.sql.catalyst.plans.logical.AnalysisHelper.transformDownWithPruning$(AnalysisHelper.scala:263)\n\tat org.apache.spark.sql.catalyst.plans.logical.LogicalPlan.transformDownWithPruning(LogicalPlan.scala:30)\n\tat org.apache.spark.sql.catalyst.plans.logical.LogicalPlan.transformDownWithPruning(LogicalPlan.scala:30)\n\tat org.apache.spark.sql.catalyst.trees.TreeNode.transformDown(TreeNode.scala:457)\n\tat org.apache.spark.sql.execution.QueryExecution.eagerlyExecuteCommands(QueryExecution.scala:106)\n\tat org.apache.spark.sql.execution.QueryExecution.commandExecuted$lzycompute(QueryExecution.scala:93)\n\tat org.apache.spark.sql.execution.QueryExecution.commandExecuted(QueryExecution.scala:91)\n\tat org.apache.spark.sql.execution.QueryExecution.assertCommandExecuted(QueryExecution.scala:128)\n\tat org.apache.spark.sql.DataFrameWriter.runCommand(DataFrameWriter.scala:848)\n\tat org.apache.spark.sql.DataFrameWriter.saveToV1Source(DataFrameWriter.scala:382)\n\tat org.apache.spark.sql.DataFrameWriter.saveInternal(DataFrameWriter.scala:355)\n\tat org.apache.spark.sql.DataFrameWriter.save(DataFrameWriter.scala:239)\n\tat java.base/jdk.internal.reflect.NativeMethodAccessorImpl.invoke0(Native Method)\n\tat java.base/jdk.internal.reflect.NativeMethodAccessorImpl.invoke(NativeMethodAccessorImpl.java:62)\n\tat java.base/jdk.internal.reflect.DelegatingMethodAccessorImpl.invoke(DelegatingMethodAccessorImpl.java:43)\n\tat java.base/java.lang.reflect.Method.invoke(Method.java:566)\n\tat py4j.reflection.MethodInvoker.invoke(MethodInvoker.java:244)\n\tat py4j.reflection.ReflectionEngine.invoke(ReflectionEngine.java:357)\n\tat py4j.Gateway.invoke(Gateway.java:282)\n\tat py4j.commands.AbstractCommand.invokeMethod(AbstractCommand.java:132)\n\tat py4j.commands.CallCommand.execute(CallCommand.java:79)\n\tat py4j.ClientServerConnection.waitForCommands(ClientServerConnection.java:182)\n\tat py4j.ClientServerConnection.run(ClientServerConnection.java:106)\n\tat java.base/java.lang.Thread.run(Thread.java:829)\nCaused by: org.apache.spark.SparkException: Job aborted due to stage failure: Task 7 in stage 4.0 failed 1 times, most recent failure: Lost task 7.0 in stage 4.0 (TID 17) (192.168.0.209 executor driver): org.apache.spark.api.python.PythonException: Traceback (most recent call last):\n  File \"/tmp/ipykernel_3611834/3063536678.py\", line 6, in gen_error\nException: Atomicity failed\n\n\tat org.apache.spark.api.python.BasePythonRunner$ReaderIterator.handlePythonException(PythonRunner.scala:545)\n\tat org.apache.spark.sql.execution.python.PythonUDFRunner$$anon$2.read(PythonUDFRunner.scala:86)\n\tat org.apache.spark.sql.execution.python.PythonUDFRunner$$anon$2.read(PythonUDFRunner.scala:68)\n\tat org.apache.spark.api.python.BasePythonRunner$ReaderIterator.hasNext(PythonRunner.scala:498)\n\tat org.apache.spark.InterruptibleIterator.hasNext(InterruptibleIterator.scala:37)\n\tat scala.collection.Iterator$$anon$11.hasNext(Iterator.scala:491)\n\tat scala.collection.Iterator$$anon$10.hasNext(Iterator.scala:460)\n\tat scala.collection.Iterator$$anon$10.hasNext(Iterator.scala:460)\n\tat org.apache.spark.sql.catalyst.expressions.GeneratedClass$GeneratedIteratorForCodegenStage2.processNext(Unknown Source)\n\tat org.apache.spark.sql.execution.BufferedRowIterator.hasNext(BufferedRowIterator.java:43)\n\tat org.apache.spark.sql.execution.WholeStageCodegenExec$$anon$1.hasNext(WholeStageCodegenExec.scala:759)\n\tat scala.collection.Iterator$$anon$10.hasNext(Iterator.scala:460)\n\tat org.apache.spark.shuffle.sort.BypassMergeSortShuffleWriter.write(BypassMergeSortShuffleWriter.java:140)\n\tat org.apache.spark.shuffle.ShuffleWriteProcessor.write(ShuffleWriteProcessor.scala:59)\n\tat org.apache.spark.scheduler.ShuffleMapTask.runTask(ShuffleMapTask.scala:99)\n\tat org.apache.spark.scheduler.ShuffleMapTask.runTask(ShuffleMapTask.scala:52)\n\tat org.apache.spark.scheduler.Task.run(Task.scala:131)\n\tat org.apache.spark.executor.Executor$TaskRunner.$anonfun$run$3(Executor.scala:506)\n\tat org.apache.spark.util.Utils$.tryWithSafeFinally(Utils.scala:1462)\n\tat org.apache.spark.executor.Executor$TaskRunner.run(Executor.scala:509)\n\tat java.base/java.util.concurrent.ThreadPoolExecutor.runWorker(ThreadPoolExecutor.java:1128)\n\tat java.base/java.util.concurrent.ThreadPoolExecutor$Worker.run(ThreadPoolExecutor.java:628)\n\tat java.base/java.lang.Thread.run(Thread.java:829)\n\nDriver stacktrace:\n\tat org.apache.spark.scheduler.DAGScheduler.failJobAndIndependentStages(DAGScheduler.scala:2403)\n\tat org.apache.spark.scheduler.DAGScheduler.$anonfun$abortStage$2(DAGScheduler.scala:2352)\n\tat org.apache.spark.scheduler.DAGScheduler.$anonfun$abortStage$2$adapted(DAGScheduler.scala:2351)\n\tat scala.collection.mutable.ResizableArray.foreach(ResizableArray.scala:62)\n\tat scala.collection.mutable.ResizableArray.foreach$(ResizableArray.scala:55)\n\tat scala.collection.mutable.ArrayBuffer.foreach(ArrayBuffer.scala:49)\n\tat org.apache.spark.scheduler.DAGScheduler.abortStage(DAGScheduler.scala:2351)\n\tat org.apache.spark.scheduler.DAGScheduler.$anonfun$handleTaskSetFailed$1(DAGScheduler.scala:1109)\n\tat org.apache.spark.scheduler.DAGScheduler.$anonfun$handleTaskSetFailed$1$adapted(DAGScheduler.scala:1109)\n\tat scala.Option.foreach(Option.scala:407)\n\tat org.apache.spark.scheduler.DAGScheduler.handleTaskSetFailed(DAGScheduler.scala:1109)\n\tat org.apache.spark.scheduler.DAGSchedulerEventProcessLoop.doOnReceive(DAGScheduler.scala:2591)\n\tat org.apache.spark.scheduler.DAGSchedulerEventProcessLoop.onReceive(DAGScheduler.scala:2533)\n\tat org.apache.spark.scheduler.DAGSchedulerEventProcessLoop.onReceive(DAGScheduler.scala:2522)\n\tat org.apache.spark.util.EventLoop$$anon$1.run(EventLoop.scala:49)\nCaused by: org.apache.spark.api.python.PythonException: Traceback (most recent call last):\n  File \"/tmp/ipykernel_3611834/3063536678.py\", line 6, in gen_error\nException: Atomicity failed\n\n\tat org.apache.spark.api.python.BasePythonRunner$ReaderIterator.handlePythonException(PythonRunner.scala:545)\n\tat org.apache.spark.sql.execution.python.PythonUDFRunner$$anon$2.read(PythonUDFRunner.scala:86)\n\tat org.apache.spark.sql.execution.python.PythonUDFRunner$$anon$2.read(PythonUDFRunner.scala:68)\n\tat org.apache.spark.api.python.BasePythonRunner$ReaderIterator.hasNext(PythonRunner.scala:498)\n\tat org.apache.spark.InterruptibleIterator.hasNext(InterruptibleIterator.scala:37)\n\tat scala.collection.Iterator$$anon$11.hasNext(Iterator.scala:491)\n\tat scala.collection.Iterator$$anon$10.hasNext(Iterator.scala:460)\n\tat scala.collection.Iterator$$anon$10.hasNext(Iterator.scala:460)\n\tat org.apache.spark.sql.catalyst.expressions.GeneratedClass$GeneratedIteratorForCodegenStage2.processNext(Unknown Source)\n\tat org.apache.spark.sql.execution.BufferedRowIterator.hasNext(BufferedRowIterator.java:43)\n\tat org.apache.spark.sql.execution.WholeStageCodegenExec$$anon$1.hasNext(WholeStageCodegenExec.scala:759)\n\tat scala.collection.Iterator$$anon$10.hasNext(Iterator.scala:460)\n\tat org.apache.spark.shuffle.sort.BypassMergeSortShuffleWriter.write(BypassMergeSortShuffleWriter.java:140)\n\tat org.apache.spark.shuffle.ShuffleWriteProcessor.write(ShuffleWriteProcessor.scala:59)\n\tat org.apache.spark.scheduler.ShuffleMapTask.runTask(ShuffleMapTask.scala:99)\n\tat org.apache.spark.scheduler.ShuffleMapTask.runTask(ShuffleMapTask.scala:52)\n\tat org.apache.spark.scheduler.Task.run(Task.scala:131)\n\tat org.apache.spark.executor.Executor$TaskRunner.$anonfun$run$3(Executor.scala:506)\n\tat org.apache.spark.util.Utils$.tryWithSafeFinally(Utils.scala:1462)\n\tat org.apache.spark.executor.Executor$TaskRunner.run(Executor.scala:509)\n\tat java.base/java.util.concurrent.ThreadPoolExecutor.runWorker(ThreadPoolExecutor.java:1128)\n\tat java.base/java.util.concurrent.ThreadPoolExecutor$Worker.run(ThreadPoolExecutor.java:628)\n\tat java.base/java.lang.Thread.run(Thread.java:829)\n",
     "output_type": "error",
     "traceback": [
      "\u001b[0;31m---------------------------------------------------------------------------\u001b[0m",
      "\u001b[0;31mPy4JJavaError\u001b[0m                             Traceback (most recent call last)",
      "Input \u001b[0;32mIn [11]\u001b[0m, in \u001b[0;36m<module>\u001b[0;34m\u001b[0m\n\u001b[1;32m      6\u001b[0m         \u001b[38;5;28;01mraise\u001b[39;00m \u001b[38;5;167;01mException\u001b[39;00m(\u001b[38;5;124m\"\u001b[39m\u001b[38;5;124mAtomicity failed\u001b[39m\u001b[38;5;124m\"\u001b[39m)\n\u001b[1;32m      9\u001b[0m \u001b[38;5;66;03m# spark.read.parquet(PARQUET_PATH)\\\u001b[39;00m\n\u001b[1;32m     10\u001b[0m \u001b[38;5;66;03m#     .withColumn('action', gen_error(col(\"device_id\")))\\\u001b[39;00m\n\u001b[1;32m     11\u001b[0m \u001b[38;5;66;03m#     .write.parquet(PARQUET_PATH, mode=\"overwrite\")\u001b[39;00m\n\u001b[0;32m---> 13\u001b[0m \u001b[43mraw_data\u001b[49m\u001b[43m\\\u001b[49m\n\u001b[1;32m     14\u001b[0m \u001b[43m    \u001b[49m\u001b[38;5;241;43m.\u001b[39;49m\u001b[43mwithColumn\u001b[49m\u001b[43m(\u001b[49m\u001b[38;5;124;43m'\u001b[39;49m\u001b[38;5;124;43maction\u001b[39;49m\u001b[38;5;124;43m'\u001b[39;49m\u001b[43m,\u001b[49m\u001b[43m \u001b[49m\u001b[43mgen_error\u001b[49m\u001b[43m(\u001b[49m\u001b[43mcol\u001b[49m\u001b[43m(\u001b[49m\u001b[38;5;124;43m\"\u001b[39;49m\u001b[38;5;124;43mdevice_id\u001b[39;49m\u001b[38;5;124;43m\"\u001b[39;49m\u001b[43m)\u001b[49m\u001b[43m)\u001b[49m\u001b[43m)\u001b[49m\u001b[43m\\\u001b[49m\n\u001b[1;32m     15\u001b[0m \u001b[43m    \u001b[49m\u001b[38;5;241;43m.\u001b[39;49m\u001b[43mrepartition\u001b[49m\u001b[43m(\u001b[49m\u001b[38;5;241;43m1\u001b[39;49m\u001b[43m)\u001b[49m\u001b[43m\\\u001b[49m\n\u001b[1;32m     16\u001b[0m \u001b[43m    \u001b[49m\u001b[38;5;241;43m.\u001b[39;49m\u001b[43mwrite\u001b[49m\u001b[38;5;241;43m.\u001b[39;49m\u001b[43mformat\u001b[49m\u001b[43m(\u001b[49m\u001b[38;5;124;43m\"\u001b[39;49m\u001b[38;5;124;43mparquet\u001b[39;49m\u001b[38;5;124;43m\"\u001b[39;49m\u001b[43m)\u001b[49m\u001b[38;5;241;43m.\u001b[39;49m\u001b[43mmode\u001b[49m\u001b[43m(\u001b[49m\u001b[38;5;124;43m\"\u001b[39;49m\u001b[38;5;124;43moverwrite\u001b[39;49m\u001b[38;5;124;43m\"\u001b[39;49m\u001b[43m)\u001b[49m\u001b[38;5;241;43m.\u001b[39;49m\u001b[43msave\u001b[49m\u001b[43m(\u001b[49m\u001b[43mPARQUET_PATH\u001b[49m\u001b[43m)\u001b[49m\n",
      "File \u001b[0;32m/opt/spark/python/pyspark/sql/readwriter.py:740\u001b[0m, in \u001b[0;36mDataFrameWriter.save\u001b[0;34m(self, path, format, mode, partitionBy, **options)\u001b[0m\n\u001b[1;32m    738\u001b[0m     \u001b[38;5;28mself\u001b[39m\u001b[38;5;241m.\u001b[39m_jwrite\u001b[38;5;241m.\u001b[39msave()\n\u001b[1;32m    739\u001b[0m \u001b[38;5;28;01melse\u001b[39;00m:\n\u001b[0;32m--> 740\u001b[0m     \u001b[38;5;28;43mself\u001b[39;49m\u001b[38;5;241;43m.\u001b[39;49m\u001b[43m_jwrite\u001b[49m\u001b[38;5;241;43m.\u001b[39;49m\u001b[43msave\u001b[49m\u001b[43m(\u001b[49m\u001b[43mpath\u001b[49m\u001b[43m)\u001b[49m\n",
      "File \u001b[0;32m/opt/spark/python/lib/py4j-0.10.9.2-src.zip/py4j/java_gateway.py:1309\u001b[0m, in \u001b[0;36mJavaMember.__call__\u001b[0;34m(self, *args)\u001b[0m\n\u001b[1;32m   1303\u001b[0m command \u001b[38;5;241m=\u001b[39m proto\u001b[38;5;241m.\u001b[39mCALL_COMMAND_NAME \u001b[38;5;241m+\u001b[39m\\\n\u001b[1;32m   1304\u001b[0m     \u001b[38;5;28mself\u001b[39m\u001b[38;5;241m.\u001b[39mcommand_header \u001b[38;5;241m+\u001b[39m\\\n\u001b[1;32m   1305\u001b[0m     args_command \u001b[38;5;241m+\u001b[39m\\\n\u001b[1;32m   1306\u001b[0m     proto\u001b[38;5;241m.\u001b[39mEND_COMMAND_PART\n\u001b[1;32m   1308\u001b[0m answer \u001b[38;5;241m=\u001b[39m \u001b[38;5;28mself\u001b[39m\u001b[38;5;241m.\u001b[39mgateway_client\u001b[38;5;241m.\u001b[39msend_command(command)\n\u001b[0;32m-> 1309\u001b[0m return_value \u001b[38;5;241m=\u001b[39m \u001b[43mget_return_value\u001b[49m\u001b[43m(\u001b[49m\n\u001b[1;32m   1310\u001b[0m \u001b[43m    \u001b[49m\u001b[43manswer\u001b[49m\u001b[43m,\u001b[49m\u001b[43m \u001b[49m\u001b[38;5;28;43mself\u001b[39;49m\u001b[38;5;241;43m.\u001b[39;49m\u001b[43mgateway_client\u001b[49m\u001b[43m,\u001b[49m\u001b[43m \u001b[49m\u001b[38;5;28;43mself\u001b[39;49m\u001b[38;5;241;43m.\u001b[39;49m\u001b[43mtarget_id\u001b[49m\u001b[43m,\u001b[49m\u001b[43m \u001b[49m\u001b[38;5;28;43mself\u001b[39;49m\u001b[38;5;241;43m.\u001b[39;49m\u001b[43mname\u001b[49m\u001b[43m)\u001b[49m\n\u001b[1;32m   1312\u001b[0m \u001b[38;5;28;01mfor\u001b[39;00m temp_arg \u001b[38;5;129;01min\u001b[39;00m temp_args:\n\u001b[1;32m   1313\u001b[0m     temp_arg\u001b[38;5;241m.\u001b[39m_detach()\n",
      "File \u001b[0;32m/opt/spark/python/pyspark/sql/utils.py:111\u001b[0m, in \u001b[0;36mcapture_sql_exception.<locals>.deco\u001b[0;34m(*a, **kw)\u001b[0m\n\u001b[1;32m    109\u001b[0m \u001b[38;5;28;01mdef\u001b[39;00m \u001b[38;5;21mdeco\u001b[39m(\u001b[38;5;241m*\u001b[39ma, \u001b[38;5;241m*\u001b[39m\u001b[38;5;241m*\u001b[39mkw):\n\u001b[1;32m    110\u001b[0m     \u001b[38;5;28;01mtry\u001b[39;00m:\n\u001b[0;32m--> 111\u001b[0m         \u001b[38;5;28;01mreturn\u001b[39;00m \u001b[43mf\u001b[49m\u001b[43m(\u001b[49m\u001b[38;5;241;43m*\u001b[39;49m\u001b[43ma\u001b[49m\u001b[43m,\u001b[49m\u001b[43m \u001b[49m\u001b[38;5;241;43m*\u001b[39;49m\u001b[38;5;241;43m*\u001b[39;49m\u001b[43mkw\u001b[49m\u001b[43m)\u001b[49m\n\u001b[1;32m    112\u001b[0m     \u001b[38;5;28;01mexcept\u001b[39;00m py4j\u001b[38;5;241m.\u001b[39mprotocol\u001b[38;5;241m.\u001b[39mPy4JJavaError \u001b[38;5;28;01mas\u001b[39;00m e:\n\u001b[1;32m    113\u001b[0m         converted \u001b[38;5;241m=\u001b[39m convert_exception(e\u001b[38;5;241m.\u001b[39mjava_exception)\n",
      "File \u001b[0;32m/opt/spark/python/lib/py4j-0.10.9.2-src.zip/py4j/protocol.py:326\u001b[0m, in \u001b[0;36mget_return_value\u001b[0;34m(answer, gateway_client, target_id, name)\u001b[0m\n\u001b[1;32m    324\u001b[0m value \u001b[38;5;241m=\u001b[39m OUTPUT_CONVERTER[\u001b[38;5;28mtype\u001b[39m](answer[\u001b[38;5;241m2\u001b[39m:], gateway_client)\n\u001b[1;32m    325\u001b[0m \u001b[38;5;28;01mif\u001b[39;00m answer[\u001b[38;5;241m1\u001b[39m] \u001b[38;5;241m==\u001b[39m REFERENCE_TYPE:\n\u001b[0;32m--> 326\u001b[0m     \u001b[38;5;28;01mraise\u001b[39;00m Py4JJavaError(\n\u001b[1;32m    327\u001b[0m         \u001b[38;5;124m\"\u001b[39m\u001b[38;5;124mAn error occurred while calling \u001b[39m\u001b[38;5;132;01m{0}\u001b[39;00m\u001b[38;5;132;01m{1}\u001b[39;00m\u001b[38;5;132;01m{2}\u001b[39;00m\u001b[38;5;124m.\u001b[39m\u001b[38;5;130;01m\\n\u001b[39;00m\u001b[38;5;124m\"\u001b[39m\u001b[38;5;241m.\u001b[39m\n\u001b[1;32m    328\u001b[0m         \u001b[38;5;28mformat\u001b[39m(target_id, \u001b[38;5;124m\"\u001b[39m\u001b[38;5;124m.\u001b[39m\u001b[38;5;124m\"\u001b[39m, name), value)\n\u001b[1;32m    329\u001b[0m \u001b[38;5;28;01melse\u001b[39;00m:\n\u001b[1;32m    330\u001b[0m     \u001b[38;5;28;01mraise\u001b[39;00m Py4JError(\n\u001b[1;32m    331\u001b[0m         \u001b[38;5;124m\"\u001b[39m\u001b[38;5;124mAn error occurred while calling \u001b[39m\u001b[38;5;132;01m{0}\u001b[39;00m\u001b[38;5;132;01m{1}\u001b[39;00m\u001b[38;5;132;01m{2}\u001b[39;00m\u001b[38;5;124m. Trace:\u001b[39m\u001b[38;5;130;01m\\n\u001b[39;00m\u001b[38;5;132;01m{3}\u001b[39;00m\u001b[38;5;130;01m\\n\u001b[39;00m\u001b[38;5;124m\"\u001b[39m\u001b[38;5;241m.\u001b[39m\n\u001b[1;32m    332\u001b[0m         \u001b[38;5;28mformat\u001b[39m(target_id, \u001b[38;5;124m\"\u001b[39m\u001b[38;5;124m.\u001b[39m\u001b[38;5;124m\"\u001b[39m, name, value))\n",
      "\u001b[0;31mPy4JJavaError\u001b[0m: An error occurred while calling o77.save.\n: org.apache.spark.SparkException: Job aborted.\n\tat org.apache.spark.sql.errors.QueryExecutionErrors$.jobAbortedError(QueryExecutionErrors.scala:496)\n\tat org.apache.spark.sql.execution.datasources.FileFormatWriter$.write(FileFormatWriter.scala:251)\n\tat org.apache.spark.sql.execution.datasources.InsertIntoHadoopFsRelationCommand.run(InsertIntoHadoopFsRelationCommand.scala:186)\n\tat org.apache.spark.sql.execution.command.DataWritingCommandExec.sideEffectResult$lzycompute(commands.scala:113)\n\tat org.apache.spark.sql.execution.command.DataWritingCommandExec.sideEffectResult(commands.scala:111)\n\tat org.apache.spark.sql.execution.command.DataWritingCommandExec.executeCollect(commands.scala:125)\n\tat org.apache.spark.sql.execution.QueryExecution$$anonfun$eagerlyExecuteCommands$1.$anonfun$applyOrElse$1(QueryExecution.scala:110)\n\tat org.apache.spark.sql.execution.SQLExecution$.$anonfun$withNewExecutionId$5(SQLExecution.scala:103)\n\tat org.apache.spark.sql.execution.SQLExecution$.withSQLConfPropagated(SQLExecution.scala:163)\n\tat org.apache.spark.sql.execution.SQLExecution$.$anonfun$withNewExecutionId$1(SQLExecution.scala:90)\n\tat org.apache.spark.sql.SparkSession.withActive(SparkSession.scala:775)\n\tat org.apache.spark.sql.execution.SQLExecution$.withNewExecutionId(SQLExecution.scala:64)\n\tat org.apache.spark.sql.execution.QueryExecution$$anonfun$eagerlyExecuteCommands$1.applyOrElse(QueryExecution.scala:110)\n\tat org.apache.spark.sql.execution.QueryExecution$$anonfun$eagerlyExecuteCommands$1.applyOrElse(QueryExecution.scala:106)\n\tat org.apache.spark.sql.catalyst.trees.TreeNode.$anonfun$transformDownWithPruning$1(TreeNode.scala:481)\n\tat org.apache.spark.sql.catalyst.trees.CurrentOrigin$.withOrigin(TreeNode.scala:82)\n\tat org.apache.spark.sql.catalyst.trees.TreeNode.transformDownWithPruning(TreeNode.scala:481)\n\tat org.apache.spark.sql.catalyst.plans.logical.LogicalPlan.org$apache$spark$sql$catalyst$plans$logical$AnalysisHelper$$super$transformDownWithPruning(LogicalPlan.scala:30)\n\tat org.apache.spark.sql.catalyst.plans.logical.AnalysisHelper.transformDownWithPruning(AnalysisHelper.scala:267)\n\tat org.apache.spark.sql.catalyst.plans.logical.AnalysisHelper.transformDownWithPruning$(AnalysisHelper.scala:263)\n\tat org.apache.spark.sql.catalyst.plans.logical.LogicalPlan.transformDownWithPruning(LogicalPlan.scala:30)\n\tat org.apache.spark.sql.catalyst.plans.logical.LogicalPlan.transformDownWithPruning(LogicalPlan.scala:30)\n\tat org.apache.spark.sql.catalyst.trees.TreeNode.transformDown(TreeNode.scala:457)\n\tat org.apache.spark.sql.execution.QueryExecution.eagerlyExecuteCommands(QueryExecution.scala:106)\n\tat org.apache.spark.sql.execution.QueryExecution.commandExecuted$lzycompute(QueryExecution.scala:93)\n\tat org.apache.spark.sql.execution.QueryExecution.commandExecuted(QueryExecution.scala:91)\n\tat org.apache.spark.sql.execution.QueryExecution.assertCommandExecuted(QueryExecution.scala:128)\n\tat org.apache.spark.sql.DataFrameWriter.runCommand(DataFrameWriter.scala:848)\n\tat org.apache.spark.sql.DataFrameWriter.saveToV1Source(DataFrameWriter.scala:382)\n\tat org.apache.spark.sql.DataFrameWriter.saveInternal(DataFrameWriter.scala:355)\n\tat org.apache.spark.sql.DataFrameWriter.save(DataFrameWriter.scala:239)\n\tat java.base/jdk.internal.reflect.NativeMethodAccessorImpl.invoke0(Native Method)\n\tat java.base/jdk.internal.reflect.NativeMethodAccessorImpl.invoke(NativeMethodAccessorImpl.java:62)\n\tat java.base/jdk.internal.reflect.DelegatingMethodAccessorImpl.invoke(DelegatingMethodAccessorImpl.java:43)\n\tat java.base/java.lang.reflect.Method.invoke(Method.java:566)\n\tat py4j.reflection.MethodInvoker.invoke(MethodInvoker.java:244)\n\tat py4j.reflection.ReflectionEngine.invoke(ReflectionEngine.java:357)\n\tat py4j.Gateway.invoke(Gateway.java:282)\n\tat py4j.commands.AbstractCommand.invokeMethod(AbstractCommand.java:132)\n\tat py4j.commands.CallCommand.execute(CallCommand.java:79)\n\tat py4j.ClientServerConnection.waitForCommands(ClientServerConnection.java:182)\n\tat py4j.ClientServerConnection.run(ClientServerConnection.java:106)\n\tat java.base/java.lang.Thread.run(Thread.java:829)\nCaused by: org.apache.spark.SparkException: Job aborted due to stage failure: Task 7 in stage 4.0 failed 1 times, most recent failure: Lost task 7.0 in stage 4.0 (TID 17) (192.168.0.209 executor driver): org.apache.spark.api.python.PythonException: Traceback (most recent call last):\n  File \"/tmp/ipykernel_3611834/3063536678.py\", line 6, in gen_error\nException: Atomicity failed\n\n\tat org.apache.spark.api.python.BasePythonRunner$ReaderIterator.handlePythonException(PythonRunner.scala:545)\n\tat org.apache.spark.sql.execution.python.PythonUDFRunner$$anon$2.read(PythonUDFRunner.scala:86)\n\tat org.apache.spark.sql.execution.python.PythonUDFRunner$$anon$2.read(PythonUDFRunner.scala:68)\n\tat org.apache.spark.api.python.BasePythonRunner$ReaderIterator.hasNext(PythonRunner.scala:498)\n\tat org.apache.spark.InterruptibleIterator.hasNext(InterruptibleIterator.scala:37)\n\tat scala.collection.Iterator$$anon$11.hasNext(Iterator.scala:491)\n\tat scala.collection.Iterator$$anon$10.hasNext(Iterator.scala:460)\n\tat scala.collection.Iterator$$anon$10.hasNext(Iterator.scala:460)\n\tat org.apache.spark.sql.catalyst.expressions.GeneratedClass$GeneratedIteratorForCodegenStage2.processNext(Unknown Source)\n\tat org.apache.spark.sql.execution.BufferedRowIterator.hasNext(BufferedRowIterator.java:43)\n\tat org.apache.spark.sql.execution.WholeStageCodegenExec$$anon$1.hasNext(WholeStageCodegenExec.scala:759)\n\tat scala.collection.Iterator$$anon$10.hasNext(Iterator.scala:460)\n\tat org.apache.spark.shuffle.sort.BypassMergeSortShuffleWriter.write(BypassMergeSortShuffleWriter.java:140)\n\tat org.apache.spark.shuffle.ShuffleWriteProcessor.write(ShuffleWriteProcessor.scala:59)\n\tat org.apache.spark.scheduler.ShuffleMapTask.runTask(ShuffleMapTask.scala:99)\n\tat org.apache.spark.scheduler.ShuffleMapTask.runTask(ShuffleMapTask.scala:52)\n\tat org.apache.spark.scheduler.Task.run(Task.scala:131)\n\tat org.apache.spark.executor.Executor$TaskRunner.$anonfun$run$3(Executor.scala:506)\n\tat org.apache.spark.util.Utils$.tryWithSafeFinally(Utils.scala:1462)\n\tat org.apache.spark.executor.Executor$TaskRunner.run(Executor.scala:509)\n\tat java.base/java.util.concurrent.ThreadPoolExecutor.runWorker(ThreadPoolExecutor.java:1128)\n\tat java.base/java.util.concurrent.ThreadPoolExecutor$Worker.run(ThreadPoolExecutor.java:628)\n\tat java.base/java.lang.Thread.run(Thread.java:829)\n\nDriver stacktrace:\n\tat org.apache.spark.scheduler.DAGScheduler.failJobAndIndependentStages(DAGScheduler.scala:2403)\n\tat org.apache.spark.scheduler.DAGScheduler.$anonfun$abortStage$2(DAGScheduler.scala:2352)\n\tat org.apache.spark.scheduler.DAGScheduler.$anonfun$abortStage$2$adapted(DAGScheduler.scala:2351)\n\tat scala.collection.mutable.ResizableArray.foreach(ResizableArray.scala:62)\n\tat scala.collection.mutable.ResizableArray.foreach$(ResizableArray.scala:55)\n\tat scala.collection.mutable.ArrayBuffer.foreach(ArrayBuffer.scala:49)\n\tat org.apache.spark.scheduler.DAGScheduler.abortStage(DAGScheduler.scala:2351)\n\tat org.apache.spark.scheduler.DAGScheduler.$anonfun$handleTaskSetFailed$1(DAGScheduler.scala:1109)\n\tat org.apache.spark.scheduler.DAGScheduler.$anonfun$handleTaskSetFailed$1$adapted(DAGScheduler.scala:1109)\n\tat scala.Option.foreach(Option.scala:407)\n\tat org.apache.spark.scheduler.DAGScheduler.handleTaskSetFailed(DAGScheduler.scala:1109)\n\tat org.apache.spark.scheduler.DAGSchedulerEventProcessLoop.doOnReceive(DAGScheduler.scala:2591)\n\tat org.apache.spark.scheduler.DAGSchedulerEventProcessLoop.onReceive(DAGScheduler.scala:2533)\n\tat org.apache.spark.scheduler.DAGSchedulerEventProcessLoop.onReceive(DAGScheduler.scala:2522)\n\tat org.apache.spark.util.EventLoop$$anon$1.run(EventLoop.scala:49)\nCaused by: org.apache.spark.api.python.PythonException: Traceback (most recent call last):\n  File \"/tmp/ipykernel_3611834/3063536678.py\", line 6, in gen_error\nException: Atomicity failed\n\n\tat org.apache.spark.api.python.BasePythonRunner$ReaderIterator.handlePythonException(PythonRunner.scala:545)\n\tat org.apache.spark.sql.execution.python.PythonUDFRunner$$anon$2.read(PythonUDFRunner.scala:86)\n\tat org.apache.spark.sql.execution.python.PythonUDFRunner$$anon$2.read(PythonUDFRunner.scala:68)\n\tat org.apache.spark.api.python.BasePythonRunner$ReaderIterator.hasNext(PythonRunner.scala:498)\n\tat org.apache.spark.InterruptibleIterator.hasNext(InterruptibleIterator.scala:37)\n\tat scala.collection.Iterator$$anon$11.hasNext(Iterator.scala:491)\n\tat scala.collection.Iterator$$anon$10.hasNext(Iterator.scala:460)\n\tat scala.collection.Iterator$$anon$10.hasNext(Iterator.scala:460)\n\tat org.apache.spark.sql.catalyst.expressions.GeneratedClass$GeneratedIteratorForCodegenStage2.processNext(Unknown Source)\n\tat org.apache.spark.sql.execution.BufferedRowIterator.hasNext(BufferedRowIterator.java:43)\n\tat org.apache.spark.sql.execution.WholeStageCodegenExec$$anon$1.hasNext(WholeStageCodegenExec.scala:759)\n\tat scala.collection.Iterator$$anon$10.hasNext(Iterator.scala:460)\n\tat org.apache.spark.shuffle.sort.BypassMergeSortShuffleWriter.write(BypassMergeSortShuffleWriter.java:140)\n\tat org.apache.spark.shuffle.ShuffleWriteProcessor.write(ShuffleWriteProcessor.scala:59)\n\tat org.apache.spark.scheduler.ShuffleMapTask.runTask(ShuffleMapTask.scala:99)\n\tat org.apache.spark.scheduler.ShuffleMapTask.runTask(ShuffleMapTask.scala:52)\n\tat org.apache.spark.scheduler.Task.run(Task.scala:131)\n\tat org.apache.spark.executor.Executor$TaskRunner.$anonfun$run$3(Executor.scala:506)\n\tat org.apache.spark.util.Utils$.tryWithSafeFinally(Utils.scala:1462)\n\tat org.apache.spark.executor.Executor$TaskRunner.run(Executor.scala:509)\n\tat java.base/java.util.concurrent.ThreadPoolExecutor.runWorker(ThreadPoolExecutor.java:1128)\n\tat java.base/java.util.concurrent.ThreadPoolExecutor$Worker.run(ThreadPoolExecutor.java:628)\n\tat java.base/java.lang.Thread.run(Thread.java:829)\n"
     ]
    }
   ],
   "source": [
    "@udf\n",
    "def gen_error(x):\n",
    "    if x<=50:\n",
    "        return \"Closed\" \n",
    "    else:\n",
    "        raise Exception(\"Atomicity failed\")\n",
    "\n",
    "    \n",
    "# spark.read.parquet(PARQUET_PATH)\\\n",
    "#     .withColumn('action', gen_error(col(\"device_id\")))\\\n",
    "#     .write.parquet(PARQUET_PATH, mode=\"overwrite\")\n",
    "\n",
    "raw_data\\\n",
    "    .withColumn('action', gen_error(col(\"device_id\")))\\\n",
    "    .repartition(1)\\\n",
    "    .write.format(\"parquet\").mode(\"overwrite\").save(PARQUET_PATH)"
   ]
  },
  {
   "cell_type": "code",
   "execution_count": 12,
   "id": "5f68bfa2",
   "metadata": {},
   "outputs": [
    {
     "name": "stdout",
     "output_type": "stream",
     "text": [
      "/tmp/delta_tutorial/parquet_table:\r\n",
      "total 0\r\n"
     ]
    }
   ],
   "source": [
    "!ls -lhR {PARQUET_PATH}"
   ]
  },
  {
   "cell_type": "markdown",
   "id": "722729da",
   "metadata": {},
   "source": [
    "## 3. Delta Lake"
   ]
  },
  {
   "cell_type": "code",
   "execution_count": 13,
   "id": "168d9fbb",
   "metadata": {},
   "outputs": [
    {
     "name": "stderr",
     "output_type": "stream",
     "text": [
      "                                                                                \r"
     ]
    }
   ],
   "source": [
    "raw_data\\\n",
    "    .repartition(1)\\\n",
    "    .write\\\n",
    "    .format(\"delta\")\\\n",
    "    .mode(\"overwrite\")\\\n",
    "    .save(DELTA_PATH)"
   ]
  },
  {
   "cell_type": "code",
   "execution_count": 14,
   "id": "4e83d141",
   "metadata": {},
   "outputs": [
    {
     "name": "stdout",
     "output_type": "stream",
     "text": [
      "/tmp/delta_tutorial/delta_table:\r\n",
      "total 132K\r\n",
      "drwxr-xr-x 2 lucasmsp lucasmsp 4,0K abr 25 11:16 _delta_log\r\n",
      "-rw-r--r-- 1 lucasmsp lucasmsp 126K abr 25 11:16 part-00000-45d36500-f9ba-4a4a-9cec-907d2a1ca41a-c000.snappy.parquet\r\n",
      "\r\n",
      "/tmp/delta_tutorial/delta_table/_delta_log:\r\n",
      "total 4,0K\r\n",
      "-rw-r--r-- 1 lucasmsp lucasmsp 1,3K abr 25 11:16 00000000000000000000.json\r\n"
     ]
    }
   ],
   "source": [
    "!ls -lhR {DELTA_PATH}"
   ]
  },
  {
   "cell_type": "code",
   "execution_count": 15,
   "id": "dc00b961",
   "metadata": {},
   "outputs": [
    {
     "name": "stdout",
     "output_type": "stream",
     "text": [
      "\u001b[1;39m{\r\n",
      "  \u001b[0m\u001b[34;1m\"protocol\"\u001b[0m\u001b[1;39m: \u001b[0m\u001b[1;39m{\r\n",
      "    \u001b[0m\u001b[34;1m\"minReaderVersion\"\u001b[0m\u001b[1;39m: \u001b[0m\u001b[0;39m1\u001b[0m\u001b[1;39m,\r\n",
      "    \u001b[0m\u001b[34;1m\"minWriterVersion\"\u001b[0m\u001b[1;39m: \u001b[0m\u001b[0;39m2\u001b[0m\u001b[1;39m\r\n",
      "  \u001b[1;39m}\u001b[0m\u001b[1;39m\r\n",
      "\u001b[1;39m}\u001b[0m\r\n",
      "\u001b[1;39m{\r\n",
      "  \u001b[0m\u001b[34;1m\"metaData\"\u001b[0m\u001b[1;39m: \u001b[0m\u001b[1;39m{\r\n",
      "    \u001b[0m\u001b[34;1m\"id\"\u001b[0m\u001b[1;39m: \u001b[0m\u001b[0;32m\"33217047-13d2-4f2d-9160-f3d4daa2b57f\"\u001b[0m\u001b[1;39m,\r\n",
      "    \u001b[0m\u001b[34;1m\"format\"\u001b[0m\u001b[1;39m: \u001b[0m\u001b[1;39m{\r\n",
      "      \u001b[0m\u001b[34;1m\"provider\"\u001b[0m\u001b[1;39m: \u001b[0m\u001b[0;32m\"parquet\"\u001b[0m\u001b[1;39m,\r\n",
      "      \u001b[0m\u001b[34;1m\"options\"\u001b[0m\u001b[1;39m: \u001b[0m\u001b[1;39m{}\u001b[0m\u001b[1;39m\r\n",
      "    \u001b[1;39m}\u001b[0m\u001b[1;39m,\r\n",
      "    \u001b[0m\u001b[34;1m\"schemaString\"\u001b[0m\u001b[1;39m: \u001b[0m\u001b[0;32m\"{\\\"type\\\":\\\"struct\\\",\\\"fields\\\":[{\\\"name\\\":\\\"action\\\",\\\"type\\\":\\\"string\\\",\\\"nullable\\\":true,\\\"metadata\\\":{}},{\\\"name\\\":\\\"date\\\",\\\"type\\\":\\\"date\\\",\\\"nullable\\\":true,\\\"metadata\\\":{}},{\\\"name\\\":\\\"device_id\\\",\\\"type\\\":\\\"integer\\\",\\\"nullable\\\":true,\\\"metadata\\\":{}}]}\"\u001b[0m\u001b[1;39m,\r\n",
      "    \u001b[0m\u001b[34;1m\"partitionColumns\"\u001b[0m\u001b[1;39m: \u001b[0m\u001b[1;39m[]\u001b[0m\u001b[1;39m,\r\n",
      "    \u001b[0m\u001b[34;1m\"configuration\"\u001b[0m\u001b[1;39m: \u001b[0m\u001b[1;39m{}\u001b[0m\u001b[1;39m,\r\n",
      "    \u001b[0m\u001b[34;1m\"createdTime\"\u001b[0m\u001b[1;39m: \u001b[0m\u001b[0;39m1650896185016\u001b[0m\u001b[1;39m\r\n",
      "  \u001b[1;39m}\u001b[0m\u001b[1;39m\r\n",
      "\u001b[1;39m}\u001b[0m\r\n",
      "\u001b[1;39m{\r\n",
      "  \u001b[0m\u001b[34;1m\"add\"\u001b[0m\u001b[1;39m: \u001b[0m\u001b[1;39m{\r\n",
      "    \u001b[0m\u001b[34;1m\"path\"\u001b[0m\u001b[1;39m: \u001b[0m\u001b[0;32m\"part-00000-45d36500-f9ba-4a4a-9cec-907d2a1ca41a-c000.snappy.parquet\"\u001b[0m\u001b[1;39m,\r\n",
      "    \u001b[0m\u001b[34;1m\"partitionValues\"\u001b[0m\u001b[1;39m: \u001b[0m\u001b[1;39m{}\u001b[0m\u001b[1;39m,\r\n",
      "    \u001b[0m\u001b[34;1m\"size\"\u001b[0m\u001b[1;39m: \u001b[0m\u001b[0;39m128331\u001b[0m\u001b[1;39m,\r\n",
      "    \u001b[0m\u001b[34;1m\"modificationTime\"\u001b[0m\u001b[1;39m: \u001b[0m\u001b[0;39m1650896185808\u001b[0m\u001b[1;39m,\r\n",
      "    \u001b[0m\u001b[34;1m\"dataChange\"\u001b[0m\u001b[1;39m: \u001b[0m\u001b[0;39mtrue\u001b[0m\u001b[1;39m,\r\n",
      "    \u001b[0m\u001b[34;1m\"stats\"\u001b[0m\u001b[1;39m: \u001b[0m\u001b[0;32m\"{\\\"numRecords\\\":100000,\\\"minValues\\\":{\\\"action\\\":\\\"Close\\\",\\\"date\\\":\\\"2021-04-01\\\",\\\"device_id\\\":0},\\\"maxValues\\\":{\\\"action\\\":\\\"Open\\\",\\\"date\\\":\\\"2021-04-05\\\",\\\"device_id\\\":99},\\\"nullCount\\\":{\\\"action\\\":0,\\\"date\\\":0,\\\"device_id\\\":0}}\"\u001b[0m\u001b[1;39m\r\n",
      "  \u001b[1;39m}\u001b[0m\u001b[1;39m\r\n",
      "\u001b[1;39m}\u001b[0m\r\n",
      "\u001b[1;39m{\r\n",
      "  \u001b[0m\u001b[34;1m\"commitInfo\"\u001b[0m\u001b[1;39m: \u001b[0m\u001b[1;39m{\r\n",
      "    \u001b[0m\u001b[34;1m\"timestamp\"\u001b[0m\u001b[1;39m: \u001b[0m\u001b[0;39m1650896187166\u001b[0m\u001b[1;39m,\r\n",
      "    \u001b[0m\u001b[34;1m\"operation\"\u001b[0m\u001b[1;39m: \u001b[0m\u001b[0;32m\"WRITE\"\u001b[0m\u001b[1;39m,\r\n",
      "    \u001b[0m\u001b[34;1m\"operationParameters\"\u001b[0m\u001b[1;39m: \u001b[0m\u001b[1;39m{\r\n",
      "      \u001b[0m\u001b[34;1m\"mode\"\u001b[0m\u001b[1;39m: \u001b[0m\u001b[0;32m\"Overwrite\"\u001b[0m\u001b[1;39m,\r\n",
      "      \u001b[0m\u001b[34;1m\"partitionBy\"\u001b[0m\u001b[1;39m: \u001b[0m\u001b[0;32m\"[]\"\u001b[0m\u001b[1;39m\r\n",
      "    \u001b[1;39m}\u001b[0m\u001b[1;39m,\r\n",
      "    \u001b[0m\u001b[34;1m\"isolationLevel\"\u001b[0m\u001b[1;39m: \u001b[0m\u001b[0;32m\"Serializable\"\u001b[0m\u001b[1;39m,\r\n",
      "    \u001b[0m\u001b[34;1m\"isBlindAppend\"\u001b[0m\u001b[1;39m: \u001b[0m\u001b[0;39mfalse\u001b[0m\u001b[1;39m,\r\n",
      "    \u001b[0m\u001b[34;1m\"operationMetrics\"\u001b[0m\u001b[1;39m: \u001b[0m\u001b[1;39m{\r\n",
      "      \u001b[0m\u001b[34;1m\"numFiles\"\u001b[0m\u001b[1;39m: \u001b[0m\u001b[0;32m\"1\"\u001b[0m\u001b[1;39m,\r\n",
      "      \u001b[0m\u001b[34;1m\"numOutputRows\"\u001b[0m\u001b[1;39m: \u001b[0m\u001b[0;32m\"100000\"\u001b[0m\u001b[1;39m,\r\n",
      "      \u001b[0m\u001b[34;1m\"numOutputBytes\"\u001b[0m\u001b[1;39m: \u001b[0m\u001b[0;32m\"128331\"\u001b[0m\u001b[1;39m\r\n",
      "    \u001b[1;39m}\u001b[0m\u001b[1;39m,\r\n",
      "    \u001b[0m\u001b[34;1m\"engineInfo\"\u001b[0m\u001b[1;39m: \u001b[0m\u001b[0;32m\"Apache-Spark/3.2.0 Delta-Lake/1.2.0\"\u001b[0m\u001b[1;39m,\r\n",
      "    \u001b[0m\u001b[34;1m\"txnId\"\u001b[0m\u001b[1;39m: \u001b[0m\u001b[0;32m\"202656b1-9b53-432e-be64-f4427696408d\"\u001b[0m\u001b[1;39m\r\n",
      "  \u001b[1;39m}\u001b[0m\u001b[1;39m\r\n",
      "\u001b[1;39m}\u001b[0m\r\n"
     ]
    }
   ],
   "source": [
    "!cat {DELTA_PATH}/_delta_log/00000000000000000000.json | jq"
   ]
  },
  {
   "cell_type": "code",
   "execution_count": 16,
   "id": "cb17accb",
   "metadata": {},
   "outputs": [
    {
     "ename": "Py4JJavaError",
     "evalue": "An error occurred while calling o98.save.\n: org.apache.spark.SparkException: Job aborted.\n\tat org.apache.spark.sql.errors.QueryExecutionErrors$.jobAbortedError(QueryExecutionErrors.scala:496)\n\tat org.apache.spark.sql.execution.datasources.FileFormatWriter$.write(FileFormatWriter.scala:251)\n\tat org.apache.spark.sql.delta.files.TransactionalWrite.$anonfun$writeFiles$3(TransactionalWrite.scala:312)\n\tat org.apache.spark.sql.execution.SQLExecution$.$anonfun$withNewExecutionId$5(SQLExecution.scala:103)\n\tat org.apache.spark.sql.execution.SQLExecution$.withSQLConfPropagated(SQLExecution.scala:163)\n\tat org.apache.spark.sql.execution.SQLExecution$.$anonfun$withNewExecutionId$1(SQLExecution.scala:90)\n\tat org.apache.spark.sql.SparkSession.withActive(SparkSession.scala:775)\n\tat org.apache.spark.sql.execution.SQLExecution$.withNewExecutionId(SQLExecution.scala:64)\n\tat org.apache.spark.sql.delta.files.TransactionalWrite.writeFiles(TransactionalWrite.scala:278)\n\tat org.apache.spark.sql.delta.files.TransactionalWrite.writeFiles$(TransactionalWrite.scala:223)\n\tat org.apache.spark.sql.delta.OptimisticTransaction.writeFiles(OptimisticTransaction.scala:98)\n\tat org.apache.spark.sql.delta.files.TransactionalWrite.writeFiles(TransactionalWrite.scala:206)\n\tat org.apache.spark.sql.delta.files.TransactionalWrite.writeFiles$(TransactionalWrite.scala:202)\n\tat org.apache.spark.sql.delta.OptimisticTransaction.writeFiles(OptimisticTransaction.scala:98)\n\tat org.apache.spark.sql.delta.files.TransactionalWrite.writeFiles(TransactionalWrite.scala:212)\n\tat org.apache.spark.sql.delta.files.TransactionalWrite.writeFiles$(TransactionalWrite.scala:209)\n\tat org.apache.spark.sql.delta.OptimisticTransaction.writeFiles(OptimisticTransaction.scala:98)\n\tat org.apache.spark.sql.delta.commands.WriteIntoDelta.write(WriteIntoDelta.scala:181)\n\tat org.apache.spark.sql.delta.commands.WriteIntoDelta.$anonfun$run$1(WriteIntoDelta.scala:80)\n\tat org.apache.spark.sql.delta.commands.WriteIntoDelta.$anonfun$run$1$adapted(WriteIntoDelta.scala:78)\n\tat org.apache.spark.sql.delta.DeltaLog.withNewTransaction(DeltaLog.scala:212)\n\tat org.apache.spark.sql.delta.commands.WriteIntoDelta.run(WriteIntoDelta.scala:78)\n\tat org.apache.spark.sql.delta.sources.DeltaDataSource.createRelation(DeltaDataSource.scala:156)\n\tat org.apache.spark.sql.execution.datasources.SaveIntoDataSourceCommand.run(SaveIntoDataSourceCommand.scala:45)\n\tat org.apache.spark.sql.execution.command.ExecutedCommandExec.sideEffectResult$lzycompute(commands.scala:75)\n\tat org.apache.spark.sql.execution.command.ExecutedCommandExec.sideEffectResult(commands.scala:73)\n\tat org.apache.spark.sql.execution.command.ExecutedCommandExec.executeCollect(commands.scala:84)\n\tat org.apache.spark.sql.execution.QueryExecution$$anonfun$eagerlyExecuteCommands$1.$anonfun$applyOrElse$1(QueryExecution.scala:110)\n\tat org.apache.spark.sql.execution.SQLExecution$.$anonfun$withNewExecutionId$5(SQLExecution.scala:103)\n\tat org.apache.spark.sql.execution.SQLExecution$.withSQLConfPropagated(SQLExecution.scala:163)\n\tat org.apache.spark.sql.execution.SQLExecution$.$anonfun$withNewExecutionId$1(SQLExecution.scala:90)\n\tat org.apache.spark.sql.SparkSession.withActive(SparkSession.scala:775)\n\tat org.apache.spark.sql.execution.SQLExecution$.withNewExecutionId(SQLExecution.scala:64)\n\tat org.apache.spark.sql.execution.QueryExecution$$anonfun$eagerlyExecuteCommands$1.applyOrElse(QueryExecution.scala:110)\n\tat org.apache.spark.sql.execution.QueryExecution$$anonfun$eagerlyExecuteCommands$1.applyOrElse(QueryExecution.scala:106)\n\tat org.apache.spark.sql.catalyst.trees.TreeNode.$anonfun$transformDownWithPruning$1(TreeNode.scala:481)\n\tat org.apache.spark.sql.catalyst.trees.CurrentOrigin$.withOrigin(TreeNode.scala:82)\n\tat org.apache.spark.sql.catalyst.trees.TreeNode.transformDownWithPruning(TreeNode.scala:481)\n\tat org.apache.spark.sql.catalyst.plans.logical.LogicalPlan.org$apache$spark$sql$catalyst$plans$logical$AnalysisHelper$$super$transformDownWithPruning(LogicalPlan.scala:30)\n\tat org.apache.spark.sql.catalyst.plans.logical.AnalysisHelper.transformDownWithPruning(AnalysisHelper.scala:267)\n\tat org.apache.spark.sql.catalyst.plans.logical.AnalysisHelper.transformDownWithPruning$(AnalysisHelper.scala:263)\n\tat org.apache.spark.sql.catalyst.plans.logical.LogicalPlan.transformDownWithPruning(LogicalPlan.scala:30)\n\tat org.apache.spark.sql.catalyst.plans.logical.LogicalPlan.transformDownWithPruning(LogicalPlan.scala:30)\n\tat org.apache.spark.sql.catalyst.trees.TreeNode.transformDown(TreeNode.scala:457)\n\tat org.apache.spark.sql.execution.QueryExecution.eagerlyExecuteCommands(QueryExecution.scala:106)\n\tat org.apache.spark.sql.execution.QueryExecution.commandExecuted$lzycompute(QueryExecution.scala:93)\n\tat org.apache.spark.sql.execution.QueryExecution.commandExecuted(QueryExecution.scala:91)\n\tat org.apache.spark.sql.execution.QueryExecution.assertCommandExecuted(QueryExecution.scala:128)\n\tat org.apache.spark.sql.DataFrameWriter.runCommand(DataFrameWriter.scala:848)\n\tat org.apache.spark.sql.DataFrameWriter.saveToV1Source(DataFrameWriter.scala:382)\n\tat org.apache.spark.sql.DataFrameWriter.saveInternal(DataFrameWriter.scala:303)\n\tat org.apache.spark.sql.DataFrameWriter.save(DataFrameWriter.scala:239)\n\tat java.base/jdk.internal.reflect.NativeMethodAccessorImpl.invoke0(Native Method)\n\tat java.base/jdk.internal.reflect.NativeMethodAccessorImpl.invoke(NativeMethodAccessorImpl.java:62)\n\tat java.base/jdk.internal.reflect.DelegatingMethodAccessorImpl.invoke(DelegatingMethodAccessorImpl.java:43)\n\tat java.base/java.lang.reflect.Method.invoke(Method.java:566)\n\tat py4j.reflection.MethodInvoker.invoke(MethodInvoker.java:244)\n\tat py4j.reflection.ReflectionEngine.invoke(ReflectionEngine.java:357)\n\tat py4j.Gateway.invoke(Gateway.java:282)\n\tat py4j.commands.AbstractCommand.invokeMethod(AbstractCommand.java:132)\n\tat py4j.commands.CallCommand.execute(CallCommand.java:79)\n\tat py4j.ClientServerConnection.waitForCommands(ClientServerConnection.java:182)\n\tat py4j.ClientServerConnection.run(ClientServerConnection.java:106)\n\tat java.base/java.lang.Thread.run(Thread.java:829)\nCaused by: org.apache.spark.SparkException: Job aborted due to stage failure: Task 7 in stage 14.0 failed 1 times, most recent failure: Lost task 7.0 in stage 14.0 (TID 86) (192.168.0.209 executor driver): org.apache.spark.api.python.PythonException: Traceback (most recent call last):\n  File \"/tmp/ipykernel_3611834/3063536678.py\", line 6, in gen_error\nException: Atomicity failed\n\n\tat org.apache.spark.api.python.BasePythonRunner$ReaderIterator.handlePythonException(PythonRunner.scala:545)\n\tat org.apache.spark.sql.execution.python.PythonUDFRunner$$anon$2.read(PythonUDFRunner.scala:86)\n\tat org.apache.spark.sql.execution.python.PythonUDFRunner$$anon$2.read(PythonUDFRunner.scala:68)\n\tat org.apache.spark.api.python.BasePythonRunner$ReaderIterator.hasNext(PythonRunner.scala:498)\n\tat org.apache.spark.InterruptibleIterator.hasNext(InterruptibleIterator.scala:37)\n\tat scala.collection.Iterator$$anon$11.hasNext(Iterator.scala:491)\n\tat scala.collection.Iterator$$anon$10.hasNext(Iterator.scala:460)\n\tat scala.collection.Iterator$$anon$10.hasNext(Iterator.scala:460)\n\tat org.apache.spark.sql.catalyst.expressions.GeneratedClass$GeneratedIteratorForCodegenStage2.processNext(Unknown Source)\n\tat org.apache.spark.sql.execution.BufferedRowIterator.hasNext(BufferedRowIterator.java:43)\n\tat org.apache.spark.sql.execution.WholeStageCodegenExec$$anon$1.hasNext(WholeStageCodegenExec.scala:759)\n\tat scala.collection.Iterator$$anon$10.hasNext(Iterator.scala:460)\n\tat org.apache.spark.shuffle.sort.BypassMergeSortShuffleWriter.write(BypassMergeSortShuffleWriter.java:140)\n\tat org.apache.spark.shuffle.ShuffleWriteProcessor.write(ShuffleWriteProcessor.scala:59)\n\tat org.apache.spark.scheduler.ShuffleMapTask.runTask(ShuffleMapTask.scala:99)\n\tat org.apache.spark.scheduler.ShuffleMapTask.runTask(ShuffleMapTask.scala:52)\n\tat org.apache.spark.scheduler.Task.run(Task.scala:131)\n\tat org.apache.spark.executor.Executor$TaskRunner.$anonfun$run$3(Executor.scala:506)\n\tat org.apache.spark.util.Utils$.tryWithSafeFinally(Utils.scala:1462)\n\tat org.apache.spark.executor.Executor$TaskRunner.run(Executor.scala:509)\n\tat java.base/java.util.concurrent.ThreadPoolExecutor.runWorker(ThreadPoolExecutor.java:1128)\n\tat java.base/java.util.concurrent.ThreadPoolExecutor$Worker.run(ThreadPoolExecutor.java:628)\n\tat java.base/java.lang.Thread.run(Thread.java:829)\n\nDriver stacktrace:\n\tat org.apache.spark.scheduler.DAGScheduler.failJobAndIndependentStages(DAGScheduler.scala:2403)\n\tat org.apache.spark.scheduler.DAGScheduler.$anonfun$abortStage$2(DAGScheduler.scala:2352)\n\tat org.apache.spark.scheduler.DAGScheduler.$anonfun$abortStage$2$adapted(DAGScheduler.scala:2351)\n\tat scala.collection.mutable.ResizableArray.foreach(ResizableArray.scala:62)\n\tat scala.collection.mutable.ResizableArray.foreach$(ResizableArray.scala:55)\n\tat scala.collection.mutable.ArrayBuffer.foreach(ArrayBuffer.scala:49)\n\tat org.apache.spark.scheduler.DAGScheduler.abortStage(DAGScheduler.scala:2351)\n\tat org.apache.spark.scheduler.DAGScheduler.$anonfun$handleTaskSetFailed$1(DAGScheduler.scala:1109)\n\tat org.apache.spark.scheduler.DAGScheduler.$anonfun$handleTaskSetFailed$1$adapted(DAGScheduler.scala:1109)\n\tat scala.Option.foreach(Option.scala:407)\n\tat org.apache.spark.scheduler.DAGScheduler.handleTaskSetFailed(DAGScheduler.scala:1109)\n\tat org.apache.spark.scheduler.DAGSchedulerEventProcessLoop.doOnReceive(DAGScheduler.scala:2591)\n\tat org.apache.spark.scheduler.DAGSchedulerEventProcessLoop.onReceive(DAGScheduler.scala:2533)\n\tat org.apache.spark.scheduler.DAGSchedulerEventProcessLoop.onReceive(DAGScheduler.scala:2522)\n\tat org.apache.spark.util.EventLoop$$anon$1.run(EventLoop.scala:49)\nCaused by: org.apache.spark.api.python.PythonException: Traceback (most recent call last):\n  File \"/tmp/ipykernel_3611834/3063536678.py\", line 6, in gen_error\nException: Atomicity failed\n\n\tat org.apache.spark.api.python.BasePythonRunner$ReaderIterator.handlePythonException(PythonRunner.scala:545)\n\tat org.apache.spark.sql.execution.python.PythonUDFRunner$$anon$2.read(PythonUDFRunner.scala:86)\n\tat org.apache.spark.sql.execution.python.PythonUDFRunner$$anon$2.read(PythonUDFRunner.scala:68)\n\tat org.apache.spark.api.python.BasePythonRunner$ReaderIterator.hasNext(PythonRunner.scala:498)\n\tat org.apache.spark.InterruptibleIterator.hasNext(InterruptibleIterator.scala:37)\n\tat scala.collection.Iterator$$anon$11.hasNext(Iterator.scala:491)\n\tat scala.collection.Iterator$$anon$10.hasNext(Iterator.scala:460)\n\tat scala.collection.Iterator$$anon$10.hasNext(Iterator.scala:460)\n\tat org.apache.spark.sql.catalyst.expressions.GeneratedClass$GeneratedIteratorForCodegenStage2.processNext(Unknown Source)\n\tat org.apache.spark.sql.execution.BufferedRowIterator.hasNext(BufferedRowIterator.java:43)\n\tat org.apache.spark.sql.execution.WholeStageCodegenExec$$anon$1.hasNext(WholeStageCodegenExec.scala:759)\n\tat scala.collection.Iterator$$anon$10.hasNext(Iterator.scala:460)\n\tat org.apache.spark.shuffle.sort.BypassMergeSortShuffleWriter.write(BypassMergeSortShuffleWriter.java:140)\n\tat org.apache.spark.shuffle.ShuffleWriteProcessor.write(ShuffleWriteProcessor.scala:59)\n\tat org.apache.spark.scheduler.ShuffleMapTask.runTask(ShuffleMapTask.scala:99)\n\tat org.apache.spark.scheduler.ShuffleMapTask.runTask(ShuffleMapTask.scala:52)\n\tat org.apache.spark.scheduler.Task.run(Task.scala:131)\n\tat org.apache.spark.executor.Executor$TaskRunner.$anonfun$run$3(Executor.scala:506)\n\tat org.apache.spark.util.Utils$.tryWithSafeFinally(Utils.scala:1462)\n\tat org.apache.spark.executor.Executor$TaskRunner.run(Executor.scala:509)\n\tat java.base/java.util.concurrent.ThreadPoolExecutor.runWorker(ThreadPoolExecutor.java:1128)\n\tat java.base/java.util.concurrent.ThreadPoolExecutor$Worker.run(ThreadPoolExecutor.java:628)\n\tat java.base/java.lang.Thread.run(Thread.java:829)\n",
     "output_type": "error",
     "traceback": [
      "\u001b[0;31m---------------------------------------------------------------------------\u001b[0m",
      "\u001b[0;31mPy4JJavaError\u001b[0m                             Traceback (most recent call last)",
      "Input \u001b[0;32mIn [16]\u001b[0m, in \u001b[0;36m<module>\u001b[0;34m\u001b[0m\n\u001b[0;32m----> 1\u001b[0m \u001b[43mraw_data\u001b[49m\u001b[43m\\\u001b[49m\n\u001b[1;32m      2\u001b[0m \u001b[43m    \u001b[49m\u001b[38;5;241;43m.\u001b[39;49m\u001b[43mwithColumn\u001b[49m\u001b[43m(\u001b[49m\u001b[38;5;124;43m'\u001b[39;49m\u001b[38;5;124;43maction\u001b[39;49m\u001b[38;5;124;43m'\u001b[39;49m\u001b[43m,\u001b[49m\u001b[43m \u001b[49m\u001b[43mgen_error\u001b[49m\u001b[43m(\u001b[49m\u001b[43mcol\u001b[49m\u001b[43m(\u001b[49m\u001b[38;5;124;43m\"\u001b[39;49m\u001b[38;5;124;43mdevice_id\u001b[39;49m\u001b[38;5;124;43m\"\u001b[39;49m\u001b[43m)\u001b[49m\u001b[43m)\u001b[49m\u001b[43m)\u001b[49m\u001b[43m\\\u001b[49m\n\u001b[1;32m      3\u001b[0m \u001b[43m    \u001b[49m\u001b[38;5;241;43m.\u001b[39;49m\u001b[43mrepartition\u001b[49m\u001b[43m(\u001b[49m\u001b[38;5;241;43m1\u001b[39;49m\u001b[43m)\u001b[49m\u001b[43m\\\u001b[49m\n\u001b[1;32m      4\u001b[0m \u001b[43m    \u001b[49m\u001b[38;5;241;43m.\u001b[39;49m\u001b[43mwrite\u001b[49m\u001b[38;5;241;43m.\u001b[39;49m\u001b[43mformat\u001b[49m\u001b[43m(\u001b[49m\u001b[38;5;124;43m\"\u001b[39;49m\u001b[38;5;124;43mdelta\u001b[39;49m\u001b[38;5;124;43m\"\u001b[39;49m\u001b[43m)\u001b[49m\u001b[43m\\\u001b[49m\n\u001b[1;32m      5\u001b[0m \u001b[43m    \u001b[49m\u001b[38;5;241;43m.\u001b[39;49m\u001b[43mmode\u001b[49m\u001b[43m(\u001b[49m\u001b[38;5;124;43m\"\u001b[39;49m\u001b[38;5;124;43moverwrite\u001b[39;49m\u001b[38;5;124;43m\"\u001b[39;49m\u001b[43m)\u001b[49m\u001b[43m\\\u001b[49m\n\u001b[1;32m      6\u001b[0m \u001b[43m    \u001b[49m\u001b[38;5;241;43m.\u001b[39;49m\u001b[43msave\u001b[49m\u001b[43m(\u001b[49m\u001b[43mDELTA_PATH\u001b[49m\u001b[43m)\u001b[49m\n",
      "File \u001b[0;32m/opt/spark/python/pyspark/sql/readwriter.py:740\u001b[0m, in \u001b[0;36mDataFrameWriter.save\u001b[0;34m(self, path, format, mode, partitionBy, **options)\u001b[0m\n\u001b[1;32m    738\u001b[0m     \u001b[38;5;28mself\u001b[39m\u001b[38;5;241m.\u001b[39m_jwrite\u001b[38;5;241m.\u001b[39msave()\n\u001b[1;32m    739\u001b[0m \u001b[38;5;28;01melse\u001b[39;00m:\n\u001b[0;32m--> 740\u001b[0m     \u001b[38;5;28;43mself\u001b[39;49m\u001b[38;5;241;43m.\u001b[39;49m\u001b[43m_jwrite\u001b[49m\u001b[38;5;241;43m.\u001b[39;49m\u001b[43msave\u001b[49m\u001b[43m(\u001b[49m\u001b[43mpath\u001b[49m\u001b[43m)\u001b[49m\n",
      "File \u001b[0;32m/opt/spark/python/lib/py4j-0.10.9.2-src.zip/py4j/java_gateway.py:1309\u001b[0m, in \u001b[0;36mJavaMember.__call__\u001b[0;34m(self, *args)\u001b[0m\n\u001b[1;32m   1303\u001b[0m command \u001b[38;5;241m=\u001b[39m proto\u001b[38;5;241m.\u001b[39mCALL_COMMAND_NAME \u001b[38;5;241m+\u001b[39m\\\n\u001b[1;32m   1304\u001b[0m     \u001b[38;5;28mself\u001b[39m\u001b[38;5;241m.\u001b[39mcommand_header \u001b[38;5;241m+\u001b[39m\\\n\u001b[1;32m   1305\u001b[0m     args_command \u001b[38;5;241m+\u001b[39m\\\n\u001b[1;32m   1306\u001b[0m     proto\u001b[38;5;241m.\u001b[39mEND_COMMAND_PART\n\u001b[1;32m   1308\u001b[0m answer \u001b[38;5;241m=\u001b[39m \u001b[38;5;28mself\u001b[39m\u001b[38;5;241m.\u001b[39mgateway_client\u001b[38;5;241m.\u001b[39msend_command(command)\n\u001b[0;32m-> 1309\u001b[0m return_value \u001b[38;5;241m=\u001b[39m \u001b[43mget_return_value\u001b[49m\u001b[43m(\u001b[49m\n\u001b[1;32m   1310\u001b[0m \u001b[43m    \u001b[49m\u001b[43manswer\u001b[49m\u001b[43m,\u001b[49m\u001b[43m \u001b[49m\u001b[38;5;28;43mself\u001b[39;49m\u001b[38;5;241;43m.\u001b[39;49m\u001b[43mgateway_client\u001b[49m\u001b[43m,\u001b[49m\u001b[43m \u001b[49m\u001b[38;5;28;43mself\u001b[39;49m\u001b[38;5;241;43m.\u001b[39;49m\u001b[43mtarget_id\u001b[49m\u001b[43m,\u001b[49m\u001b[43m \u001b[49m\u001b[38;5;28;43mself\u001b[39;49m\u001b[38;5;241;43m.\u001b[39;49m\u001b[43mname\u001b[49m\u001b[43m)\u001b[49m\n\u001b[1;32m   1312\u001b[0m \u001b[38;5;28;01mfor\u001b[39;00m temp_arg \u001b[38;5;129;01min\u001b[39;00m temp_args:\n\u001b[1;32m   1313\u001b[0m     temp_arg\u001b[38;5;241m.\u001b[39m_detach()\n",
      "File \u001b[0;32m/opt/spark/python/pyspark/sql/utils.py:111\u001b[0m, in \u001b[0;36mcapture_sql_exception.<locals>.deco\u001b[0;34m(*a, **kw)\u001b[0m\n\u001b[1;32m    109\u001b[0m \u001b[38;5;28;01mdef\u001b[39;00m \u001b[38;5;21mdeco\u001b[39m(\u001b[38;5;241m*\u001b[39ma, \u001b[38;5;241m*\u001b[39m\u001b[38;5;241m*\u001b[39mkw):\n\u001b[1;32m    110\u001b[0m     \u001b[38;5;28;01mtry\u001b[39;00m:\n\u001b[0;32m--> 111\u001b[0m         \u001b[38;5;28;01mreturn\u001b[39;00m \u001b[43mf\u001b[49m\u001b[43m(\u001b[49m\u001b[38;5;241;43m*\u001b[39;49m\u001b[43ma\u001b[49m\u001b[43m,\u001b[49m\u001b[43m \u001b[49m\u001b[38;5;241;43m*\u001b[39;49m\u001b[38;5;241;43m*\u001b[39;49m\u001b[43mkw\u001b[49m\u001b[43m)\u001b[49m\n\u001b[1;32m    112\u001b[0m     \u001b[38;5;28;01mexcept\u001b[39;00m py4j\u001b[38;5;241m.\u001b[39mprotocol\u001b[38;5;241m.\u001b[39mPy4JJavaError \u001b[38;5;28;01mas\u001b[39;00m e:\n\u001b[1;32m    113\u001b[0m         converted \u001b[38;5;241m=\u001b[39m convert_exception(e\u001b[38;5;241m.\u001b[39mjava_exception)\n",
      "File \u001b[0;32m/opt/spark/python/lib/py4j-0.10.9.2-src.zip/py4j/protocol.py:326\u001b[0m, in \u001b[0;36mget_return_value\u001b[0;34m(answer, gateway_client, target_id, name)\u001b[0m\n\u001b[1;32m    324\u001b[0m value \u001b[38;5;241m=\u001b[39m OUTPUT_CONVERTER[\u001b[38;5;28mtype\u001b[39m](answer[\u001b[38;5;241m2\u001b[39m:], gateway_client)\n\u001b[1;32m    325\u001b[0m \u001b[38;5;28;01mif\u001b[39;00m answer[\u001b[38;5;241m1\u001b[39m] \u001b[38;5;241m==\u001b[39m REFERENCE_TYPE:\n\u001b[0;32m--> 326\u001b[0m     \u001b[38;5;28;01mraise\u001b[39;00m Py4JJavaError(\n\u001b[1;32m    327\u001b[0m         \u001b[38;5;124m\"\u001b[39m\u001b[38;5;124mAn error occurred while calling \u001b[39m\u001b[38;5;132;01m{0}\u001b[39;00m\u001b[38;5;132;01m{1}\u001b[39;00m\u001b[38;5;132;01m{2}\u001b[39;00m\u001b[38;5;124m.\u001b[39m\u001b[38;5;130;01m\\n\u001b[39;00m\u001b[38;5;124m\"\u001b[39m\u001b[38;5;241m.\u001b[39m\n\u001b[1;32m    328\u001b[0m         \u001b[38;5;28mformat\u001b[39m(target_id, \u001b[38;5;124m\"\u001b[39m\u001b[38;5;124m.\u001b[39m\u001b[38;5;124m\"\u001b[39m, name), value)\n\u001b[1;32m    329\u001b[0m \u001b[38;5;28;01melse\u001b[39;00m:\n\u001b[1;32m    330\u001b[0m     \u001b[38;5;28;01mraise\u001b[39;00m Py4JError(\n\u001b[1;32m    331\u001b[0m         \u001b[38;5;124m\"\u001b[39m\u001b[38;5;124mAn error occurred while calling \u001b[39m\u001b[38;5;132;01m{0}\u001b[39;00m\u001b[38;5;132;01m{1}\u001b[39;00m\u001b[38;5;132;01m{2}\u001b[39;00m\u001b[38;5;124m. Trace:\u001b[39m\u001b[38;5;130;01m\\n\u001b[39;00m\u001b[38;5;132;01m{3}\u001b[39;00m\u001b[38;5;130;01m\\n\u001b[39;00m\u001b[38;5;124m\"\u001b[39m\u001b[38;5;241m.\u001b[39m\n\u001b[1;32m    332\u001b[0m         \u001b[38;5;28mformat\u001b[39m(target_id, \u001b[38;5;124m\"\u001b[39m\u001b[38;5;124m.\u001b[39m\u001b[38;5;124m\"\u001b[39m, name, value))\n",
      "\u001b[0;31mPy4JJavaError\u001b[0m: An error occurred while calling o98.save.\n: org.apache.spark.SparkException: Job aborted.\n\tat org.apache.spark.sql.errors.QueryExecutionErrors$.jobAbortedError(QueryExecutionErrors.scala:496)\n\tat org.apache.spark.sql.execution.datasources.FileFormatWriter$.write(FileFormatWriter.scala:251)\n\tat org.apache.spark.sql.delta.files.TransactionalWrite.$anonfun$writeFiles$3(TransactionalWrite.scala:312)\n\tat org.apache.spark.sql.execution.SQLExecution$.$anonfun$withNewExecutionId$5(SQLExecution.scala:103)\n\tat org.apache.spark.sql.execution.SQLExecution$.withSQLConfPropagated(SQLExecution.scala:163)\n\tat org.apache.spark.sql.execution.SQLExecution$.$anonfun$withNewExecutionId$1(SQLExecution.scala:90)\n\tat org.apache.spark.sql.SparkSession.withActive(SparkSession.scala:775)\n\tat org.apache.spark.sql.execution.SQLExecution$.withNewExecutionId(SQLExecution.scala:64)\n\tat org.apache.spark.sql.delta.files.TransactionalWrite.writeFiles(TransactionalWrite.scala:278)\n\tat org.apache.spark.sql.delta.files.TransactionalWrite.writeFiles$(TransactionalWrite.scala:223)\n\tat org.apache.spark.sql.delta.OptimisticTransaction.writeFiles(OptimisticTransaction.scala:98)\n\tat org.apache.spark.sql.delta.files.TransactionalWrite.writeFiles(TransactionalWrite.scala:206)\n\tat org.apache.spark.sql.delta.files.TransactionalWrite.writeFiles$(TransactionalWrite.scala:202)\n\tat org.apache.spark.sql.delta.OptimisticTransaction.writeFiles(OptimisticTransaction.scala:98)\n\tat org.apache.spark.sql.delta.files.TransactionalWrite.writeFiles(TransactionalWrite.scala:212)\n\tat org.apache.spark.sql.delta.files.TransactionalWrite.writeFiles$(TransactionalWrite.scala:209)\n\tat org.apache.spark.sql.delta.OptimisticTransaction.writeFiles(OptimisticTransaction.scala:98)\n\tat org.apache.spark.sql.delta.commands.WriteIntoDelta.write(WriteIntoDelta.scala:181)\n\tat org.apache.spark.sql.delta.commands.WriteIntoDelta.$anonfun$run$1(WriteIntoDelta.scala:80)\n\tat org.apache.spark.sql.delta.commands.WriteIntoDelta.$anonfun$run$1$adapted(WriteIntoDelta.scala:78)\n\tat org.apache.spark.sql.delta.DeltaLog.withNewTransaction(DeltaLog.scala:212)\n\tat org.apache.spark.sql.delta.commands.WriteIntoDelta.run(WriteIntoDelta.scala:78)\n\tat org.apache.spark.sql.delta.sources.DeltaDataSource.createRelation(DeltaDataSource.scala:156)\n\tat org.apache.spark.sql.execution.datasources.SaveIntoDataSourceCommand.run(SaveIntoDataSourceCommand.scala:45)\n\tat org.apache.spark.sql.execution.command.ExecutedCommandExec.sideEffectResult$lzycompute(commands.scala:75)\n\tat org.apache.spark.sql.execution.command.ExecutedCommandExec.sideEffectResult(commands.scala:73)\n\tat org.apache.spark.sql.execution.command.ExecutedCommandExec.executeCollect(commands.scala:84)\n\tat org.apache.spark.sql.execution.QueryExecution$$anonfun$eagerlyExecuteCommands$1.$anonfun$applyOrElse$1(QueryExecution.scala:110)\n\tat org.apache.spark.sql.execution.SQLExecution$.$anonfun$withNewExecutionId$5(SQLExecution.scala:103)\n\tat org.apache.spark.sql.execution.SQLExecution$.withSQLConfPropagated(SQLExecution.scala:163)\n\tat org.apache.spark.sql.execution.SQLExecution$.$anonfun$withNewExecutionId$1(SQLExecution.scala:90)\n\tat org.apache.spark.sql.SparkSession.withActive(SparkSession.scala:775)\n\tat org.apache.spark.sql.execution.SQLExecution$.withNewExecutionId(SQLExecution.scala:64)\n\tat org.apache.spark.sql.execution.QueryExecution$$anonfun$eagerlyExecuteCommands$1.applyOrElse(QueryExecution.scala:110)\n\tat org.apache.spark.sql.execution.QueryExecution$$anonfun$eagerlyExecuteCommands$1.applyOrElse(QueryExecution.scala:106)\n\tat org.apache.spark.sql.catalyst.trees.TreeNode.$anonfun$transformDownWithPruning$1(TreeNode.scala:481)\n\tat org.apache.spark.sql.catalyst.trees.CurrentOrigin$.withOrigin(TreeNode.scala:82)\n\tat org.apache.spark.sql.catalyst.trees.TreeNode.transformDownWithPruning(TreeNode.scala:481)\n\tat org.apache.spark.sql.catalyst.plans.logical.LogicalPlan.org$apache$spark$sql$catalyst$plans$logical$AnalysisHelper$$super$transformDownWithPruning(LogicalPlan.scala:30)\n\tat org.apache.spark.sql.catalyst.plans.logical.AnalysisHelper.transformDownWithPruning(AnalysisHelper.scala:267)\n\tat org.apache.spark.sql.catalyst.plans.logical.AnalysisHelper.transformDownWithPruning$(AnalysisHelper.scala:263)\n\tat org.apache.spark.sql.catalyst.plans.logical.LogicalPlan.transformDownWithPruning(LogicalPlan.scala:30)\n\tat org.apache.spark.sql.catalyst.plans.logical.LogicalPlan.transformDownWithPruning(LogicalPlan.scala:30)\n\tat org.apache.spark.sql.catalyst.trees.TreeNode.transformDown(TreeNode.scala:457)\n\tat org.apache.spark.sql.execution.QueryExecution.eagerlyExecuteCommands(QueryExecution.scala:106)\n\tat org.apache.spark.sql.execution.QueryExecution.commandExecuted$lzycompute(QueryExecution.scala:93)\n\tat org.apache.spark.sql.execution.QueryExecution.commandExecuted(QueryExecution.scala:91)\n\tat org.apache.spark.sql.execution.QueryExecution.assertCommandExecuted(QueryExecution.scala:128)\n\tat org.apache.spark.sql.DataFrameWriter.runCommand(DataFrameWriter.scala:848)\n\tat org.apache.spark.sql.DataFrameWriter.saveToV1Source(DataFrameWriter.scala:382)\n\tat org.apache.spark.sql.DataFrameWriter.saveInternal(DataFrameWriter.scala:303)\n\tat org.apache.spark.sql.DataFrameWriter.save(DataFrameWriter.scala:239)\n\tat java.base/jdk.internal.reflect.NativeMethodAccessorImpl.invoke0(Native Method)\n\tat java.base/jdk.internal.reflect.NativeMethodAccessorImpl.invoke(NativeMethodAccessorImpl.java:62)\n\tat java.base/jdk.internal.reflect.DelegatingMethodAccessorImpl.invoke(DelegatingMethodAccessorImpl.java:43)\n\tat java.base/java.lang.reflect.Method.invoke(Method.java:566)\n\tat py4j.reflection.MethodInvoker.invoke(MethodInvoker.java:244)\n\tat py4j.reflection.ReflectionEngine.invoke(ReflectionEngine.java:357)\n\tat py4j.Gateway.invoke(Gateway.java:282)\n\tat py4j.commands.AbstractCommand.invokeMethod(AbstractCommand.java:132)\n\tat py4j.commands.CallCommand.execute(CallCommand.java:79)\n\tat py4j.ClientServerConnection.waitForCommands(ClientServerConnection.java:182)\n\tat py4j.ClientServerConnection.run(ClientServerConnection.java:106)\n\tat java.base/java.lang.Thread.run(Thread.java:829)\nCaused by: org.apache.spark.SparkException: Job aborted due to stage failure: Task 7 in stage 14.0 failed 1 times, most recent failure: Lost task 7.0 in stage 14.0 (TID 86) (192.168.0.209 executor driver): org.apache.spark.api.python.PythonException: Traceback (most recent call last):\n  File \"/tmp/ipykernel_3611834/3063536678.py\", line 6, in gen_error\nException: Atomicity failed\n\n\tat org.apache.spark.api.python.BasePythonRunner$ReaderIterator.handlePythonException(PythonRunner.scala:545)\n\tat org.apache.spark.sql.execution.python.PythonUDFRunner$$anon$2.read(PythonUDFRunner.scala:86)\n\tat org.apache.spark.sql.execution.python.PythonUDFRunner$$anon$2.read(PythonUDFRunner.scala:68)\n\tat org.apache.spark.api.python.BasePythonRunner$ReaderIterator.hasNext(PythonRunner.scala:498)\n\tat org.apache.spark.InterruptibleIterator.hasNext(InterruptibleIterator.scala:37)\n\tat scala.collection.Iterator$$anon$11.hasNext(Iterator.scala:491)\n\tat scala.collection.Iterator$$anon$10.hasNext(Iterator.scala:460)\n\tat scala.collection.Iterator$$anon$10.hasNext(Iterator.scala:460)\n\tat org.apache.spark.sql.catalyst.expressions.GeneratedClass$GeneratedIteratorForCodegenStage2.processNext(Unknown Source)\n\tat org.apache.spark.sql.execution.BufferedRowIterator.hasNext(BufferedRowIterator.java:43)\n\tat org.apache.spark.sql.execution.WholeStageCodegenExec$$anon$1.hasNext(WholeStageCodegenExec.scala:759)\n\tat scala.collection.Iterator$$anon$10.hasNext(Iterator.scala:460)\n\tat org.apache.spark.shuffle.sort.BypassMergeSortShuffleWriter.write(BypassMergeSortShuffleWriter.java:140)\n\tat org.apache.spark.shuffle.ShuffleWriteProcessor.write(ShuffleWriteProcessor.scala:59)\n\tat org.apache.spark.scheduler.ShuffleMapTask.runTask(ShuffleMapTask.scala:99)\n\tat org.apache.spark.scheduler.ShuffleMapTask.runTask(ShuffleMapTask.scala:52)\n\tat org.apache.spark.scheduler.Task.run(Task.scala:131)\n\tat org.apache.spark.executor.Executor$TaskRunner.$anonfun$run$3(Executor.scala:506)\n\tat org.apache.spark.util.Utils$.tryWithSafeFinally(Utils.scala:1462)\n\tat org.apache.spark.executor.Executor$TaskRunner.run(Executor.scala:509)\n\tat java.base/java.util.concurrent.ThreadPoolExecutor.runWorker(ThreadPoolExecutor.java:1128)\n\tat java.base/java.util.concurrent.ThreadPoolExecutor$Worker.run(ThreadPoolExecutor.java:628)\n\tat java.base/java.lang.Thread.run(Thread.java:829)\n\nDriver stacktrace:\n\tat org.apache.spark.scheduler.DAGScheduler.failJobAndIndependentStages(DAGScheduler.scala:2403)\n\tat org.apache.spark.scheduler.DAGScheduler.$anonfun$abortStage$2(DAGScheduler.scala:2352)\n\tat org.apache.spark.scheduler.DAGScheduler.$anonfun$abortStage$2$adapted(DAGScheduler.scala:2351)\n\tat scala.collection.mutable.ResizableArray.foreach(ResizableArray.scala:62)\n\tat scala.collection.mutable.ResizableArray.foreach$(ResizableArray.scala:55)\n\tat scala.collection.mutable.ArrayBuffer.foreach(ArrayBuffer.scala:49)\n\tat org.apache.spark.scheduler.DAGScheduler.abortStage(DAGScheduler.scala:2351)\n\tat org.apache.spark.scheduler.DAGScheduler.$anonfun$handleTaskSetFailed$1(DAGScheduler.scala:1109)\n\tat org.apache.spark.scheduler.DAGScheduler.$anonfun$handleTaskSetFailed$1$adapted(DAGScheduler.scala:1109)\n\tat scala.Option.foreach(Option.scala:407)\n\tat org.apache.spark.scheduler.DAGScheduler.handleTaskSetFailed(DAGScheduler.scala:1109)\n\tat org.apache.spark.scheduler.DAGSchedulerEventProcessLoop.doOnReceive(DAGScheduler.scala:2591)\n\tat org.apache.spark.scheduler.DAGSchedulerEventProcessLoop.onReceive(DAGScheduler.scala:2533)\n\tat org.apache.spark.scheduler.DAGSchedulerEventProcessLoop.onReceive(DAGScheduler.scala:2522)\n\tat org.apache.spark.util.EventLoop$$anon$1.run(EventLoop.scala:49)\nCaused by: org.apache.spark.api.python.PythonException: Traceback (most recent call last):\n  File \"/tmp/ipykernel_3611834/3063536678.py\", line 6, in gen_error\nException: Atomicity failed\n\n\tat org.apache.spark.api.python.BasePythonRunner$ReaderIterator.handlePythonException(PythonRunner.scala:545)\n\tat org.apache.spark.sql.execution.python.PythonUDFRunner$$anon$2.read(PythonUDFRunner.scala:86)\n\tat org.apache.spark.sql.execution.python.PythonUDFRunner$$anon$2.read(PythonUDFRunner.scala:68)\n\tat org.apache.spark.api.python.BasePythonRunner$ReaderIterator.hasNext(PythonRunner.scala:498)\n\tat org.apache.spark.InterruptibleIterator.hasNext(InterruptibleIterator.scala:37)\n\tat scala.collection.Iterator$$anon$11.hasNext(Iterator.scala:491)\n\tat scala.collection.Iterator$$anon$10.hasNext(Iterator.scala:460)\n\tat scala.collection.Iterator$$anon$10.hasNext(Iterator.scala:460)\n\tat org.apache.spark.sql.catalyst.expressions.GeneratedClass$GeneratedIteratorForCodegenStage2.processNext(Unknown Source)\n\tat org.apache.spark.sql.execution.BufferedRowIterator.hasNext(BufferedRowIterator.java:43)\n\tat org.apache.spark.sql.execution.WholeStageCodegenExec$$anon$1.hasNext(WholeStageCodegenExec.scala:759)\n\tat scala.collection.Iterator$$anon$10.hasNext(Iterator.scala:460)\n\tat org.apache.spark.shuffle.sort.BypassMergeSortShuffleWriter.write(BypassMergeSortShuffleWriter.java:140)\n\tat org.apache.spark.shuffle.ShuffleWriteProcessor.write(ShuffleWriteProcessor.scala:59)\n\tat org.apache.spark.scheduler.ShuffleMapTask.runTask(ShuffleMapTask.scala:99)\n\tat org.apache.spark.scheduler.ShuffleMapTask.runTask(ShuffleMapTask.scala:52)\n\tat org.apache.spark.scheduler.Task.run(Task.scala:131)\n\tat org.apache.spark.executor.Executor$TaskRunner.$anonfun$run$3(Executor.scala:506)\n\tat org.apache.spark.util.Utils$.tryWithSafeFinally(Utils.scala:1462)\n\tat org.apache.spark.executor.Executor$TaskRunner.run(Executor.scala:509)\n\tat java.base/java.util.concurrent.ThreadPoolExecutor.runWorker(ThreadPoolExecutor.java:1128)\n\tat java.base/java.util.concurrent.ThreadPoolExecutor$Worker.run(ThreadPoolExecutor.java:628)\n\tat java.base/java.lang.Thread.run(Thread.java:829)\n"
     ]
    }
   ],
   "source": [
    "raw_data\\\n",
    "    .withColumn('action', gen_error(col(\"device_id\")))\\\n",
    "    .repartition(1)\\\n",
    "    .write.format(\"delta\")\\\n",
    "    .mode(\"overwrite\")\\\n",
    "    .save(DELTA_PATH)"
   ]
  },
  {
   "cell_type": "code",
   "execution_count": 17,
   "id": "8f6b808d",
   "metadata": {},
   "outputs": [
    {
     "name": "stdout",
     "output_type": "stream",
     "text": [
      "/tmp/delta_tutorial/delta_table:\r\n",
      "total 132K\r\n",
      "drwxr-xr-x 2 lucasmsp lucasmsp 4,0K abr 25 11:16 _delta_log\r\n",
      "-rw-r--r-- 1 lucasmsp lucasmsp 126K abr 25 11:16 part-00000-45d36500-f9ba-4a4a-9cec-907d2a1ca41a-c000.snappy.parquet\r\n",
      "\r\n",
      "/tmp/delta_tutorial/delta_table/_delta_log:\r\n",
      "total 4,0K\r\n",
      "-rw-r--r-- 1 lucasmsp lucasmsp 1,3K abr 25 11:16 00000000000000000000.json\r\n"
     ]
    }
   ],
   "source": [
    "!ls -lhR {DELTA_PATH}"
   ]
  },
  {
   "cell_type": "code",
   "execution_count": 18,
   "id": "689eb652",
   "metadata": {},
   "outputs": [
    {
     "data": {
      "text/html": [
       "<div>\n",
       "<style scoped>\n",
       "    .dataframe tbody tr th:only-of-type {\n",
       "        vertical-align: middle;\n",
       "    }\n",
       "\n",
       "    .dataframe tbody tr th {\n",
       "        vertical-align: top;\n",
       "    }\n",
       "\n",
       "    .dataframe thead th {\n",
       "        text-align: right;\n",
       "    }\n",
       "</style>\n",
       "<table border=\"1\" class=\"dataframe\">\n",
       "  <thead>\n",
       "    <tr style=\"text-align: right;\">\n",
       "      <th></th>\n",
       "      <th>action</th>\n",
       "      <th>date</th>\n",
       "      <th>device_id</th>\n",
       "    </tr>\n",
       "  </thead>\n",
       "  <tbody>\n",
       "    <tr>\n",
       "      <th>0</th>\n",
       "      <td>Open</td>\n",
       "      <td>2021-04-01</td>\n",
       "      <td>2</td>\n",
       "    </tr>\n",
       "    <tr>\n",
       "      <th>1</th>\n",
       "      <td>Close</td>\n",
       "      <td>2021-04-01</td>\n",
       "      <td>9</td>\n",
       "    </tr>\n",
       "    <tr>\n",
       "      <th>2</th>\n",
       "      <td>Open</td>\n",
       "      <td>2021-04-04</td>\n",
       "      <td>77</td>\n",
       "    </tr>\n",
       "    <tr>\n",
       "      <th>3</th>\n",
       "      <td>Close</td>\n",
       "      <td>2021-04-03</td>\n",
       "      <td>54</td>\n",
       "    </tr>\n",
       "    <tr>\n",
       "      <th>4</th>\n",
       "      <td>Open</td>\n",
       "      <td>2021-04-02</td>\n",
       "      <td>33</td>\n",
       "    </tr>\n",
       "  </tbody>\n",
       "</table>\n",
       "</div>"
      ],
      "text/plain": [
       "  action        date  device_id\n",
       "0  Open   2021-04-01  2        \n",
       "1  Close  2021-04-01  9        \n",
       "2  Open   2021-04-04  77       \n",
       "3  Close  2021-04-03  54       \n",
       "4  Open   2021-04-02  33       "
      ]
     },
     "metadata": {},
     "output_type": "display_data"
    }
   ],
   "source": [
    "df = spark.read.format(\"delta\").load(DELTA_PATH)\n",
    "\n",
    "pretty_show(df)"
   ]
  },
  {
   "cell_type": "markdown",
   "id": "16a78a6a",
   "metadata": {},
   "source": [
    "### 3.1. Schema Enforcement and Evolution\n",
    "\n",
    "Delta Lake provides the ability to specify your schema and enforce it. This helps ensure that the data types are correct and required columns are present, preventing bad data from causing data corruption.\n",
    "\n",
    "- All DataFrame columns must exist in the target table. If there are columns in the DataFrame not present in the table, an exception is raised. Columns present in the table but not in the DataFrame are set to null.\n",
    "- DataFrame column data types must match the column data types in the target table. If they don’t match, an exception is raised.\n",
    "- If you specify other options, such as partitionBy, in combination with append mode, Delta Lake validates that they match and throws an error for any mismatch. When partitionBy is not present, appends automatically follow the partitioning of the existing data."
   ]
  },
  {
   "cell_type": "code",
   "execution_count": 19,
   "id": "cbaec580",
   "metadata": {},
   "outputs": [
    {
     "ename": "AnalysisException",
     "evalue": "A schema mismatch detected when writing to the Delta table (Table ID: 33217047-13d2-4f2d-9160-f3d4daa2b57f).\nTo enable schema migration using DataFrameWriter or DataStreamWriter, please set:\n'.option(\"mergeSchema\", \"true\")'.\nFor other operations, set the session configuration\nspark.databricks.delta.schema.autoMerge.enabled to \"true\". See the documentation\nspecific to the operation for details.\n\nTable schema:\nroot\n-- action: string (nullable = true)\n-- date: date (nullable = true)\n-- device_id: integer (nullable = true)\n\n\nData schema:\nroot\n-- action: string (nullable = true)\n-- date: date (nullable = true)\n-- device_id: integer (nullable = true)\n-- user_id: integer (nullable = true)\n\n         ",
     "output_type": "error",
     "traceback": [
      "\u001b[0;31m---------------------------------------------------------------------------\u001b[0m",
      "\u001b[0;31mAnalysisException\u001b[0m                         Traceback (most recent call last)",
      "Input \u001b[0;32mIn [19]\u001b[0m, in \u001b[0;36m<module>\u001b[0;34m\u001b[0m\n\u001b[1;32m      1\u001b[0m new_data_with_new_col \u001b[38;5;241m=\u001b[39m spark\u001b[38;5;241m.\u001b[39mrange(\u001b[38;5;241m1000\u001b[39m) \\\n\u001b[1;32m      2\u001b[0m   \u001b[38;5;241m.\u001b[39mselectExpr(\u001b[38;5;124m\"\u001b[39m\u001b[38;5;124m'\u001b[39m\u001b[38;5;124mOpen\u001b[39m\u001b[38;5;124m'\u001b[39m\u001b[38;5;124m as action\u001b[39m\u001b[38;5;124m\"\u001b[39m,\u001b[38;5;124m\"\u001b[39m\u001b[38;5;124mcast(concat(\u001b[39m\u001b[38;5;124m'\u001b[39m\u001b[38;5;124m2021-04-\u001b[39m\u001b[38;5;124m'\u001b[39m\u001b[38;5;124m, cast(rand(5) * 3 as int) + 1) as date) as date\u001b[39m\u001b[38;5;124m\"\u001b[39m) \\\n\u001b[1;32m      3\u001b[0m   \u001b[38;5;241m.\u001b[39mwithColumn(\u001b[38;5;124m\"\u001b[39m\u001b[38;5;124mdevice_id\u001b[39m\u001b[38;5;124m\"\u001b[39m, expr(\u001b[38;5;124m\"\u001b[39m\u001b[38;5;124mcast(rand(5) * 100 as int)\u001b[39m\u001b[38;5;124m\"\u001b[39m)) \\\n\u001b[1;32m      4\u001b[0m   \u001b[38;5;241m.\u001b[39mwithColumn(\u001b[38;5;124m\"\u001b[39m\u001b[38;5;124muser_id\u001b[39m\u001b[38;5;124m\"\u001b[39m, expr(\u001b[38;5;124m\"\u001b[39m\u001b[38;5;124mcast(rand(10) * 100 as int)\u001b[39m\u001b[38;5;124m\"\u001b[39m))\n\u001b[0;32m----> 6\u001b[0m \u001b[43mnew_data_with_new_col\u001b[49m\u001b[38;5;241;43m.\u001b[39;49m\u001b[43mrepartition\u001b[49m\u001b[43m(\u001b[49m\u001b[38;5;241;43m1\u001b[39;49m\u001b[43m)\u001b[49m\u001b[38;5;241;43m.\u001b[39;49m\u001b[43mwrite\u001b[49m\u001b[38;5;241;43m.\u001b[39;49m\u001b[43mformat\u001b[49m\u001b[43m(\u001b[49m\u001b[38;5;124;43m\"\u001b[39;49m\u001b[38;5;124;43mdelta\u001b[39;49m\u001b[38;5;124;43m\"\u001b[39;49m\u001b[43m)\u001b[49m\u001b[38;5;241;43m.\u001b[39;49m\u001b[43mmode\u001b[49m\u001b[43m(\u001b[49m\u001b[38;5;124;43m\"\u001b[39;49m\u001b[38;5;124;43mappend\u001b[39;49m\u001b[38;5;124;43m\"\u001b[39;49m\u001b[43m)\u001b[49m\u001b[38;5;241;43m.\u001b[39;49m\u001b[43msave\u001b[49m\u001b[43m(\u001b[49m\u001b[43mDELTA_PATH\u001b[49m\u001b[43m)\u001b[49m\n",
      "File \u001b[0;32m/opt/spark/python/pyspark/sql/readwriter.py:740\u001b[0m, in \u001b[0;36mDataFrameWriter.save\u001b[0;34m(self, path, format, mode, partitionBy, **options)\u001b[0m\n\u001b[1;32m    738\u001b[0m     \u001b[38;5;28mself\u001b[39m\u001b[38;5;241m.\u001b[39m_jwrite\u001b[38;5;241m.\u001b[39msave()\n\u001b[1;32m    739\u001b[0m \u001b[38;5;28;01melse\u001b[39;00m:\n\u001b[0;32m--> 740\u001b[0m     \u001b[38;5;28;43mself\u001b[39;49m\u001b[38;5;241;43m.\u001b[39;49m\u001b[43m_jwrite\u001b[49m\u001b[38;5;241;43m.\u001b[39;49m\u001b[43msave\u001b[49m\u001b[43m(\u001b[49m\u001b[43mpath\u001b[49m\u001b[43m)\u001b[49m\n",
      "File \u001b[0;32m/opt/spark/python/lib/py4j-0.10.9.2-src.zip/py4j/java_gateway.py:1309\u001b[0m, in \u001b[0;36mJavaMember.__call__\u001b[0;34m(self, *args)\u001b[0m\n\u001b[1;32m   1303\u001b[0m command \u001b[38;5;241m=\u001b[39m proto\u001b[38;5;241m.\u001b[39mCALL_COMMAND_NAME \u001b[38;5;241m+\u001b[39m\\\n\u001b[1;32m   1304\u001b[0m     \u001b[38;5;28mself\u001b[39m\u001b[38;5;241m.\u001b[39mcommand_header \u001b[38;5;241m+\u001b[39m\\\n\u001b[1;32m   1305\u001b[0m     args_command \u001b[38;5;241m+\u001b[39m\\\n\u001b[1;32m   1306\u001b[0m     proto\u001b[38;5;241m.\u001b[39mEND_COMMAND_PART\n\u001b[1;32m   1308\u001b[0m answer \u001b[38;5;241m=\u001b[39m \u001b[38;5;28mself\u001b[39m\u001b[38;5;241m.\u001b[39mgateway_client\u001b[38;5;241m.\u001b[39msend_command(command)\n\u001b[0;32m-> 1309\u001b[0m return_value \u001b[38;5;241m=\u001b[39m \u001b[43mget_return_value\u001b[49m\u001b[43m(\u001b[49m\n\u001b[1;32m   1310\u001b[0m \u001b[43m    \u001b[49m\u001b[43manswer\u001b[49m\u001b[43m,\u001b[49m\u001b[43m \u001b[49m\u001b[38;5;28;43mself\u001b[39;49m\u001b[38;5;241;43m.\u001b[39;49m\u001b[43mgateway_client\u001b[49m\u001b[43m,\u001b[49m\u001b[43m \u001b[49m\u001b[38;5;28;43mself\u001b[39;49m\u001b[38;5;241;43m.\u001b[39;49m\u001b[43mtarget_id\u001b[49m\u001b[43m,\u001b[49m\u001b[43m \u001b[49m\u001b[38;5;28;43mself\u001b[39;49m\u001b[38;5;241;43m.\u001b[39;49m\u001b[43mname\u001b[49m\u001b[43m)\u001b[49m\n\u001b[1;32m   1312\u001b[0m \u001b[38;5;28;01mfor\u001b[39;00m temp_arg \u001b[38;5;129;01min\u001b[39;00m temp_args:\n\u001b[1;32m   1313\u001b[0m     temp_arg\u001b[38;5;241m.\u001b[39m_detach()\n",
      "File \u001b[0;32m/opt/spark/python/pyspark/sql/utils.py:117\u001b[0m, in \u001b[0;36mcapture_sql_exception.<locals>.deco\u001b[0;34m(*a, **kw)\u001b[0m\n\u001b[1;32m    113\u001b[0m converted \u001b[38;5;241m=\u001b[39m convert_exception(e\u001b[38;5;241m.\u001b[39mjava_exception)\n\u001b[1;32m    114\u001b[0m \u001b[38;5;28;01mif\u001b[39;00m \u001b[38;5;129;01mnot\u001b[39;00m \u001b[38;5;28misinstance\u001b[39m(converted, UnknownException):\n\u001b[1;32m    115\u001b[0m     \u001b[38;5;66;03m# Hide where the exception came from that shows a non-Pythonic\u001b[39;00m\n\u001b[1;32m    116\u001b[0m     \u001b[38;5;66;03m# JVM exception message.\u001b[39;00m\n\u001b[0;32m--> 117\u001b[0m     \u001b[38;5;28;01mraise\u001b[39;00m converted \u001b[38;5;28;01mfrom\u001b[39;00m \u001b[38;5;28mNone\u001b[39m\n\u001b[1;32m    118\u001b[0m \u001b[38;5;28;01melse\u001b[39;00m:\n\u001b[1;32m    119\u001b[0m     \u001b[38;5;28;01mraise\u001b[39;00m\n",
      "\u001b[0;31mAnalysisException\u001b[0m: A schema mismatch detected when writing to the Delta table (Table ID: 33217047-13d2-4f2d-9160-f3d4daa2b57f).\nTo enable schema migration using DataFrameWriter or DataStreamWriter, please set:\n'.option(\"mergeSchema\", \"true\")'.\nFor other operations, set the session configuration\nspark.databricks.delta.schema.autoMerge.enabled to \"true\". See the documentation\nspecific to the operation for details.\n\nTable schema:\nroot\n-- action: string (nullable = true)\n-- date: date (nullable = true)\n-- device_id: integer (nullable = true)\n\n\nData schema:\nroot\n-- action: string (nullable = true)\n-- date: date (nullable = true)\n-- device_id: integer (nullable = true)\n-- user_id: integer (nullable = true)\n\n         "
     ]
    }
   ],
   "source": [
    "new_data_with_new_col = spark.range(1000) \\\n",
    "  .selectExpr(\"'Open' as action\",\"cast(concat('2021-04-', cast(rand(5) * 3 as int) + 1) as date) as date\") \\\n",
    "  .withColumn(\"device_id\", expr(\"cast(rand(5) * 100 as int)\")) \\\n",
    "  .withColumn(\"user_id\", expr(\"cast(rand(10) * 100 as int)\"))\n",
    "  \n",
    "new_data_with_new_col.repartition(1).write.format(\"delta\").mode(\"append\").save(DELTA_PATH)"
   ]
  },
  {
   "cell_type": "code",
   "execution_count": 20,
   "id": "6bdd5cec",
   "metadata": {},
   "outputs": [],
   "source": [
    "new_data_with_new_col.repartition(1)\\\n",
    "    .write\\\n",
    "    .format(\"delta\")\\\n",
    "    .option(\"mergeSchema\", \"true\")\\\n",
    "    .mode(\"append\").save(DELTA_PATH)"
   ]
  },
  {
   "cell_type": "code",
   "execution_count": 21,
   "id": "6fd19496",
   "metadata": {},
   "outputs": [
    {
     "name": "stdout",
     "output_type": "stream",
     "text": [
      "root\n",
      " |-- action: string (nullable = true)\n",
      " |-- date: date (nullable = true)\n",
      " |-- device_id: integer (nullable = true)\n",
      " |-- user_id: integer (nullable = true)\n",
      "\n"
     ]
    }
   ],
   "source": [
    "spark.read.format(\"delta\").load(DELTA_PATH).printSchema()"
   ]
  },
  {
   "cell_type": "code",
   "execution_count": 22,
   "id": "5ae927c0",
   "metadata": {},
   "outputs": [
    {
     "name": "stdout",
     "output_type": "stream",
     "text": [
      "/tmp/delta_tutorial/delta_table/_delta_log:\r\n",
      "total 8,0K\r\n",
      "-rw-r--r-- 1 lucasmsp lucasmsp 1,3K abr 25 11:16 00000000000000000000.json\r\n",
      "-rw-r--r-- 1 lucasmsp lucasmsp 1,4K abr 25 11:16 00000000000000000001.json\r\n"
     ]
    }
   ],
   "source": [
    "!ls -lhR {DELTA_PATH}/_delta_log"
   ]
  },
  {
   "cell_type": "markdown",
   "id": "8a1737bb",
   "metadata": {},
   "source": [
    "### 3.2. Audit History and Time travel\n",
    "\n",
    "Delta Lake transaction log records details about every change made to data providing a full audit trail of the changes. \n",
    "\n",
    "- You can audit data in your Data Lake.\n",
    "    - Retrieve information on the operations, user, timestamp, and so on for each write to a Delta table by running the history command. \n",
    "- You can roll back data in your Data Lake in case of bad writes and deletes.\n",
    "- Time travel helps to re-create analysis and reports based on older versions of data.\n",
    "- You can do time-series analytics.\n",
    "\n",
    "\n",
    "#### History Table\n",
    "\n",
    "| Column              | Type      | Description                                                               |\n",
    "|---------------------|-----------|---------------------------------------------------------------------------|\n",
    "| version             | long      | Table version generated by the operation.                                 |\n",
    "| timestamp           | timestamp | When this version was committed.                                          |\n",
    "| ...                 | ...       | ...                                                                       |\n",
    "| operation           | string    | Name of the operation.                                                    |\n",
    "| operationParameters | map       | Parameters of the operation (for example, predicates.)                    |\n",
    "| operationMetrics    | map       | Metrics of the operation (for example, number of rows and files modified. |"
   ]
  },
  {
   "cell_type": "code",
   "execution_count": 23,
   "id": "af3b8c31",
   "metadata": {},
   "outputs": [
    {
     "data": {
      "text/html": [
       "<div>\n",
       "<style scoped>\n",
       "    .dataframe tbody tr th:only-of-type {\n",
       "        vertical-align: middle;\n",
       "    }\n",
       "\n",
       "    .dataframe tbody tr th {\n",
       "        vertical-align: top;\n",
       "    }\n",
       "\n",
       "    .dataframe thead th {\n",
       "        text-align: right;\n",
       "    }\n",
       "</style>\n",
       "<table border=\"1\" class=\"dataframe\">\n",
       "  <thead>\n",
       "    <tr style=\"text-align: right;\">\n",
       "      <th></th>\n",
       "      <th>version</th>\n",
       "      <th>timestamp</th>\n",
       "      <th>operation</th>\n",
       "      <th>operationParameters</th>\n",
       "      <th>operationMetrics</th>\n",
       "    </tr>\n",
       "  </thead>\n",
       "  <tbody>\n",
       "    <tr>\n",
       "      <th>0</th>\n",
       "      <td>1</td>\n",
       "      <td>2022-04-25 11:16:53.757</td>\n",
       "      <td>WRITE</td>\n",
       "      <td>{'mode': 'Append', 'partitionBy': '[]'}</td>\n",
       "      <td>{'numOutputRows': '1000', 'numOutputBytes': '4160', 'numFiles': '1'}</td>\n",
       "    </tr>\n",
       "    <tr>\n",
       "      <th>1</th>\n",
       "      <td>0</td>\n",
       "      <td>2022-04-25 11:16:27.300</td>\n",
       "      <td>WRITE</td>\n",
       "      <td>{'mode': 'Overwrite', 'partitionBy': '[]'}</td>\n",
       "      <td>{'numOutputRows': '100000', 'numOutputBytes': '128331', 'numFiles': '1'}</td>\n",
       "    </tr>\n",
       "  </tbody>\n",
       "</table>\n",
       "</div>"
      ],
      "text/plain": [
       "   version               timestamp operation                         operationParameters                                                          operationMetrics\n",
       "0  1       2022-04-25 11:16:53.757  WRITE     {'mode': 'Append', 'partitionBy': '[]'}     {'numOutputRows': '1000', 'numOutputBytes': '4160', 'numFiles': '1'}    \n",
       "1  0       2022-04-25 11:16:27.300  WRITE     {'mode': 'Overwrite', 'partitionBy': '[]'}  {'numOutputRows': '100000', 'numOutputBytes': '128331', 'numFiles': '1'}"
      ]
     },
     "metadata": {},
     "output_type": "display_data"
    }
   ],
   "source": [
    "def get_history():\n",
    "    deltaTable = DeltaTable.forPath(spark, DELTA_PATH)\n",
    "    h = deltaTable.history().toPandas()[[\"version\", \"timestamp\", \"operation\", \n",
    "                                        \"operationParameters\",  \"operationMetrics\"]]\n",
    "    display(h)\n",
    "    \n",
    "\n",
    "get_history()"
   ]
  },
  {
   "cell_type": "code",
   "execution_count": 24,
   "id": "13318f72",
   "metadata": {},
   "outputs": [
    {
     "data": {
      "text/plain": [
       "101000"
      ]
     },
     "execution_count": 24,
     "metadata": {},
     "output_type": "execute_result"
    }
   ],
   "source": [
    "df = spark.read.format(\"delta\").load(DELTA_PATH)\n",
    "df.count()"
   ]
  },
  {
   "cell_type": "code",
   "execution_count": 25,
   "id": "476273b1",
   "metadata": {},
   "outputs": [
    {
     "data": {
      "text/html": [
       "<div>\n",
       "<style scoped>\n",
       "    .dataframe tbody tr th:only-of-type {\n",
       "        vertical-align: middle;\n",
       "    }\n",
       "\n",
       "    .dataframe tbody tr th {\n",
       "        vertical-align: top;\n",
       "    }\n",
       "\n",
       "    .dataframe thead th {\n",
       "        text-align: right;\n",
       "    }\n",
       "</style>\n",
       "<table border=\"1\" class=\"dataframe\">\n",
       "  <thead>\n",
       "    <tr style=\"text-align: right;\">\n",
       "      <th></th>\n",
       "      <th>action</th>\n",
       "      <th>date</th>\n",
       "      <th>device_id</th>\n",
       "      <th>user_id</th>\n",
       "    </tr>\n",
       "  </thead>\n",
       "  <tbody>\n",
       "    <tr>\n",
       "      <th>0</th>\n",
       "      <td>Open</td>\n",
       "      <td>2021-04-01</td>\n",
       "      <td>2</td>\n",
       "      <td>17</td>\n",
       "    </tr>\n",
       "    <tr>\n",
       "      <th>1</th>\n",
       "      <td>Open</td>\n",
       "      <td>2021-04-01</td>\n",
       "      <td>9</td>\n",
       "      <td>80</td>\n",
       "    </tr>\n",
       "    <tr>\n",
       "      <th>2</th>\n",
       "      <td>Open</td>\n",
       "      <td>2021-04-03</td>\n",
       "      <td>77</td>\n",
       "      <td>57</td>\n",
       "    </tr>\n",
       "    <tr>\n",
       "      <th>3</th>\n",
       "      <td>Open</td>\n",
       "      <td>2021-04-02</td>\n",
       "      <td>54</td>\n",
       "      <td>94</td>\n",
       "    </tr>\n",
       "    <tr>\n",
       "      <th>4</th>\n",
       "      <td>Open</td>\n",
       "      <td>2021-04-02</td>\n",
       "      <td>33</td>\n",
       "      <td>20</td>\n",
       "    </tr>\n",
       "  </tbody>\n",
       "</table>\n",
       "</div>"
      ],
      "text/plain": [
       "  action        date  device_id  user_id\n",
       "0  Open   2021-04-01  2          17     \n",
       "1  Open   2021-04-01  9          80     \n",
       "2  Open   2021-04-03  77         57     \n",
       "3  Open   2021-04-02  54         94     \n",
       "4  Open   2021-04-02  33         20     "
      ]
     },
     "metadata": {},
     "output_type": "display_data"
    }
   ],
   "source": [
    "tmp = df.filter(col(\"user_id\").isNotNull())\n",
    "pretty_show(tmp)"
   ]
  },
  {
   "cell_type": "code",
   "execution_count": 26,
   "id": "97a6cc52",
   "metadata": {},
   "outputs": [
    {
     "data": {
      "text/html": [
       "<div>\n",
       "<style scoped>\n",
       "    .dataframe tbody tr th:only-of-type {\n",
       "        vertical-align: middle;\n",
       "    }\n",
       "\n",
       "    .dataframe tbody tr th {\n",
       "        vertical-align: top;\n",
       "    }\n",
       "\n",
       "    .dataframe thead th {\n",
       "        text-align: right;\n",
       "    }\n",
       "</style>\n",
       "<table border=\"1\" class=\"dataframe\">\n",
       "  <thead>\n",
       "    <tr style=\"text-align: right;\">\n",
       "      <th></th>\n",
       "      <th>action</th>\n",
       "      <th>date</th>\n",
       "      <th>device_id</th>\n",
       "    </tr>\n",
       "  </thead>\n",
       "  <tbody>\n",
       "    <tr>\n",
       "      <th>0</th>\n",
       "      <td>Open</td>\n",
       "      <td>2021-04-01</td>\n",
       "      <td>2</td>\n",
       "    </tr>\n",
       "    <tr>\n",
       "      <th>1</th>\n",
       "      <td>Close</td>\n",
       "      <td>2021-04-01</td>\n",
       "      <td>9</td>\n",
       "    </tr>\n",
       "    <tr>\n",
       "      <th>2</th>\n",
       "      <td>Open</td>\n",
       "      <td>2021-04-04</td>\n",
       "      <td>77</td>\n",
       "    </tr>\n",
       "    <tr>\n",
       "      <th>3</th>\n",
       "      <td>Close</td>\n",
       "      <td>2021-04-03</td>\n",
       "      <td>54</td>\n",
       "    </tr>\n",
       "    <tr>\n",
       "      <th>4</th>\n",
       "      <td>Open</td>\n",
       "      <td>2021-04-02</td>\n",
       "      <td>33</td>\n",
       "    </tr>\n",
       "  </tbody>\n",
       "</table>\n",
       "</div>"
      ],
      "text/plain": [
       "  action        date  device_id\n",
       "0  Open   2021-04-01  2        \n",
       "1  Close  2021-04-01  9        \n",
       "2  Open   2021-04-04  77       \n",
       "3  Close  2021-04-03  54       \n",
       "4  Open   2021-04-02  33       "
      ]
     },
     "metadata": {},
     "output_type": "display_data"
    }
   ],
   "source": [
    "tmp = (\n",
    " spark.read.format(\"delta\")\n",
    "      .option(\"versionAsOf\", 0)\n",
    "      .load(DELTA_PATH)\n",
    ")\n",
    "\n",
    "# By timestamp: option(\"timestampAsOf\", \"2022-04-11 13:10:58.729\")\n",
    "\n",
    "pretty_show(tmp)"
   ]
  },
  {
   "cell_type": "markdown",
   "id": "ad39ce2c",
   "metadata": {},
   "source": [
    "### 3.3.  Delete"
   ]
  },
  {
   "cell_type": "code",
   "execution_count": 27,
   "id": "7e8c4927",
   "metadata": {},
   "outputs": [
    {
     "name": "stderr",
     "output_type": "stream",
     "text": [
      "/opt/spark/python/pyspark/sql/dataframe.py:138: FutureWarning: Deprecated in 2.0, use createOrReplaceTempView instead.\n",
      "  warnings.warn(\n"
     ]
    },
    {
     "data": {
      "text/plain": [
       "101000"
      ]
     },
     "execution_count": 27,
     "metadata": {},
     "output_type": "execute_result"
    }
   ],
   "source": [
    "df = spark.read.format(\"delta\").load(DELTA_PATH)\n",
    "df.registerTempTable(\"delta\")\n",
    "\n",
    "df.count()"
   ]
  },
  {
   "cell_type": "code",
   "execution_count": 28,
   "id": "8f124cb7",
   "metadata": {},
   "outputs": [
    {
     "data": {
      "text/plain": [
       "8"
      ]
     },
     "execution_count": 28,
     "metadata": {},
     "output_type": "execute_result"
    }
   ],
   "source": [
    "df.filter(\"user_id=1\").count()"
   ]
  },
  {
   "cell_type": "code",
   "execution_count": 29,
   "id": "944554a5",
   "metadata": {},
   "outputs": [
    {
     "data": {
      "text/plain": [
       "DataFrame[]"
      ]
     },
     "execution_count": 29,
     "metadata": {},
     "output_type": "execute_result"
    }
   ],
   "source": [
    "spark.sql(\"DELETE FROM delta WHERE user_id = 1\")\n",
    "\n",
    "# Python API: deltaTable.delete(col(\"user_id\") == 1)"
   ]
  },
  {
   "cell_type": "code",
   "execution_count": 30,
   "id": "12522e73",
   "metadata": {},
   "outputs": [
    {
     "data": {
      "text/plain": [
       "100992"
      ]
     },
     "execution_count": 30,
     "metadata": {},
     "output_type": "execute_result"
    }
   ],
   "source": [
    "df.count()"
   ]
  },
  {
   "attachments": {
    "Delta%20lake%20-%20delete-2.png": {
     "image/png": "[encoded data removed]"
    }
   },
   "cell_type": "markdown",
   "id": "6a7c97eb",
   "metadata": {},
   "source": [
    "#### Delete - under the hood\n",
    "\n",
    "- Updates data at the granularity of **files**:\n",
    "\n",
    "    - Scan 1: Find and select which files contain data matching predicate\n",
    "\n",
    "    - Scan 2: Read the selected files and rewrite them as new files without the matching records\n",
    "\n",
    "\n",
    "![Delta%20lake%20-%20delete-2.png](attachment:Delta%20lake%20-%20delete-2.png)"
   ]
  },
  {
   "cell_type": "code",
   "execution_count": 31,
   "id": "ded2e5ca",
   "metadata": {},
   "outputs": [
    {
     "data": {
      "text/html": [
       "<div>\n",
       "<style scoped>\n",
       "    .dataframe tbody tr th:only-of-type {\n",
       "        vertical-align: middle;\n",
       "    }\n",
       "\n",
       "    .dataframe tbody tr th {\n",
       "        vertical-align: top;\n",
       "    }\n",
       "\n",
       "    .dataframe thead th {\n",
       "        text-align: right;\n",
       "    }\n",
       "</style>\n",
       "<table border=\"1\" class=\"dataframe\">\n",
       "  <thead>\n",
       "    <tr style=\"text-align: right;\">\n",
       "      <th></th>\n",
       "      <th>version</th>\n",
       "      <th>timestamp</th>\n",
       "      <th>operation</th>\n",
       "      <th>operationParameters</th>\n",
       "      <th>operationMetrics</th>\n",
       "    </tr>\n",
       "  </thead>\n",
       "  <tbody>\n",
       "    <tr>\n",
       "      <th>0</th>\n",
       "      <td>2</td>\n",
       "      <td>2022-04-25 11:17:00.325</td>\n",
       "      <td>DELETE</td>\n",
       "      <td>{'predicate': '[\"(delta.user_id = 1)\"]'}</td>\n",
       "      <td>{'numAddedFiles': '1', 'scanTimeMs': '527', 'numCopiedRows': '992', 'executionTimeMs': '693', 'numDeletedRows': '8', 'numRemovedFiles': '1', 'rewriteTimeMs': '165'}</td>\n",
       "    </tr>\n",
       "    <tr>\n",
       "      <th>1</th>\n",
       "      <td>1</td>\n",
       "      <td>2022-04-25 11:16:53.757</td>\n",
       "      <td>WRITE</td>\n",
       "      <td>{'mode': 'Append', 'partitionBy': '[]'}</td>\n",
       "      <td>{'numOutputRows': '1000', 'numOutputBytes': '4160', 'numFiles': '1'}</td>\n",
       "    </tr>\n",
       "    <tr>\n",
       "      <th>2</th>\n",
       "      <td>0</td>\n",
       "      <td>2022-04-25 11:16:27.300</td>\n",
       "      <td>WRITE</td>\n",
       "      <td>{'mode': 'Overwrite', 'partitionBy': '[]'}</td>\n",
       "      <td>{'numOutputRows': '100000', 'numOutputBytes': '128331', 'numFiles': '1'}</td>\n",
       "    </tr>\n",
       "  </tbody>\n",
       "</table>\n",
       "</div>"
      ],
      "text/plain": [
       "   version               timestamp operation                         operationParameters                                                                                                                                                      operationMetrics\n",
       "0  2       2022-04-25 11:17:00.325  DELETE    {'predicate': '[\"(delta.user_id = 1)\"]'}    {'numAddedFiles': '1', 'scanTimeMs': '527', 'numCopiedRows': '992', 'executionTimeMs': '693', 'numDeletedRows': '8', 'numRemovedFiles': '1', 'rewriteTimeMs': '165'}\n",
       "1  1       2022-04-25 11:16:53.757  WRITE     {'mode': 'Append', 'partitionBy': '[]'}     {'numOutputRows': '1000', 'numOutputBytes': '4160', 'numFiles': '1'}                                                                                                \n",
       "2  0       2022-04-25 11:16:27.300  WRITE     {'mode': 'Overwrite', 'partitionBy': '[]'}  {'numOutputRows': '100000', 'numOutputBytes': '128331', 'numFiles': '1'}                                                                                            "
      ]
     },
     "metadata": {},
     "output_type": "display_data"
    }
   ],
   "source": [
    "get_history()"
   ]
  },
  {
   "cell_type": "markdown",
   "id": "6f0d0567",
   "metadata": {},
   "source": [
    "#### Recovering delete records by time travel (Old version)"
   ]
  },
  {
   "cell_type": "code",
   "execution_count": 32,
   "id": "d733bb12",
   "metadata": {},
   "outputs": [],
   "source": [
    "old = spark.read.format(\"delta\")\\\n",
    "    .option(\"versionAsOf\", 1)\\\n",
    "    .load(DELTA_PATH)\\\n",
    "    .filter(col(\"user_id\") == 1)\n",
    "\n",
    "old.repartition(1)\\\n",
    "    .write\\\n",
    "    .format(\"delta\")\\\n",
    "    .mode(\"append\").save(DELTA_PATH)"
   ]
  },
  {
   "cell_type": "code",
   "execution_count": 33,
   "id": "53002f9e",
   "metadata": {},
   "outputs": [
    {
     "data": {
      "text/html": [
       "<div>\n",
       "<style scoped>\n",
       "    .dataframe tbody tr th:only-of-type {\n",
       "        vertical-align: middle;\n",
       "    }\n",
       "\n",
       "    .dataframe tbody tr th {\n",
       "        vertical-align: top;\n",
       "    }\n",
       "\n",
       "    .dataframe thead th {\n",
       "        text-align: right;\n",
       "    }\n",
       "</style>\n",
       "<table border=\"1\" class=\"dataframe\">\n",
       "  <thead>\n",
       "    <tr style=\"text-align: right;\">\n",
       "      <th></th>\n",
       "      <th>version</th>\n",
       "      <th>timestamp</th>\n",
       "      <th>operation</th>\n",
       "      <th>operationParameters</th>\n",
       "      <th>operationMetrics</th>\n",
       "    </tr>\n",
       "  </thead>\n",
       "  <tbody>\n",
       "    <tr>\n",
       "      <th>0</th>\n",
       "      <td>3</td>\n",
       "      <td>2022-04-25 11:17:03.285</td>\n",
       "      <td>WRITE</td>\n",
       "      <td>{'mode': 'Append', 'partitionBy': '[]'}</td>\n",
       "      <td>{'numOutputRows': '8', 'numOutputBytes': '1312', 'numFiles': '1'}</td>\n",
       "    </tr>\n",
       "    <tr>\n",
       "      <th>1</th>\n",
       "      <td>2</td>\n",
       "      <td>2022-04-25 11:17:00.325</td>\n",
       "      <td>DELETE</td>\n",
       "      <td>{'predicate': '[\"(delta.user_id = 1)\"]'}</td>\n",
       "      <td>{'numAddedFiles': '1', 'scanTimeMs': '527', 'numCopiedRows': '992', 'executionTimeMs': '693', 'numDeletedRows': '8', 'numRemovedFiles': '1', 'rewriteTimeMs': '165'}</td>\n",
       "    </tr>\n",
       "    <tr>\n",
       "      <th>2</th>\n",
       "      <td>1</td>\n",
       "      <td>2022-04-25 11:16:53.757</td>\n",
       "      <td>WRITE</td>\n",
       "      <td>{'mode': 'Append', 'partitionBy': '[]'}</td>\n",
       "      <td>{'numOutputRows': '1000', 'numOutputBytes': '4160', 'numFiles': '1'}</td>\n",
       "    </tr>\n",
       "    <tr>\n",
       "      <th>3</th>\n",
       "      <td>0</td>\n",
       "      <td>2022-04-25 11:16:27.300</td>\n",
       "      <td>WRITE</td>\n",
       "      <td>{'mode': 'Overwrite', 'partitionBy': '[]'}</td>\n",
       "      <td>{'numOutputRows': '100000', 'numOutputBytes': '128331', 'numFiles': '1'}</td>\n",
       "    </tr>\n",
       "  </tbody>\n",
       "</table>\n",
       "</div>"
      ],
      "text/plain": [
       "   version               timestamp operation                         operationParameters                                                                                                                                                      operationMetrics\n",
       "0  3       2022-04-25 11:17:03.285  WRITE     {'mode': 'Append', 'partitionBy': '[]'}     {'numOutputRows': '8', 'numOutputBytes': '1312', 'numFiles': '1'}                                                                                                   \n",
       "1  2       2022-04-25 11:17:00.325  DELETE    {'predicate': '[\"(delta.user_id = 1)\"]'}    {'numAddedFiles': '1', 'scanTimeMs': '527', 'numCopiedRows': '992', 'executionTimeMs': '693', 'numDeletedRows': '8', 'numRemovedFiles': '1', 'rewriteTimeMs': '165'}\n",
       "2  1       2022-04-25 11:16:53.757  WRITE     {'mode': 'Append', 'partitionBy': '[]'}     {'numOutputRows': '1000', 'numOutputBytes': '4160', 'numFiles': '1'}                                                                                                \n",
       "3  0       2022-04-25 11:16:27.300  WRITE     {'mode': 'Overwrite', 'partitionBy': '[]'}  {'numOutputRows': '100000', 'numOutputBytes': '128331', 'numFiles': '1'}                                                                                            "
      ]
     },
     "metadata": {},
     "output_type": "display_data"
    }
   ],
   "source": [
    "get_history()"
   ]
  },
  {
   "cell_type": "code",
   "execution_count": 34,
   "id": "790528e4",
   "metadata": {},
   "outputs": [
    {
     "data": {
      "text/plain": [
       "101000"
      ]
     },
     "execution_count": 34,
     "metadata": {},
     "output_type": "execute_result"
    }
   ],
   "source": [
    "df.count()"
   ]
  },
  {
   "cell_type": "markdown",
   "id": "36b6da86",
   "metadata": {},
   "source": [
    "#### Recovering delete records by time travel (Starting from v1.2)"
   ]
  },
  {
   "cell_type": "code",
   "execution_count": 35,
   "id": "08fc410b",
   "metadata": {},
   "outputs": [
    {
     "data": {
      "text/plain": [
       "DataFrame[table_size_after_restore: bigint, num_of_files_after_restore: bigint, num_removed_files: bigint, num_restored_files: bigint, removed_files_size: bigint, restored_files_size: bigint]"
      ]
     },
     "execution_count": 35,
     "metadata": {},
     "output_type": "execute_result"
    }
   ],
   "source": [
    "deltaTable = DeltaTable.forPath(spark, DELTA_PATH)\n",
    "deltaTable.restoreToVersion(2)"
   ]
  },
  {
   "cell_type": "code",
   "execution_count": 36,
   "id": "7944b0a1",
   "metadata": {},
   "outputs": [
    {
     "data": {
      "text/html": [
       "<div>\n",
       "<style scoped>\n",
       "    .dataframe tbody tr th:only-of-type {\n",
       "        vertical-align: middle;\n",
       "    }\n",
       "\n",
       "    .dataframe tbody tr th {\n",
       "        vertical-align: top;\n",
       "    }\n",
       "\n",
       "    .dataframe thead th {\n",
       "        text-align: right;\n",
       "    }\n",
       "</style>\n",
       "<table border=\"1\" class=\"dataframe\">\n",
       "  <thead>\n",
       "    <tr style=\"text-align: right;\">\n",
       "      <th></th>\n",
       "      <th>version</th>\n",
       "      <th>timestamp</th>\n",
       "      <th>operation</th>\n",
       "      <th>operationParameters</th>\n",
       "      <th>operationMetrics</th>\n",
       "    </tr>\n",
       "  </thead>\n",
       "  <tbody>\n",
       "    <tr>\n",
       "      <th>0</th>\n",
       "      <td>4</td>\n",
       "      <td>2022-04-25 11:17:09.049</td>\n",
       "      <td>RESTORE</td>\n",
       "      <td>{'version': '2', 'timestamp': None}</td>\n",
       "      <td>{'removedFilesSize': '1312', 'tableSizeAfterRestore': '132472', 'numRemovedFiles': '1', 'restoredFilesSize': '0', 'numOfFilesAfterRestore': '2', 'numRestoredFiles': '0'}</td>\n",
       "    </tr>\n",
       "    <tr>\n",
       "      <th>1</th>\n",
       "      <td>3</td>\n",
       "      <td>2022-04-25 11:17:03.285</td>\n",
       "      <td>WRITE</td>\n",
       "      <td>{'mode': 'Append', 'partitionBy': '[]'}</td>\n",
       "      <td>{'numOutputRows': '8', 'numOutputBytes': '1312', 'numFiles': '1'}</td>\n",
       "    </tr>\n",
       "    <tr>\n",
       "      <th>2</th>\n",
       "      <td>2</td>\n",
       "      <td>2022-04-25 11:17:00.325</td>\n",
       "      <td>DELETE</td>\n",
       "      <td>{'predicate': '[\"(delta.user_id = 1)\"]'}</td>\n",
       "      <td>{'numAddedFiles': '1', 'scanTimeMs': '527', 'numCopiedRows': '992', 'executionTimeMs': '693', 'numDeletedRows': '8', 'numRemovedFiles': '1', 'rewriteTimeMs': '165'}</td>\n",
       "    </tr>\n",
       "    <tr>\n",
       "      <th>3</th>\n",
       "      <td>1</td>\n",
       "      <td>2022-04-25 11:16:53.757</td>\n",
       "      <td>WRITE</td>\n",
       "      <td>{'mode': 'Append', 'partitionBy': '[]'}</td>\n",
       "      <td>{'numOutputRows': '1000', 'numOutputBytes': '4160', 'numFiles': '1'}</td>\n",
       "    </tr>\n",
       "    <tr>\n",
       "      <th>4</th>\n",
       "      <td>0</td>\n",
       "      <td>2022-04-25 11:16:27.300</td>\n",
       "      <td>WRITE</td>\n",
       "      <td>{'mode': 'Overwrite', 'partitionBy': '[]'}</td>\n",
       "      <td>{'numOutputRows': '100000', 'numOutputBytes': '128331', 'numFiles': '1'}</td>\n",
       "    </tr>\n",
       "  </tbody>\n",
       "</table>\n",
       "</div>"
      ],
      "text/plain": [
       "   version               timestamp operation                         operationParameters                                                                                                                                                           operationMetrics\n",
       "0  4       2022-04-25 11:17:09.049  RESTORE   {'version': '2', 'timestamp': None}         {'removedFilesSize': '1312', 'tableSizeAfterRestore': '132472', 'numRemovedFiles': '1', 'restoredFilesSize': '0', 'numOfFilesAfterRestore': '2', 'numRestoredFiles': '0'}\n",
       "1  3       2022-04-25 11:17:03.285  WRITE     {'mode': 'Append', 'partitionBy': '[]'}     {'numOutputRows': '8', 'numOutputBytes': '1312', 'numFiles': '1'}                                                                                                        \n",
       "2  2       2022-04-25 11:17:00.325  DELETE    {'predicate': '[\"(delta.user_id = 1)\"]'}    {'numAddedFiles': '1', 'scanTimeMs': '527', 'numCopiedRows': '992', 'executionTimeMs': '693', 'numDeletedRows': '8', 'numRemovedFiles': '1', 'rewriteTimeMs': '165'}     \n",
       "3  1       2022-04-25 11:16:53.757  WRITE     {'mode': 'Append', 'partitionBy': '[]'}     {'numOutputRows': '1000', 'numOutputBytes': '4160', 'numFiles': '1'}                                                                                                     \n",
       "4  0       2022-04-25 11:16:27.300  WRITE     {'mode': 'Overwrite', 'partitionBy': '[]'}  {'numOutputRows': '100000', 'numOutputBytes': '128331', 'numFiles': '1'}                                                                                                 "
      ]
     },
     "metadata": {},
     "output_type": "display_data"
    }
   ],
   "source": [
    "get_history()"
   ]
  },
  {
   "cell_type": "code",
   "execution_count": 37,
   "id": "d1b014f5",
   "metadata": {},
   "outputs": [
    {
     "data": {
      "text/plain": [
       "100992"
      ]
     },
     "execution_count": 37,
     "metadata": {},
     "output_type": "execute_result"
    }
   ],
   "source": [
    "df.count()"
   ]
  },
  {
   "cell_type": "markdown",
   "id": "974bdb45",
   "metadata": {},
   "source": [
    "### 3.4. Merge \n",
    "\n",
    "#### Update"
   ]
  },
  {
   "cell_type": "code",
   "execution_count": 38,
   "id": "ff77dc3c",
   "metadata": {},
   "outputs": [
    {
     "data": {
      "text/html": [
       "<div>\n",
       "<style scoped>\n",
       "    .dataframe tbody tr th:only-of-type {\n",
       "        vertical-align: middle;\n",
       "    }\n",
       "\n",
       "    .dataframe tbody tr th {\n",
       "        vertical-align: top;\n",
       "    }\n",
       "\n",
       "    .dataframe thead th {\n",
       "        text-align: right;\n",
       "    }\n",
       "</style>\n",
       "<table border=\"1\" class=\"dataframe\">\n",
       "  <thead>\n",
       "    <tr style=\"text-align: right;\">\n",
       "      <th></th>\n",
       "      <th>date</th>\n",
       "      <th>device_id</th>\n",
       "      <th>id</th>\n",
       "    </tr>\n",
       "  </thead>\n",
       "  <tbody>\n",
       "    <tr>\n",
       "      <th>0</th>\n",
       "      <td>2021-04-03</td>\n",
       "      <td>-3</td>\n",
       "      <td>3</td>\n",
       "    </tr>\n",
       "    <tr>\n",
       "      <th>1</th>\n",
       "      <td>2021-04-02</td>\n",
       "      <td>-3</td>\n",
       "      <td>3</td>\n",
       "    </tr>\n",
       "    <tr>\n",
       "      <th>2</th>\n",
       "      <td>2021-04-01</td>\n",
       "      <td>-3</td>\n",
       "      <td>3</td>\n",
       "    </tr>\n",
       "  </tbody>\n",
       "</table>\n",
       "</div>"
      ],
      "text/plain": [
       "         date  device_id  id\n",
       "0  2021-04-03 -3          3 \n",
       "1  2021-04-02 -3          3 \n",
       "2  2021-04-01 -3          3 "
      ]
     },
     "metadata": {},
     "output_type": "display_data"
    }
   ],
   "source": [
    "updates = spark.read.format(\"delta\")\\\n",
    "    .load(DELTA_PATH)\\\n",
    "    .filter(col(\"user_id\") == 3)\\\n",
    "    .withColumn(\"device_id\", lit(-3))\\\n",
    "    .withColumnRenamed(\"user_id\", \"id\")\\\n",
    "    .drop(\"action\")\\\n",
    "    .dropDuplicates()\n",
    "    \n",
    "pretty_show(updates)"
   ]
  },
  {
   "cell_type": "code",
   "execution_count": 39,
   "id": "b4562152",
   "metadata": {},
   "outputs": [
    {
     "name": "stderr",
     "output_type": "stream",
     "text": [
      "\r",
      "[Stage 199:===================================================>   (47 + 3) / 50]\r",
      "\r",
      "                                                                                \r"
     ]
    }
   ],
   "source": [
    "\"\"\"\n",
    "    MERGE INTO old\n",
    "    USING updates\n",
    "    ON old.user_id = updates.id AND old.date = updates.date\n",
    "    WHEN MATCHED THEN\n",
    "      UPDATE SET old.device_id = updates.device_id\n",
    "\"\"\"\n",
    "\n",
    "deltaTable = DeltaTable.forPath(spark, DELTA_PATH)\n",
    "\n",
    "deltaTable.alias(\"old\")\\\n",
    "    .merge(updates.alias(\"updates\"), \"old.user_id = updates.id AND old.date = updates.date\") \\\n",
    "      .whenMatchedUpdate(set={ \"old.device_id\" : \"updates.device_id\" } ) \\\n",
    "      .execute()"
   ]
  },
  {
   "cell_type": "markdown",
   "id": "6fa67531",
   "metadata": {},
   "source": [
    "[MergeBuilder](https://docs.delta.io/0.4.0/api/python/index.html#delta.tables.DeltaMergeBuilder) clauses:\n",
    " - whenMatchedUpdate(condition=None, set=None)\n",
    " - whenMatchedUpdateAll(condition=None)\n",
    " - whenMatchedDelete(condition=None)\n",
    " - whenNotMatchedInsert(condition=None, values=None)\n",
    " - whenNotMatchedInsertAll(condition=None)"
   ]
  },
  {
   "cell_type": "code",
   "execution_count": 40,
   "id": "02cd8615",
   "metadata": {},
   "outputs": [
    {
     "data": {
      "text/html": [
       "<div>\n",
       "<style scoped>\n",
       "    .dataframe tbody tr th:only-of-type {\n",
       "        vertical-align: middle;\n",
       "    }\n",
       "\n",
       "    .dataframe tbody tr th {\n",
       "        vertical-align: top;\n",
       "    }\n",
       "\n",
       "    .dataframe thead th {\n",
       "        text-align: right;\n",
       "    }\n",
       "</style>\n",
       "<table border=\"1\" class=\"dataframe\">\n",
       "  <thead>\n",
       "    <tr style=\"text-align: right;\">\n",
       "      <th></th>\n",
       "      <th>action</th>\n",
       "      <th>date</th>\n",
       "      <th>device_id</th>\n",
       "      <th>user_id</th>\n",
       "    </tr>\n",
       "  </thead>\n",
       "  <tbody>\n",
       "    <tr>\n",
       "      <th>0</th>\n",
       "      <td>Open</td>\n",
       "      <td>2021-04-03</td>\n",
       "      <td>-3</td>\n",
       "      <td>3</td>\n",
       "    </tr>\n",
       "    <tr>\n",
       "      <th>1</th>\n",
       "      <td>Open</td>\n",
       "      <td>2021-04-03</td>\n",
       "      <td>-3</td>\n",
       "      <td>3</td>\n",
       "    </tr>\n",
       "    <tr>\n",
       "      <th>2</th>\n",
       "      <td>Open</td>\n",
       "      <td>2021-04-03</td>\n",
       "      <td>-3</td>\n",
       "      <td>3</td>\n",
       "    </tr>\n",
       "    <tr>\n",
       "      <th>3</th>\n",
       "      <td>Open</td>\n",
       "      <td>2021-04-02</td>\n",
       "      <td>-3</td>\n",
       "      <td>3</td>\n",
       "    </tr>\n",
       "    <tr>\n",
       "      <th>4</th>\n",
       "      <td>Open</td>\n",
       "      <td>2021-04-02</td>\n",
       "      <td>-3</td>\n",
       "      <td>3</td>\n",
       "    </tr>\n",
       "  </tbody>\n",
       "</table>\n",
       "</div>"
      ],
      "text/plain": [
       "  action        date  device_id  user_id\n",
       "0  Open   2021-04-03 -3          3      \n",
       "1  Open   2021-04-03 -3          3      \n",
       "2  Open   2021-04-03 -3          3      \n",
       "3  Open   2021-04-02 -3          3      \n",
       "4  Open   2021-04-02 -3          3      "
      ]
     },
     "metadata": {},
     "output_type": "display_data"
    }
   ],
   "source": [
    "tmp = spark.read.format(\"delta\")\\\n",
    "    .load(DELTA_PATH)\\\n",
    "    .filter(col(\"user_id\") == 3)\n",
    "\n",
    "pretty_show(tmp)"
   ]
  },
  {
   "cell_type": "code",
   "execution_count": 41,
   "id": "a0a5a004",
   "metadata": {},
   "outputs": [
    {
     "data": {
      "text/html": [
       "<div>\n",
       "<style scoped>\n",
       "    .dataframe tbody tr th:only-of-type {\n",
       "        vertical-align: middle;\n",
       "    }\n",
       "\n",
       "    .dataframe tbody tr th {\n",
       "        vertical-align: top;\n",
       "    }\n",
       "\n",
       "    .dataframe thead th {\n",
       "        text-align: right;\n",
       "    }\n",
       "</style>\n",
       "<table border=\"1\" class=\"dataframe\">\n",
       "  <thead>\n",
       "    <tr style=\"text-align: right;\">\n",
       "      <th></th>\n",
       "      <th>version</th>\n",
       "      <th>timestamp</th>\n",
       "      <th>operation</th>\n",
       "      <th>operationParameters</th>\n",
       "      <th>operationMetrics</th>\n",
       "    </tr>\n",
       "  </thead>\n",
       "  <tbody>\n",
       "    <tr>\n",
       "      <th>0</th>\n",
       "      <td>5</td>\n",
       "      <td>2022-04-25 11:17:12.601</td>\n",
       "      <td>MERGE</td>\n",
       "      <td>{'matchedPredicates': '[{\"actionType\":\"update\"}]', 'predicate': '((old.user_id = updates.id) AND (old.date = updates.date))', 'notMatchedPredicates': '[]'}</td>\n",
       "      <td>{'numOutputRows': '992', 'numTargetRowsInserted': '0', 'numTargetRowsUpdated': '11', 'numTargetFilesAdded': '1', 'numTargetFilesRemoved': '1', 'numTargetRowsDeleted': '0', 'scanTimeMs': '767', 'numSourceRows': '3', 'executionTimeMs': '1534', 'numTargetRowsCopied': '981', 'rewriteTimeMs': '763'}</td>\n",
       "    </tr>\n",
       "    <tr>\n",
       "      <th>1</th>\n",
       "      <td>4</td>\n",
       "      <td>2022-04-25 11:17:09.049</td>\n",
       "      <td>RESTORE</td>\n",
       "      <td>{'version': '2', 'timestamp': None}</td>\n",
       "      <td>{'removedFilesSize': '1312', 'tableSizeAfterRestore': '132472', 'numRemovedFiles': '1', 'restoredFilesSize': '0', 'numOfFilesAfterRestore': '2', 'numRestoredFiles': '0'}</td>\n",
       "    </tr>\n",
       "    <tr>\n",
       "      <th>2</th>\n",
       "      <td>3</td>\n",
       "      <td>2022-04-25 11:17:03.285</td>\n",
       "      <td>WRITE</td>\n",
       "      <td>{'mode': 'Append', 'partitionBy': '[]'}</td>\n",
       "      <td>{'numOutputRows': '8', 'numOutputBytes': '1312', 'numFiles': '1'}</td>\n",
       "    </tr>\n",
       "    <tr>\n",
       "      <th>3</th>\n",
       "      <td>2</td>\n",
       "      <td>2022-04-25 11:17:00.325</td>\n",
       "      <td>DELETE</td>\n",
       "      <td>{'predicate': '[\"(delta.user_id = 1)\"]'}</td>\n",
       "      <td>{'numAddedFiles': '1', 'scanTimeMs': '527', 'numCopiedRows': '992', 'executionTimeMs': '693', 'numDeletedRows': '8', 'numRemovedFiles': '1', 'rewriteTimeMs': '165'}</td>\n",
       "    </tr>\n",
       "    <tr>\n",
       "      <th>4</th>\n",
       "      <td>1</td>\n",
       "      <td>2022-04-25 11:16:53.757</td>\n",
       "      <td>WRITE</td>\n",
       "      <td>{'mode': 'Append', 'partitionBy': '[]'}</td>\n",
       "      <td>{'numOutputRows': '1000', 'numOutputBytes': '4160', 'numFiles': '1'}</td>\n",
       "    </tr>\n",
       "    <tr>\n",
       "      <th>5</th>\n",
       "      <td>0</td>\n",
       "      <td>2022-04-25 11:16:27.300</td>\n",
       "      <td>WRITE</td>\n",
       "      <td>{'mode': 'Overwrite', 'partitionBy': '[]'}</td>\n",
       "      <td>{'numOutputRows': '100000', 'numOutputBytes': '128331', 'numFiles': '1'}</td>\n",
       "    </tr>\n",
       "  </tbody>\n",
       "</table>\n",
       "</div>"
      ],
      "text/plain": [
       "   version               timestamp operation                                                                                                                                          operationParameters                                                                                                                                                                                                                                                                                         operationMetrics\n",
       "0  5       2022-04-25 11:17:12.601  MERGE     {'matchedPredicates': '[{\"actionType\":\"update\"}]', 'predicate': '((old.user_id = updates.id) AND (old.date = updates.date))', 'notMatchedPredicates': '[]'}  {'numOutputRows': '992', 'numTargetRowsInserted': '0', 'numTargetRowsUpdated': '11', 'numTargetFilesAdded': '1', 'numTargetFilesRemoved': '1', 'numTargetRowsDeleted': '0', 'scanTimeMs': '767', 'numSourceRows': '3', 'executionTimeMs': '1534', 'numTargetRowsCopied': '981', 'rewriteTimeMs': '763'}\n",
       "1  4       2022-04-25 11:17:09.049  RESTORE   {'version': '2', 'timestamp': None}                                                                                                                          {'removedFilesSize': '1312', 'tableSizeAfterRestore': '132472', 'numRemovedFiles': '1', 'restoredFilesSize': '0', 'numOfFilesAfterRestore': '2', 'numRestoredFiles': '0'}                                                                                                                              \n",
       "2  3       2022-04-25 11:17:03.285  WRITE     {'mode': 'Append', 'partitionBy': '[]'}                                                                                                                      {'numOutputRows': '8', 'numOutputBytes': '1312', 'numFiles': '1'}                                                                                                                                                                                                                                      \n",
       "3  2       2022-04-25 11:17:00.325  DELETE    {'predicate': '[\"(delta.user_id = 1)\"]'}                                                                                                                     {'numAddedFiles': '1', 'scanTimeMs': '527', 'numCopiedRows': '992', 'executionTimeMs': '693', 'numDeletedRows': '8', 'numRemovedFiles': '1', 'rewriteTimeMs': '165'}                                                                                                                                   \n",
       "4  1       2022-04-25 11:16:53.757  WRITE     {'mode': 'Append', 'partitionBy': '[]'}                                                                                                                      {'numOutputRows': '1000', 'numOutputBytes': '4160', 'numFiles': '1'}                                                                                                                                                                                                                                   \n",
       "5  0       2022-04-25 11:16:27.300  WRITE     {'mode': 'Overwrite', 'partitionBy': '[]'}                                                                                                                   {'numOutputRows': '100000', 'numOutputBytes': '128331', 'numFiles': '1'}                                                                                                                                                                                                                               "
      ]
     },
     "metadata": {},
     "output_type": "display_data"
    }
   ],
   "source": [
    "get_history()"
   ]
  },
  {
   "cell_type": "markdown",
   "id": "e68a77b8",
   "metadata": {},
   "source": [
    "#### Upsert"
   ]
  },
  {
   "cell_type": "code",
   "execution_count": 42,
   "id": "8ac76037",
   "metadata": {},
   "outputs": [
    {
     "data": {
      "text/html": [
       "<div>\n",
       "<style scoped>\n",
       "    .dataframe tbody tr th:only-of-type {\n",
       "        vertical-align: middle;\n",
       "    }\n",
       "\n",
       "    .dataframe tbody tr th {\n",
       "        vertical-align: top;\n",
       "    }\n",
       "\n",
       "    .dataframe thead th {\n",
       "        text-align: right;\n",
       "    }\n",
       "</style>\n",
       "<table border=\"1\" class=\"dataframe\">\n",
       "  <thead>\n",
       "    <tr style=\"text-align: right;\">\n",
       "      <th></th>\n",
       "      <th>action</th>\n",
       "      <th>date</th>\n",
       "      <th>user_id</th>\n",
       "      <th>device_id</th>\n",
       "    </tr>\n",
       "  </thead>\n",
       "  <tbody>\n",
       "    <tr>\n",
       "      <th>0</th>\n",
       "      <td>Closed</td>\n",
       "      <td>2021-04-01</td>\n",
       "      <td>3</td>\n",
       "      <td>3</td>\n",
       "    </tr>\n",
       "    <tr>\n",
       "      <th>1</th>\n",
       "      <td>Closed</td>\n",
       "      <td>2021-04-04</td>\n",
       "      <td>3</td>\n",
       "      <td>3</td>\n",
       "    </tr>\n",
       "  </tbody>\n",
       "</table>\n",
       "</div>"
      ],
      "text/plain": [
       "   action        date  user_id  device_id\n",
       "0  Closed  2021-04-01  3        3        \n",
       "1  Closed  2021-04-04  3        3        "
      ]
     },
     "metadata": {},
     "output_type": "display_data"
    }
   ],
   "source": [
    "upsert = spark.createDataFrame(\n",
    "        pd.DataFrame([\n",
    "            ['Closed', datetime.date(2021, 4, 1), 3, 3],\n",
    "            ['Closed', datetime.date(2021, 4, 4), 3, 3]], \n",
    "            columns=[\"action\", \"date\", \"user_id\", \"device_id\"])\n",
    ")\n",
    "\n",
    "pretty_show(upsert)"
   ]
  },
  {
   "cell_type": "code",
   "execution_count": 43,
   "id": "37de59f7",
   "metadata": {},
   "outputs": [],
   "source": [
    "deltaTable = DeltaTable.forPath(spark, DELTA_PATH)\n",
    "\n",
    "deltaTable.alias(\"old\")\\\n",
    "    .merge(\n",
    "        upsert.alias(\"upsert\"),\n",
    "        \"old.user_id = upsert.user_id AND old.date = upsert.date\")\\\n",
    "    .whenMatchedUpdateAll()\\\n",
    "    .whenNotMatchedInsertAll()\\\n",
    "    .execute()"
   ]
  },
  {
   "cell_type": "code",
   "execution_count": 44,
   "id": "4f79a531",
   "metadata": {},
   "outputs": [
    {
     "data": {
      "text/html": [
       "<div>\n",
       "<style scoped>\n",
       "    .dataframe tbody tr th:only-of-type {\n",
       "        vertical-align: middle;\n",
       "    }\n",
       "\n",
       "    .dataframe tbody tr th {\n",
       "        vertical-align: top;\n",
       "    }\n",
       "\n",
       "    .dataframe thead th {\n",
       "        text-align: right;\n",
       "    }\n",
       "</style>\n",
       "<table border=\"1\" class=\"dataframe\">\n",
       "  <thead>\n",
       "    <tr style=\"text-align: right;\">\n",
       "      <th></th>\n",
       "      <th>action</th>\n",
       "      <th>date</th>\n",
       "      <th>device_id</th>\n",
       "      <th>user_id</th>\n",
       "    </tr>\n",
       "  </thead>\n",
       "  <tbody>\n",
       "    <tr>\n",
       "      <th>0</th>\n",
       "      <td>Closed</td>\n",
       "      <td>2021-04-01</td>\n",
       "      <td>3</td>\n",
       "      <td>3</td>\n",
       "    </tr>\n",
       "    <tr>\n",
       "      <th>1</th>\n",
       "      <td>Closed</td>\n",
       "      <td>2021-04-04</td>\n",
       "      <td>3</td>\n",
       "      <td>3</td>\n",
       "    </tr>\n",
       "  </tbody>\n",
       "</table>\n",
       "</div>"
      ],
      "text/plain": [
       "   action        date  device_id  user_id\n",
       "0  Closed  2021-04-01  3          3      \n",
       "1  Closed  2021-04-04  3          3      "
      ]
     },
     "metadata": {},
     "output_type": "display_data"
    }
   ],
   "source": [
    "tmp = spark.read.format(\"delta\")\\\n",
    "    .load(DELTA_PATH)\\\n",
    "    .filter((col(\"user_id\") == 3) & (col(\"date\").isin([datetime.date(2021, 4, 1), datetime.date(2021, 4, 4)])))\n",
    "\n",
    "pretty_show(tmp, 5)"
   ]
  },
  {
   "cell_type": "code",
   "execution_count": 45,
   "id": "2cbe05e2",
   "metadata": {},
   "outputs": [
    {
     "data": {
      "text/html": [
       "<div>\n",
       "<style scoped>\n",
       "    .dataframe tbody tr th:only-of-type {\n",
       "        vertical-align: middle;\n",
       "    }\n",
       "\n",
       "    .dataframe tbody tr th {\n",
       "        vertical-align: top;\n",
       "    }\n",
       "\n",
       "    .dataframe thead th {\n",
       "        text-align: right;\n",
       "    }\n",
       "</style>\n",
       "<table border=\"1\" class=\"dataframe\">\n",
       "  <thead>\n",
       "    <tr style=\"text-align: right;\">\n",
       "      <th></th>\n",
       "      <th>version</th>\n",
       "      <th>timestamp</th>\n",
       "      <th>operation</th>\n",
       "      <th>operationParameters</th>\n",
       "      <th>operationMetrics</th>\n",
       "    </tr>\n",
       "  </thead>\n",
       "  <tbody>\n",
       "    <tr>\n",
       "      <th>0</th>\n",
       "      <td>6</td>\n",
       "      <td>2022-04-25 11:17:16.353</td>\n",
       "      <td>MERGE</td>\n",
       "      <td>{'matchedPredicates': '[{\"actionType\":\"update\"}]', 'predicate': '((CAST(old.user_id AS BIGINT) = upsert.user_id) AND (old.date = upsert.date))', 'notMatchedPredicates': '[{\"actionType\":\"insert\"}]'}</td>\n",
       "      <td>{'numOutputRows': '993', 'numTargetRowsInserted': '1', 'numTargetRowsUpdated': '1', 'numTargetFilesAdded': '1', 'numTargetFilesRemoved': '1', 'numTargetRowsDeleted': '0', 'scanTimeMs': '476', 'numSourceRows': '2', 'executionTimeMs': '954', 'numTargetRowsCopied': '991', 'rewriteTimeMs': '476'}</td>\n",
       "    </tr>\n",
       "    <tr>\n",
       "      <th>1</th>\n",
       "      <td>5</td>\n",
       "      <td>2022-04-25 11:17:12.601</td>\n",
       "      <td>MERGE</td>\n",
       "      <td>{'matchedPredicates': '[{\"actionType\":\"update\"}]', 'predicate': '((old.user_id = updates.id) AND (old.date = updates.date))', 'notMatchedPredicates': '[]'}</td>\n",
       "      <td>{'numOutputRows': '992', 'numTargetRowsInserted': '0', 'numTargetRowsUpdated': '11', 'numTargetFilesAdded': '1', 'numTargetFilesRemoved': '1', 'numTargetRowsDeleted': '0', 'scanTimeMs': '767', 'numSourceRows': '3', 'executionTimeMs': '1534', 'numTargetRowsCopied': '981', 'rewriteTimeMs': '763'}</td>\n",
       "    </tr>\n",
       "    <tr>\n",
       "      <th>2</th>\n",
       "      <td>4</td>\n",
       "      <td>2022-04-25 11:17:09.049</td>\n",
       "      <td>RESTORE</td>\n",
       "      <td>{'version': '2', 'timestamp': None}</td>\n",
       "      <td>{'removedFilesSize': '1312', 'tableSizeAfterRestore': '132472', 'numRemovedFiles': '1', 'restoredFilesSize': '0', 'numOfFilesAfterRestore': '2', 'numRestoredFiles': '0'}</td>\n",
       "    </tr>\n",
       "    <tr>\n",
       "      <th>3</th>\n",
       "      <td>3</td>\n",
       "      <td>2022-04-25 11:17:03.285</td>\n",
       "      <td>WRITE</td>\n",
       "      <td>{'mode': 'Append', 'partitionBy': '[]'}</td>\n",
       "      <td>{'numOutputRows': '8', 'numOutputBytes': '1312', 'numFiles': '1'}</td>\n",
       "    </tr>\n",
       "    <tr>\n",
       "      <th>4</th>\n",
       "      <td>2</td>\n",
       "      <td>2022-04-25 11:17:00.325</td>\n",
       "      <td>DELETE</td>\n",
       "      <td>{'predicate': '[\"(delta.user_id = 1)\"]'}</td>\n",
       "      <td>{'numAddedFiles': '1', 'scanTimeMs': '527', 'numCopiedRows': '992', 'executionTimeMs': '693', 'numDeletedRows': '8', 'numRemovedFiles': '1', 'rewriteTimeMs': '165'}</td>\n",
       "    </tr>\n",
       "    <tr>\n",
       "      <th>5</th>\n",
       "      <td>1</td>\n",
       "      <td>2022-04-25 11:16:53.757</td>\n",
       "      <td>WRITE</td>\n",
       "      <td>{'mode': 'Append', 'partitionBy': '[]'}</td>\n",
       "      <td>{'numOutputRows': '1000', 'numOutputBytes': '4160', 'numFiles': '1'}</td>\n",
       "    </tr>\n",
       "    <tr>\n",
       "      <th>6</th>\n",
       "      <td>0</td>\n",
       "      <td>2022-04-25 11:16:27.300</td>\n",
       "      <td>WRITE</td>\n",
       "      <td>{'mode': 'Overwrite', 'partitionBy': '[]'}</td>\n",
       "      <td>{'numOutputRows': '100000', 'numOutputBytes': '128331', 'numFiles': '1'}</td>\n",
       "    </tr>\n",
       "  </tbody>\n",
       "</table>\n",
       "</div>"
      ],
      "text/plain": [
       "   version               timestamp operation                                                                                                                                                                                    operationParameters                                                                                                                                                                                                                                                                                         operationMetrics\n",
       "0  6       2022-04-25 11:17:16.353  MERGE     {'matchedPredicates': '[{\"actionType\":\"update\"}]', 'predicate': '((CAST(old.user_id AS BIGINT) = upsert.user_id) AND (old.date = upsert.date))', 'notMatchedPredicates': '[{\"actionType\":\"insert\"}]'}  {'numOutputRows': '993', 'numTargetRowsInserted': '1', 'numTargetRowsUpdated': '1', 'numTargetFilesAdded': '1', 'numTargetFilesRemoved': '1', 'numTargetRowsDeleted': '0', 'scanTimeMs': '476', 'numSourceRows': '2', 'executionTimeMs': '954', 'numTargetRowsCopied': '991', 'rewriteTimeMs': '476'}  \n",
       "1  5       2022-04-25 11:17:12.601  MERGE     {'matchedPredicates': '[{\"actionType\":\"update\"}]', 'predicate': '((old.user_id = updates.id) AND (old.date = updates.date))', 'notMatchedPredicates': '[]'}                                            {'numOutputRows': '992', 'numTargetRowsInserted': '0', 'numTargetRowsUpdated': '11', 'numTargetFilesAdded': '1', 'numTargetFilesRemoved': '1', 'numTargetRowsDeleted': '0', 'scanTimeMs': '767', 'numSourceRows': '3', 'executionTimeMs': '1534', 'numTargetRowsCopied': '981', 'rewriteTimeMs': '763'}\n",
       "2  4       2022-04-25 11:17:09.049  RESTORE   {'version': '2', 'timestamp': None}                                                                                                                                                                    {'removedFilesSize': '1312', 'tableSizeAfterRestore': '132472', 'numRemovedFiles': '1', 'restoredFilesSize': '0', 'numOfFilesAfterRestore': '2', 'numRestoredFiles': '0'}                                                                                                                              \n",
       "3  3       2022-04-25 11:17:03.285  WRITE     {'mode': 'Append', 'partitionBy': '[]'}                                                                                                                                                                {'numOutputRows': '8', 'numOutputBytes': '1312', 'numFiles': '1'}                                                                                                                                                                                                                                      \n",
       "4  2       2022-04-25 11:17:00.325  DELETE    {'predicate': '[\"(delta.user_id = 1)\"]'}                                                                                                                                                               {'numAddedFiles': '1', 'scanTimeMs': '527', 'numCopiedRows': '992', 'executionTimeMs': '693', 'numDeletedRows': '8', 'numRemovedFiles': '1', 'rewriteTimeMs': '165'}                                                                                                                                   \n",
       "5  1       2022-04-25 11:16:53.757  WRITE     {'mode': 'Append', 'partitionBy': '[]'}                                                                                                                                                                {'numOutputRows': '1000', 'numOutputBytes': '4160', 'numFiles': '1'}                                                                                                                                                                                                                                   \n",
       "6  0       2022-04-25 11:16:27.300  WRITE     {'mode': 'Overwrite', 'partitionBy': '[]'}                                                                                                                                                             {'numOutputRows': '100000', 'numOutputBytes': '128331', 'numFiles': '1'}                                                                                                                                                                                                                               "
      ]
     },
     "metadata": {},
     "output_type": "display_data"
    }
   ],
   "source": [
    "get_history()"
   ]
  },
  {
   "cell_type": "markdown",
   "id": "0d0373af",
   "metadata": {},
   "source": [
    "### 3.5.  Table optimization: Checkpoints (on metadata) and Compact files (on data)\n",
    "\n",
    "Table optimization is an operation to reorganize data and/or metadata to speed up queries and/or reduce metadata.\n",
    "\n",
    "#### Checkpoints\n",
    "\n",
    "Every **10 commit** files are being aggregated to a checkpoint file of type parquet.  It allows the Spark engine to avoid reprocessing thousands of tiny JSON files. "
   ]
  },
  {
   "cell_type": "code",
   "execution_count": 46,
   "id": "abdcc9ce",
   "metadata": {},
   "outputs": [
    {
     "name": "stderr",
     "output_type": "stream",
     "text": [
      "\r",
      "[Stage 241:==========================================>            (39 + 8) / 50]\r",
      "\r",
      "                                                                                \r"
     ]
    }
   ],
   "source": [
    "deltaTable.update(col(\"user_id\") == \"4\", { \"action\": lit(\"Closed\") } ) \n",
    "deltaTable.update(col(\"user_id\") == \"5\", { \"action\": lit(\"Closed\") } ) \n",
    "deltaTable.update(col(\"user_id\") == \"6\", { \"action\": lit(\"Closed\") } ) \n",
    "deltaTable.update(col(\"user_id\") == \"7\", { \"action\": lit(\"Closed\") } ) \n",
    "deltaTable.update(col(\"user_id\") == \"8\", { \"action\": lit(\"Closed\") } ) \n",
    "deltaTable.update(col(\"user_id\") == \"9\", { \"action\": lit(\"Closed\") } )"
   ]
  },
  {
   "cell_type": "code",
   "execution_count": 47,
   "id": "f8a9b105",
   "metadata": {
    "scrolled": true
   },
   "outputs": [
    {
     "name": "stdout",
     "output_type": "stream",
     "text": [
      "/tmp/delta_tutorial/delta_table:\r\n",
      "total 188K\r\n",
      "drwxr-xr-x 2 lucasmsp lucasmsp 4,0K abr 25 11:17 _delta_log\r\n",
      "-rw-r--r-- 1 lucasmsp lucasmsp 3,6K abr 25 11:17 part-00000-0668e7ff-911b-451d-ba5d-c771857082ea-c000.snappy.parquet\r\n",
      "-rw-r--r-- 1 lucasmsp lucasmsp 3,6K abr 25 11:17 part-00000-07bb28b4-6676-443b-ab37-272f57ccc04d-c000.snappy.parquet\r\n",
      "-rw-r--r-- 1 lucasmsp lucasmsp 4,1K abr 25 11:17 part-00000-2040e097-3e43-4e20-bc2a-3ec962cdfa20-c000.snappy.parquet\r\n",
      "-rw-r--r-- 1 lucasmsp lucasmsp 4,1K abr 25 11:16 part-00000-2b70b7a7-690f-4034-86fe-cb23bb350a1d-c000.snappy.parquet\r\n",
      "-rw-r--r-- 1 lucasmsp lucasmsp 3,6K abr 25 11:17 part-00000-2cad6cdc-1095-4f60-87ab-b29792d3d11d-c000.snappy.parquet\r\n",
      "-rw-r--r-- 1 lucasmsp lucasmsp 126K abr 25 11:16 part-00000-45d36500-f9ba-4a4a-9cec-907d2a1ca41a-c000.snappy.parquet\r\n",
      "-rw-r--r-- 1 lucasmsp lucasmsp 3,6K abr 25 11:17 part-00000-6ea2097a-33ff-483b-b995-de10852268e2-c000.snappy.parquet\r\n",
      "-rw-r--r-- 1 lucasmsp lucasmsp 3,6K abr 25 11:17 part-00000-75bdd755-49e0-40be-a11d-ede8531d42f6-c000.snappy.parquet\r\n",
      "-rw-r--r-- 1 lucasmsp lucasmsp 4,1K abr 25 11:17 part-00000-a4762f46-cca8-46f7-ad6e-06d10e7e7b69-c000.snappy.parquet\r\n",
      "-rw-r--r-- 1 lucasmsp lucasmsp 1,3K abr 25 11:17 part-00000-d0e53ddd-13d9-4a91-bc72-bca4a5d55920-c000.snappy.parquet\r\n",
      "-rw-r--r-- 1 lucasmsp lucasmsp 3,6K abr 25 11:17 part-00000-ede34185-f115-47b8-bd60-ac871767bf7d-c000.snappy.parquet\r\n",
      "-rw-r--r-- 1 lucasmsp lucasmsp 3,6K abr 25 11:17 part-00000-f2f826f2-5239-41ea-84b1-fc6cca7c380c-c000.snappy.parquet\r\n",
      "\r\n",
      "/tmp/delta_tutorial/delta_table/_delta_log:\r\n",
      "total 88K\r\n",
      "-rw-r--r-- 1 lucasmsp lucasmsp 1,3K abr 25 11:16 00000000000000000000.json\r\n",
      "-rw-r--r-- 1 lucasmsp lucasmsp 1,4K abr 25 11:16 00000000000000000001.json\r\n",
      "-rw-r--r-- 1 lucasmsp lucasmsp 1,1K abr 25 11:17 00000000000000000002.json\r\n",
      "-rw-r--r-- 1 lucasmsp lucasmsp  820 abr 25 11:17 00000000000000000003.json\r\n",
      "-rw-r--r-- 1 lucasmsp lucasmsp  13K abr 25 11:17 00000000000000000004.checkpoint.parquet\r\n",
      "-rw-r--r-- 1 lucasmsp lucasmsp 1,2K abr 25 11:17 00000000000000000004.json\r\n",
      "-rw-r--r-- 1 lucasmsp lucasmsp 1,4K abr 25 11:17 00000000000000000005.json\r\n",
      "-rw-r--r-- 1 lucasmsp lucasmsp 1,4K abr 25 11:17 00000000000000000006.json\r\n",
      "-rw-r--r-- 1 lucasmsp lucasmsp 1,1K abr 25 11:17 00000000000000000007.json\r\n",
      "-rw-r--r-- 1 lucasmsp lucasmsp 1,1K abr 25 11:17 00000000000000000008.json\r\n",
      "-rw-r--r-- 1 lucasmsp lucasmsp 1,1K abr 25 11:17 00000000000000000009.json\r\n",
      "-rw-r--r-- 1 lucasmsp lucasmsp  13K abr 25 11:17 00000000000000000010.checkpoint.parquet\r\n",
      "-rw-r--r-- 1 lucasmsp lucasmsp 1,1K abr 25 11:17 00000000000000000010.json\r\n",
      "-rw-r--r-- 1 lucasmsp lucasmsp 1,1K abr 25 11:17 00000000000000000011.json\r\n",
      "-rw-r--r-- 1 lucasmsp lucasmsp 1,1K abr 25 11:17 00000000000000000012.json\r\n",
      "-rw-r--r-- 1 lucasmsp lucasmsp   25 abr 25 11:17 _last_checkpoint\r\n"
     ]
    }
   ],
   "source": [
    "!ls -lhR {DELTA_PATH}"
   ]
  },
  {
   "cell_type": "markdown",
   "id": "3bc43e20",
   "metadata": {},
   "source": [
    "#### Compacting files (starting from 1.2)\n",
    "\n",
    "Reduce multiple small files into larger big files. "
   ]
  },
  {
   "cell_type": "code",
   "execution_count": 48,
   "id": "4102d6a6",
   "metadata": {},
   "outputs": [
    {
     "name": "stdout",
     "output_type": "stream",
     "text": [
      "+------------------------------------+----------------------------------------------------------------------------------------------------------+\n",
      "|path                                |metrics                                                                                                   |\n",
      "+------------------------------------+----------------------------------------------------------------------------------------------------------+\n",
      "|file:/tmp/delta_tutorial/delta_table|{1, 2, {130965, 130965, 130965.0, 1, 130965}, {3669, 128331, 66000.0, 2, 132000}, 1, null, 1, 2, 0, false}|\n",
      "+------------------------------------+----------------------------------------------------------------------------------------------------------+\n",
      "\n"
     ]
    }
   ],
   "source": [
    "spark.sql(f\"OPTIMIZE '{DELTA_PATH}'\").show(truncate=False)"
   ]
  },
  {
   "cell_type": "code",
   "execution_count": 49,
   "id": "ec1ace53",
   "metadata": {},
   "outputs": [
    {
     "data": {
      "text/html": [
       "<div>\n",
       "<style scoped>\n",
       "    .dataframe tbody tr th:only-of-type {\n",
       "        vertical-align: middle;\n",
       "    }\n",
       "\n",
       "    .dataframe tbody tr th {\n",
       "        vertical-align: top;\n",
       "    }\n",
       "\n",
       "    .dataframe thead th {\n",
       "        text-align: right;\n",
       "    }\n",
       "</style>\n",
       "<table border=\"1\" class=\"dataframe\">\n",
       "  <thead>\n",
       "    <tr style=\"text-align: right;\">\n",
       "      <th></th>\n",
       "      <th>version</th>\n",
       "      <th>timestamp</th>\n",
       "      <th>operation</th>\n",
       "      <th>operationParameters</th>\n",
       "      <th>operationMetrics</th>\n",
       "    </tr>\n",
       "  </thead>\n",
       "  <tbody>\n",
       "    <tr>\n",
       "      <th>0</th>\n",
       "      <td>13</td>\n",
       "      <td>2022-04-25 11:17:28.193</td>\n",
       "      <td>OPTIMIZE</td>\n",
       "      <td>{'predicate': '[\"true\"]'}</td>\n",
       "      <td>{'numRemovedBytes': '132000', 'p50FileSize': '130965', 'p25FileSize': '130965', 'numAddedFiles': '1', 'minFileSize': '130965', 'p75FileSize': '130965', 'numAddedBytes': '130965', 'maxFileSize': '130965', 'numRemovedFiles': '2'}</td>\n",
       "    </tr>\n",
       "    <tr>\n",
       "      <th>1</th>\n",
       "      <td>12</td>\n",
       "      <td>2022-04-25 11:17:26.529</td>\n",
       "      <td>UPDATE</td>\n",
       "      <td>{'predicate': '(user_id#7300 = 9)'}</td>\n",
       "      <td>{'numAddedFiles': '1', 'scanTimeMs': '461', 'numCopiedRows': '978', 'executionTimeMs': '584', 'numUpdatedRows': '15', 'numRemovedFiles': '1', 'rewriteTimeMs': '123'}</td>\n",
       "    </tr>\n",
       "    <tr>\n",
       "      <th>2</th>\n",
       "      <td>11</td>\n",
       "      <td>2022-04-25 11:17:25.157</td>\n",
       "      <td>UPDATE</td>\n",
       "      <td>{'predicate': '(user_id#7300 = 8)'}</td>\n",
       "      <td>{'numAddedFiles': '1', 'scanTimeMs': '429', 'numCopiedRows': '982', 'executionTimeMs': '559', 'numUpdatedRows': '11', 'numRemovedFiles': '1', 'rewriteTimeMs': '130'}</td>\n",
       "    </tr>\n",
       "    <tr>\n",
       "      <th>3</th>\n",
       "      <td>10</td>\n",
       "      <td>2022-04-25 11:17:23.417</td>\n",
       "      <td>UPDATE</td>\n",
       "      <td>{'predicate': '(user_id#7300 = 7)'}</td>\n",
       "      <td>{'numAddedFiles': '1', 'scanTimeMs': '464', 'numCopiedRows': '982', 'executionTimeMs': '615', 'numUpdatedRows': '11', 'numRemovedFiles': '1', 'rewriteTimeMs': '151'}</td>\n",
       "    </tr>\n",
       "    <tr>\n",
       "      <th>4</th>\n",
       "      <td>9</td>\n",
       "      <td>2022-04-25 11:17:22.013</td>\n",
       "      <td>UPDATE</td>\n",
       "      <td>{'predicate': '(user_id#7300 = 6)'}</td>\n",
       "      <td>{'numAddedFiles': '1', 'scanTimeMs': '488', 'numCopiedRows': '988', 'executionTimeMs': '616', 'numUpdatedRows': '5', 'numRemovedFiles': '1', 'rewriteTimeMs': '128'}</td>\n",
       "    </tr>\n",
       "    <tr>\n",
       "      <th>5</th>\n",
       "      <td>8</td>\n",
       "      <td>2022-04-25 11:17:20.437</td>\n",
       "      <td>UPDATE</td>\n",
       "      <td>{'predicate': '(user_id#7300 = 5)'}</td>\n",
       "      <td>{'numAddedFiles': '1', 'scanTimeMs': '529', 'numCopiedRows': '976', 'executionTimeMs': '669', 'numUpdatedRows': '17', 'numRemovedFiles': '1', 'rewriteTimeMs': '140'}</td>\n",
       "    </tr>\n",
       "    <tr>\n",
       "      <th>6</th>\n",
       "      <td>7</td>\n",
       "      <td>2022-04-25 11:17:18.545</td>\n",
       "      <td>UPDATE</td>\n",
       "      <td>{'predicate': '(user_id#7300 = 4)'}</td>\n",
       "      <td>{'numAddedFiles': '1', 'scanTimeMs': '274', 'numCopiedRows': '978', 'executionTimeMs': '416', 'numUpdatedRows': '15', 'numRemovedFiles': '1', 'rewriteTimeMs': '142'}</td>\n",
       "    </tr>\n",
       "    <tr>\n",
       "      <th>7</th>\n",
       "      <td>6</td>\n",
       "      <td>2022-04-25 11:17:16.353</td>\n",
       "      <td>MERGE</td>\n",
       "      <td>{'matchedPredicates': '[{\"actionType\":\"update\"}]', 'predicate': '((CAST(old.user_id AS BIGINT) = upsert.user_id) AND (old.date = upsert.date))', 'notMatchedPredicates': '[{\"actionType\":\"insert\"}]'}</td>\n",
       "      <td>{'numOutputRows': '993', 'numTargetRowsInserted': '1', 'numTargetRowsUpdated': '1', 'numTargetFilesAdded': '1', 'numTargetFilesRemoved': '1', 'numTargetRowsDeleted': '0', 'scanTimeMs': '476', 'numSourceRows': '2', 'executionTimeMs': '954', 'numTargetRowsCopied': '991', 'rewriteTimeMs': '476'}</td>\n",
       "    </tr>\n",
       "    <tr>\n",
       "      <th>8</th>\n",
       "      <td>5</td>\n",
       "      <td>2022-04-25 11:17:12.601</td>\n",
       "      <td>MERGE</td>\n",
       "      <td>{'matchedPredicates': '[{\"actionType\":\"update\"}]', 'predicate': '((old.user_id = updates.id) AND (old.date = updates.date))', 'notMatchedPredicates': '[]'}</td>\n",
       "      <td>{'numOutputRows': '992', 'numTargetRowsInserted': '0', 'numTargetRowsUpdated': '11', 'numTargetFilesAdded': '1', 'numTargetFilesRemoved': '1', 'numTargetRowsDeleted': '0', 'scanTimeMs': '767', 'numSourceRows': '3', 'executionTimeMs': '1534', 'numTargetRowsCopied': '981', 'rewriteTimeMs': '763'}</td>\n",
       "    </tr>\n",
       "    <tr>\n",
       "      <th>9</th>\n",
       "      <td>4</td>\n",
       "      <td>2022-04-25 11:17:09.049</td>\n",
       "      <td>RESTORE</td>\n",
       "      <td>{'version': '2', 'timestamp': None}</td>\n",
       "      <td>{'removedFilesSize': '1312', 'tableSizeAfterRestore': '132472', 'numRemovedFiles': '1', 'restoredFilesSize': '0', 'numOfFilesAfterRestore': '2', 'numRestoredFiles': '0'}</td>\n",
       "    </tr>\n",
       "    <tr>\n",
       "      <th>10</th>\n",
       "      <td>3</td>\n",
       "      <td>2022-04-25 11:17:03.285</td>\n",
       "      <td>WRITE</td>\n",
       "      <td>{'mode': 'Append', 'partitionBy': '[]'}</td>\n",
       "      <td>{'numOutputRows': '8', 'numOutputBytes': '1312', 'numFiles': '1'}</td>\n",
       "    </tr>\n",
       "    <tr>\n",
       "      <th>11</th>\n",
       "      <td>2</td>\n",
       "      <td>2022-04-25 11:17:00.325</td>\n",
       "      <td>DELETE</td>\n",
       "      <td>{'predicate': '[\"(delta.user_id = 1)\"]'}</td>\n",
       "      <td>{'numAddedFiles': '1', 'scanTimeMs': '527', 'numCopiedRows': '992', 'executionTimeMs': '693', 'numDeletedRows': '8', 'numRemovedFiles': '1', 'rewriteTimeMs': '165'}</td>\n",
       "    </tr>\n",
       "    <tr>\n",
       "      <th>12</th>\n",
       "      <td>1</td>\n",
       "      <td>2022-04-25 11:16:53.757</td>\n",
       "      <td>WRITE</td>\n",
       "      <td>{'mode': 'Append', 'partitionBy': '[]'}</td>\n",
       "      <td>{'numOutputRows': '1000', 'numOutputBytes': '4160', 'numFiles': '1'}</td>\n",
       "    </tr>\n",
       "    <tr>\n",
       "      <th>13</th>\n",
       "      <td>0</td>\n",
       "      <td>2022-04-25 11:16:27.300</td>\n",
       "      <td>WRITE</td>\n",
       "      <td>{'mode': 'Overwrite', 'partitionBy': '[]'}</td>\n",
       "      <td>{'numOutputRows': '100000', 'numOutputBytes': '128331', 'numFiles': '1'}</td>\n",
       "    </tr>\n",
       "  </tbody>\n",
       "</table>\n",
       "</div>"
      ],
      "text/plain": [
       "    version               timestamp operation                                                                                                                                                                                    operationParameters                                                                                                                                                                                                                                                                                         operationMetrics\n",
       "0   13      2022-04-25 11:17:28.193  OPTIMIZE  {'predicate': '[\"true\"]'}                                                                                                                                                                              {'numRemovedBytes': '132000', 'p50FileSize': '130965', 'p25FileSize': '130965', 'numAddedFiles': '1', 'minFileSize': '130965', 'p75FileSize': '130965', 'numAddedBytes': '130965', 'maxFileSize': '130965', 'numRemovedFiles': '2'}                                                                    \n",
       "1   12      2022-04-25 11:17:26.529  UPDATE    {'predicate': '(user_id#7300 = 9)'}                                                                                                                                                                    {'numAddedFiles': '1', 'scanTimeMs': '461', 'numCopiedRows': '978', 'executionTimeMs': '584', 'numUpdatedRows': '15', 'numRemovedFiles': '1', 'rewriteTimeMs': '123'}                                                                                                                                  \n",
       "2   11      2022-04-25 11:17:25.157  UPDATE    {'predicate': '(user_id#7300 = 8)'}                                                                                                                                                                    {'numAddedFiles': '1', 'scanTimeMs': '429', 'numCopiedRows': '982', 'executionTimeMs': '559', 'numUpdatedRows': '11', 'numRemovedFiles': '1', 'rewriteTimeMs': '130'}                                                                                                                                  \n",
       "3   10      2022-04-25 11:17:23.417  UPDATE    {'predicate': '(user_id#7300 = 7)'}                                                                                                                                                                    {'numAddedFiles': '1', 'scanTimeMs': '464', 'numCopiedRows': '982', 'executionTimeMs': '615', 'numUpdatedRows': '11', 'numRemovedFiles': '1', 'rewriteTimeMs': '151'}                                                                                                                                  \n",
       "4   9       2022-04-25 11:17:22.013  UPDATE    {'predicate': '(user_id#7300 = 6)'}                                                                                                                                                                    {'numAddedFiles': '1', 'scanTimeMs': '488', 'numCopiedRows': '988', 'executionTimeMs': '616', 'numUpdatedRows': '5', 'numRemovedFiles': '1', 'rewriteTimeMs': '128'}                                                                                                                                   \n",
       "5   8       2022-04-25 11:17:20.437  UPDATE    {'predicate': '(user_id#7300 = 5)'}                                                                                                                                                                    {'numAddedFiles': '1', 'scanTimeMs': '529', 'numCopiedRows': '976', 'executionTimeMs': '669', 'numUpdatedRows': '17', 'numRemovedFiles': '1', 'rewriteTimeMs': '140'}                                                                                                                                  \n",
       "6   7       2022-04-25 11:17:18.545  UPDATE    {'predicate': '(user_id#7300 = 4)'}                                                                                                                                                                    {'numAddedFiles': '1', 'scanTimeMs': '274', 'numCopiedRows': '978', 'executionTimeMs': '416', 'numUpdatedRows': '15', 'numRemovedFiles': '1', 'rewriteTimeMs': '142'}                                                                                                                                  \n",
       "7   6       2022-04-25 11:17:16.353  MERGE     {'matchedPredicates': '[{\"actionType\":\"update\"}]', 'predicate': '((CAST(old.user_id AS BIGINT) = upsert.user_id) AND (old.date = upsert.date))', 'notMatchedPredicates': '[{\"actionType\":\"insert\"}]'}  {'numOutputRows': '993', 'numTargetRowsInserted': '1', 'numTargetRowsUpdated': '1', 'numTargetFilesAdded': '1', 'numTargetFilesRemoved': '1', 'numTargetRowsDeleted': '0', 'scanTimeMs': '476', 'numSourceRows': '2', 'executionTimeMs': '954', 'numTargetRowsCopied': '991', 'rewriteTimeMs': '476'}  \n",
       "8   5       2022-04-25 11:17:12.601  MERGE     {'matchedPredicates': '[{\"actionType\":\"update\"}]', 'predicate': '((old.user_id = updates.id) AND (old.date = updates.date))', 'notMatchedPredicates': '[]'}                                            {'numOutputRows': '992', 'numTargetRowsInserted': '0', 'numTargetRowsUpdated': '11', 'numTargetFilesAdded': '1', 'numTargetFilesRemoved': '1', 'numTargetRowsDeleted': '0', 'scanTimeMs': '767', 'numSourceRows': '3', 'executionTimeMs': '1534', 'numTargetRowsCopied': '981', 'rewriteTimeMs': '763'}\n",
       "9   4       2022-04-25 11:17:09.049  RESTORE   {'version': '2', 'timestamp': None}                                                                                                                                                                    {'removedFilesSize': '1312', 'tableSizeAfterRestore': '132472', 'numRemovedFiles': '1', 'restoredFilesSize': '0', 'numOfFilesAfterRestore': '2', 'numRestoredFiles': '0'}                                                                                                                              \n",
       "10  3       2022-04-25 11:17:03.285  WRITE     {'mode': 'Append', 'partitionBy': '[]'}                                                                                                                                                                {'numOutputRows': '8', 'numOutputBytes': '1312', 'numFiles': '1'}                                                                                                                                                                                                                                      \n",
       "11  2       2022-04-25 11:17:00.325  DELETE    {'predicate': '[\"(delta.user_id = 1)\"]'}                                                                                                                                                               {'numAddedFiles': '1', 'scanTimeMs': '527', 'numCopiedRows': '992', 'executionTimeMs': '693', 'numDeletedRows': '8', 'numRemovedFiles': '1', 'rewriteTimeMs': '165'}                                                                                                                                   \n",
       "12  1       2022-04-25 11:16:53.757  WRITE     {'mode': 'Append', 'partitionBy': '[]'}                                                                                                                                                                {'numOutputRows': '1000', 'numOutputBytes': '4160', 'numFiles': '1'}                                                                                                                                                                                                                                   \n",
       "13  0       2022-04-25 11:16:27.300  WRITE     {'mode': 'Overwrite', 'partitionBy': '[]'}                                                                                                                                                             {'numOutputRows': '100000', 'numOutputBytes': '128331', 'numFiles': '1'}                                                                                                                                                                                                                               "
      ]
     },
     "metadata": {},
     "output_type": "display_data"
    }
   ],
   "source": [
    "get_history()"
   ]
  },
  {
   "cell_type": "markdown",
   "id": "6aa1bf01",
   "metadata": {},
   "source": [
    "#### Compact files (Old way)\n",
    "\n",
    " - `option(\"dataChange\", \"false\")` indicates that the operation did not change the data, only rearranges the layout;\n",
    " - `option(\"replaceWhere\", partition)` can be used in partitioned data to avoid compact all data at once;"
   ]
  },
  {
   "cell_type": "code",
   "execution_count": 50,
   "id": "5e3503b9",
   "metadata": {},
   "outputs": [
    {
     "name": "stderr",
     "output_type": "stream",
     "text": [
      "\r",
      "[Stage 330:======================================>                (35 + 8) / 50]\r",
      "\r",
      "                                                                                \r"
     ]
    }
   ],
   "source": [
    "spark.read\\\n",
    " .format(\"delta\")\\\n",
    " .load(DELTA_PATH)\\\n",
    " .repartition(1)\\\n",
    " .write\\\n",
    " .option(\"dataChange\", \"false\")\\\n",
    " .format(\"delta\")\\\n",
    " .mode(\"overwrite\")\\\n",
    " .save(DELTA_PATH)"
   ]
  },
  {
   "cell_type": "code",
   "execution_count": 51,
   "id": "ec1940f5",
   "metadata": {},
   "outputs": [
    {
     "data": {
      "text/html": [
       "<div>\n",
       "<style scoped>\n",
       "    .dataframe tbody tr th:only-of-type {\n",
       "        vertical-align: middle;\n",
       "    }\n",
       "\n",
       "    .dataframe tbody tr th {\n",
       "        vertical-align: top;\n",
       "    }\n",
       "\n",
       "    .dataframe thead th {\n",
       "        text-align: right;\n",
       "    }\n",
       "</style>\n",
       "<table border=\"1\" class=\"dataframe\">\n",
       "  <thead>\n",
       "    <tr style=\"text-align: right;\">\n",
       "      <th></th>\n",
       "      <th>version</th>\n",
       "      <th>timestamp</th>\n",
       "      <th>operation</th>\n",
       "      <th>operationParameters</th>\n",
       "      <th>operationMetrics</th>\n",
       "    </tr>\n",
       "  </thead>\n",
       "  <tbody>\n",
       "    <tr>\n",
       "      <th>0</th>\n",
       "      <td>14</td>\n",
       "      <td>2022-04-25 11:17:29.997</td>\n",
       "      <td>WRITE</td>\n",
       "      <td>{'mode': 'Overwrite', 'partitionBy': '[]'}</td>\n",
       "      <td>{'numOutputRows': '100993', 'numOutputBytes': '130965', 'numFiles': '1'}</td>\n",
       "    </tr>\n",
       "    <tr>\n",
       "      <th>1</th>\n",
       "      <td>13</td>\n",
       "      <td>2022-04-25 11:17:28.193</td>\n",
       "      <td>OPTIMIZE</td>\n",
       "      <td>{'predicate': '[\"true\"]'}</td>\n",
       "      <td>{'numRemovedBytes': '132000', 'p50FileSize': '130965', 'p25FileSize': '130965', 'numAddedFiles': '1', 'minFileSize': '130965', 'p75FileSize': '130965', 'numAddedBytes': '130965', 'maxFileSize': '130965', 'numRemovedFiles': '2'}</td>\n",
       "    </tr>\n",
       "    <tr>\n",
       "      <th>2</th>\n",
       "      <td>12</td>\n",
       "      <td>2022-04-25 11:17:26.529</td>\n",
       "      <td>UPDATE</td>\n",
       "      <td>{'predicate': '(user_id#7300 = 9)'}</td>\n",
       "      <td>{'numAddedFiles': '1', 'scanTimeMs': '461', 'numCopiedRows': '978', 'executionTimeMs': '584', 'numUpdatedRows': '15', 'numRemovedFiles': '1', 'rewriteTimeMs': '123'}</td>\n",
       "    </tr>\n",
       "    <tr>\n",
       "      <th>3</th>\n",
       "      <td>11</td>\n",
       "      <td>2022-04-25 11:17:25.157</td>\n",
       "      <td>UPDATE</td>\n",
       "      <td>{'predicate': '(user_id#7300 = 8)'}</td>\n",
       "      <td>{'numAddedFiles': '1', 'scanTimeMs': '429', 'numCopiedRows': '982', 'executionTimeMs': '559', 'numUpdatedRows': '11', 'numRemovedFiles': '1', 'rewriteTimeMs': '130'}</td>\n",
       "    </tr>\n",
       "    <tr>\n",
       "      <th>4</th>\n",
       "      <td>10</td>\n",
       "      <td>2022-04-25 11:17:23.417</td>\n",
       "      <td>UPDATE</td>\n",
       "      <td>{'predicate': '(user_id#7300 = 7)'}</td>\n",
       "      <td>{'numAddedFiles': '1', 'scanTimeMs': '464', 'numCopiedRows': '982', 'executionTimeMs': '615', 'numUpdatedRows': '11', 'numRemovedFiles': '1', 'rewriteTimeMs': '151'}</td>\n",
       "    </tr>\n",
       "    <tr>\n",
       "      <th>5</th>\n",
       "      <td>9</td>\n",
       "      <td>2022-04-25 11:17:22.013</td>\n",
       "      <td>UPDATE</td>\n",
       "      <td>{'predicate': '(user_id#7300 = 6)'}</td>\n",
       "      <td>{'numAddedFiles': '1', 'scanTimeMs': '488', 'numCopiedRows': '988', 'executionTimeMs': '616', 'numUpdatedRows': '5', 'numRemovedFiles': '1', 'rewriteTimeMs': '128'}</td>\n",
       "    </tr>\n",
       "    <tr>\n",
       "      <th>6</th>\n",
       "      <td>8</td>\n",
       "      <td>2022-04-25 11:17:20.437</td>\n",
       "      <td>UPDATE</td>\n",
       "      <td>{'predicate': '(user_id#7300 = 5)'}</td>\n",
       "      <td>{'numAddedFiles': '1', 'scanTimeMs': '529', 'numCopiedRows': '976', 'executionTimeMs': '669', 'numUpdatedRows': '17', 'numRemovedFiles': '1', 'rewriteTimeMs': '140'}</td>\n",
       "    </tr>\n",
       "    <tr>\n",
       "      <th>7</th>\n",
       "      <td>7</td>\n",
       "      <td>2022-04-25 11:17:18.545</td>\n",
       "      <td>UPDATE</td>\n",
       "      <td>{'predicate': '(user_id#7300 = 4)'}</td>\n",
       "      <td>{'numAddedFiles': '1', 'scanTimeMs': '274', 'numCopiedRows': '978', 'executionTimeMs': '416', 'numUpdatedRows': '15', 'numRemovedFiles': '1', 'rewriteTimeMs': '142'}</td>\n",
       "    </tr>\n",
       "    <tr>\n",
       "      <th>8</th>\n",
       "      <td>6</td>\n",
       "      <td>2022-04-25 11:17:16.353</td>\n",
       "      <td>MERGE</td>\n",
       "      <td>{'matchedPredicates': '[{\"actionType\":\"update\"}]', 'predicate': '((CAST(old.user_id AS BIGINT) = upsert.user_id) AND (old.date = upsert.date))', 'notMatchedPredicates': '[{\"actionType\":\"insert\"}]'}</td>\n",
       "      <td>{'numOutputRows': '993', 'numTargetRowsInserted': '1', 'numTargetRowsUpdated': '1', 'numTargetFilesAdded': '1', 'numTargetFilesRemoved': '1', 'numTargetRowsDeleted': '0', 'scanTimeMs': '476', 'numSourceRows': '2', 'executionTimeMs': '954', 'numTargetRowsCopied': '991', 'rewriteTimeMs': '476'}</td>\n",
       "    </tr>\n",
       "    <tr>\n",
       "      <th>9</th>\n",
       "      <td>5</td>\n",
       "      <td>2022-04-25 11:17:12.601</td>\n",
       "      <td>MERGE</td>\n",
       "      <td>{'matchedPredicates': '[{\"actionType\":\"update\"}]', 'predicate': '((old.user_id = updates.id) AND (old.date = updates.date))', 'notMatchedPredicates': '[]'}</td>\n",
       "      <td>{'numOutputRows': '992', 'numTargetRowsInserted': '0', 'numTargetRowsUpdated': '11', 'numTargetFilesAdded': '1', 'numTargetFilesRemoved': '1', 'numTargetRowsDeleted': '0', 'scanTimeMs': '767', 'numSourceRows': '3', 'executionTimeMs': '1534', 'numTargetRowsCopied': '981', 'rewriteTimeMs': '763'}</td>\n",
       "    </tr>\n",
       "    <tr>\n",
       "      <th>10</th>\n",
       "      <td>4</td>\n",
       "      <td>2022-04-25 11:17:09.049</td>\n",
       "      <td>RESTORE</td>\n",
       "      <td>{'version': '2', 'timestamp': None}</td>\n",
       "      <td>{'removedFilesSize': '1312', 'tableSizeAfterRestore': '132472', 'numRemovedFiles': '1', 'restoredFilesSize': '0', 'numOfFilesAfterRestore': '2', 'numRestoredFiles': '0'}</td>\n",
       "    </tr>\n",
       "    <tr>\n",
       "      <th>11</th>\n",
       "      <td>3</td>\n",
       "      <td>2022-04-25 11:17:03.285</td>\n",
       "      <td>WRITE</td>\n",
       "      <td>{'mode': 'Append', 'partitionBy': '[]'}</td>\n",
       "      <td>{'numOutputRows': '8', 'numOutputBytes': '1312', 'numFiles': '1'}</td>\n",
       "    </tr>\n",
       "    <tr>\n",
       "      <th>12</th>\n",
       "      <td>2</td>\n",
       "      <td>2022-04-25 11:17:00.325</td>\n",
       "      <td>DELETE</td>\n",
       "      <td>{'predicate': '[\"(delta.user_id = 1)\"]'}</td>\n",
       "      <td>{'numAddedFiles': '1', 'scanTimeMs': '527', 'numCopiedRows': '992', 'executionTimeMs': '693', 'numDeletedRows': '8', 'numRemovedFiles': '1', 'rewriteTimeMs': '165'}</td>\n",
       "    </tr>\n",
       "    <tr>\n",
       "      <th>13</th>\n",
       "      <td>1</td>\n",
       "      <td>2022-04-25 11:16:53.757</td>\n",
       "      <td>WRITE</td>\n",
       "      <td>{'mode': 'Append', 'partitionBy': '[]'}</td>\n",
       "      <td>{'numOutputRows': '1000', 'numOutputBytes': '4160', 'numFiles': '1'}</td>\n",
       "    </tr>\n",
       "    <tr>\n",
       "      <th>14</th>\n",
       "      <td>0</td>\n",
       "      <td>2022-04-25 11:16:27.300</td>\n",
       "      <td>WRITE</td>\n",
       "      <td>{'mode': 'Overwrite', 'partitionBy': '[]'}</td>\n",
       "      <td>{'numOutputRows': '100000', 'numOutputBytes': '128331', 'numFiles': '1'}</td>\n",
       "    </tr>\n",
       "  </tbody>\n",
       "</table>\n",
       "</div>"
      ],
      "text/plain": [
       "    version               timestamp operation                                                                                                                                                                                    operationParameters                                                                                                                                                                                                                                                                                         operationMetrics\n",
       "0   14      2022-04-25 11:17:29.997  WRITE     {'mode': 'Overwrite', 'partitionBy': '[]'}                                                                                                                                                             {'numOutputRows': '100993', 'numOutputBytes': '130965', 'numFiles': '1'}                                                                                                                                                                                                                               \n",
       "1   13      2022-04-25 11:17:28.193  OPTIMIZE  {'predicate': '[\"true\"]'}                                                                                                                                                                              {'numRemovedBytes': '132000', 'p50FileSize': '130965', 'p25FileSize': '130965', 'numAddedFiles': '1', 'minFileSize': '130965', 'p75FileSize': '130965', 'numAddedBytes': '130965', 'maxFileSize': '130965', 'numRemovedFiles': '2'}                                                                    \n",
       "2   12      2022-04-25 11:17:26.529  UPDATE    {'predicate': '(user_id#7300 = 9)'}                                                                                                                                                                    {'numAddedFiles': '1', 'scanTimeMs': '461', 'numCopiedRows': '978', 'executionTimeMs': '584', 'numUpdatedRows': '15', 'numRemovedFiles': '1', 'rewriteTimeMs': '123'}                                                                                                                                  \n",
       "3   11      2022-04-25 11:17:25.157  UPDATE    {'predicate': '(user_id#7300 = 8)'}                                                                                                                                                                    {'numAddedFiles': '1', 'scanTimeMs': '429', 'numCopiedRows': '982', 'executionTimeMs': '559', 'numUpdatedRows': '11', 'numRemovedFiles': '1', 'rewriteTimeMs': '130'}                                                                                                                                  \n",
       "4   10      2022-04-25 11:17:23.417  UPDATE    {'predicate': '(user_id#7300 = 7)'}                                                                                                                                                                    {'numAddedFiles': '1', 'scanTimeMs': '464', 'numCopiedRows': '982', 'executionTimeMs': '615', 'numUpdatedRows': '11', 'numRemovedFiles': '1', 'rewriteTimeMs': '151'}                                                                                                                                  \n",
       "5   9       2022-04-25 11:17:22.013  UPDATE    {'predicate': '(user_id#7300 = 6)'}                                                                                                                                                                    {'numAddedFiles': '1', 'scanTimeMs': '488', 'numCopiedRows': '988', 'executionTimeMs': '616', 'numUpdatedRows': '5', 'numRemovedFiles': '1', 'rewriteTimeMs': '128'}                                                                                                                                   \n",
       "6   8       2022-04-25 11:17:20.437  UPDATE    {'predicate': '(user_id#7300 = 5)'}                                                                                                                                                                    {'numAddedFiles': '1', 'scanTimeMs': '529', 'numCopiedRows': '976', 'executionTimeMs': '669', 'numUpdatedRows': '17', 'numRemovedFiles': '1', 'rewriteTimeMs': '140'}                                                                                                                                  \n",
       "7   7       2022-04-25 11:17:18.545  UPDATE    {'predicate': '(user_id#7300 = 4)'}                                                                                                                                                                    {'numAddedFiles': '1', 'scanTimeMs': '274', 'numCopiedRows': '978', 'executionTimeMs': '416', 'numUpdatedRows': '15', 'numRemovedFiles': '1', 'rewriteTimeMs': '142'}                                                                                                                                  \n",
       "8   6       2022-04-25 11:17:16.353  MERGE     {'matchedPredicates': '[{\"actionType\":\"update\"}]', 'predicate': '((CAST(old.user_id AS BIGINT) = upsert.user_id) AND (old.date = upsert.date))', 'notMatchedPredicates': '[{\"actionType\":\"insert\"}]'}  {'numOutputRows': '993', 'numTargetRowsInserted': '1', 'numTargetRowsUpdated': '1', 'numTargetFilesAdded': '1', 'numTargetFilesRemoved': '1', 'numTargetRowsDeleted': '0', 'scanTimeMs': '476', 'numSourceRows': '2', 'executionTimeMs': '954', 'numTargetRowsCopied': '991', 'rewriteTimeMs': '476'}  \n",
       "9   5       2022-04-25 11:17:12.601  MERGE     {'matchedPredicates': '[{\"actionType\":\"update\"}]', 'predicate': '((old.user_id = updates.id) AND (old.date = updates.date))', 'notMatchedPredicates': '[]'}                                            {'numOutputRows': '992', 'numTargetRowsInserted': '0', 'numTargetRowsUpdated': '11', 'numTargetFilesAdded': '1', 'numTargetFilesRemoved': '1', 'numTargetRowsDeleted': '0', 'scanTimeMs': '767', 'numSourceRows': '3', 'executionTimeMs': '1534', 'numTargetRowsCopied': '981', 'rewriteTimeMs': '763'}\n",
       "10  4       2022-04-25 11:17:09.049  RESTORE   {'version': '2', 'timestamp': None}                                                                                                                                                                    {'removedFilesSize': '1312', 'tableSizeAfterRestore': '132472', 'numRemovedFiles': '1', 'restoredFilesSize': '0', 'numOfFilesAfterRestore': '2', 'numRestoredFiles': '0'}                                                                                                                              \n",
       "11  3       2022-04-25 11:17:03.285  WRITE     {'mode': 'Append', 'partitionBy': '[]'}                                                                                                                                                                {'numOutputRows': '8', 'numOutputBytes': '1312', 'numFiles': '1'}                                                                                                                                                                                                                                      \n",
       "12  2       2022-04-25 11:17:00.325  DELETE    {'predicate': '[\"(delta.user_id = 1)\"]'}                                                                                                                                                               {'numAddedFiles': '1', 'scanTimeMs': '527', 'numCopiedRows': '992', 'executionTimeMs': '693', 'numDeletedRows': '8', 'numRemovedFiles': '1', 'rewriteTimeMs': '165'}                                                                                                                                   \n",
       "13  1       2022-04-25 11:16:53.757  WRITE     {'mode': 'Append', 'partitionBy': '[]'}                                                                                                                                                                {'numOutputRows': '1000', 'numOutputBytes': '4160', 'numFiles': '1'}                                                                                                                                                                                                                                   \n",
       "14  0       2022-04-25 11:16:27.300  WRITE     {'mode': 'Overwrite', 'partitionBy': '[]'}                                                                                                                                                             {'numOutputRows': '100000', 'numOutputBytes': '128331', 'numFiles': '1'}                                                                                                                                                                                                                               "
      ]
     },
     "metadata": {},
     "output_type": "display_data"
    }
   ],
   "source": [
    "get_history()"
   ]
  },
  {
   "cell_type": "markdown",
   "id": "8f02fcaa",
   "metadata": {},
   "source": [
    "#### Data Vacuum\n",
    "\n",
    "Delete files not required by **versions** older than the default 7 days retention period.\n",
    "\n",
    "**Caution**: Do not run vacuum 0 when others writes are in progress "
   ]
  },
  {
   "cell_type": "code",
   "execution_count": 52,
   "id": "f1c7c72f",
   "metadata": {},
   "outputs": [
    {
     "name": "stdout",
     "output_type": "stream",
     "text": [
      "14\r\n"
     ]
    }
   ],
   "source": [
    "!ls -lhR {DELTA_PATH}/*.parquet | wc -l"
   ]
  },
  {
   "cell_type": "code",
   "execution_count": 53,
   "id": "8575754b",
   "metadata": {},
   "outputs": [
    {
     "name": "stderr",
     "output_type": "stream",
     "text": [
      "                                                                                \r"
     ]
    },
    {
     "name": "stdout",
     "output_type": "stream",
     "text": [
      "Deleted 13 files and directories in a total of 1 directories.\n"
     ]
    },
    {
     "data": {
      "text/plain": [
       "DataFrame[]"
      ]
     },
     "execution_count": 53,
     "metadata": {},
     "output_type": "execute_result"
    }
   ],
   "source": [
    "spark.sql(\"SET spark.databricks.delta.retentionDurationCheck.enabled=false\")\n",
    "\n",
    "\n",
    "deltaTable = DeltaTable.forPath(spark, DELTA_PATH)\n",
    "deltaTable.vacuum(0.0001)\n",
    "\n",
    "## Spark SQL: spark.sql(\"VACUUM <TABLE_NAME> [RETAIN HOURS]\")"
   ]
  },
  {
   "cell_type": "code",
   "execution_count": 54,
   "id": "c3f16ad3",
   "metadata": {},
   "outputs": [
    {
     "data": {
      "text/html": [
       "<div>\n",
       "<style scoped>\n",
       "    .dataframe tbody tr th:only-of-type {\n",
       "        vertical-align: middle;\n",
       "    }\n",
       "\n",
       "    .dataframe tbody tr th {\n",
       "        vertical-align: top;\n",
       "    }\n",
       "\n",
       "    .dataframe thead th {\n",
       "        text-align: right;\n",
       "    }\n",
       "</style>\n",
       "<table border=\"1\" class=\"dataframe\">\n",
       "  <thead>\n",
       "    <tr style=\"text-align: right;\">\n",
       "      <th></th>\n",
       "      <th>version</th>\n",
       "      <th>timestamp</th>\n",
       "      <th>operation</th>\n",
       "      <th>operationParameters</th>\n",
       "      <th>operationMetrics</th>\n",
       "    </tr>\n",
       "  </thead>\n",
       "  <tbody>\n",
       "    <tr>\n",
       "      <th>0</th>\n",
       "      <td>14</td>\n",
       "      <td>2022-04-25 11:17:29.997</td>\n",
       "      <td>WRITE</td>\n",
       "      <td>{'mode': 'Overwrite', 'partitionBy': '[]'}</td>\n",
       "      <td>{'numOutputRows': '100993', 'numOutputBytes': '130965', 'numFiles': '1'}</td>\n",
       "    </tr>\n",
       "    <tr>\n",
       "      <th>1</th>\n",
       "      <td>13</td>\n",
       "      <td>2022-04-25 11:17:28.193</td>\n",
       "      <td>OPTIMIZE</td>\n",
       "      <td>{'predicate': '[\"true\"]'}</td>\n",
       "      <td>{'numRemovedBytes': '132000', 'p50FileSize': '130965', 'p25FileSize': '130965', 'numAddedFiles': '1', 'minFileSize': '130965', 'p75FileSize': '130965', 'numAddedBytes': '130965', 'maxFileSize': '130965', 'numRemovedFiles': '2'}</td>\n",
       "    </tr>\n",
       "    <tr>\n",
       "      <th>2</th>\n",
       "      <td>12</td>\n",
       "      <td>2022-04-25 11:17:26.529</td>\n",
       "      <td>UPDATE</td>\n",
       "      <td>{'predicate': '(user_id#7300 = 9)'}</td>\n",
       "      <td>{'numAddedFiles': '1', 'scanTimeMs': '461', 'numCopiedRows': '978', 'executionTimeMs': '584', 'numUpdatedRows': '15', 'numRemovedFiles': '1', 'rewriteTimeMs': '123'}</td>\n",
       "    </tr>\n",
       "    <tr>\n",
       "      <th>3</th>\n",
       "      <td>11</td>\n",
       "      <td>2022-04-25 11:17:25.157</td>\n",
       "      <td>UPDATE</td>\n",
       "      <td>{'predicate': '(user_id#7300 = 8)'}</td>\n",
       "      <td>{'numAddedFiles': '1', 'scanTimeMs': '429', 'numCopiedRows': '982', 'executionTimeMs': '559', 'numUpdatedRows': '11', 'numRemovedFiles': '1', 'rewriteTimeMs': '130'}</td>\n",
       "    </tr>\n",
       "    <tr>\n",
       "      <th>4</th>\n",
       "      <td>10</td>\n",
       "      <td>2022-04-25 11:17:23.417</td>\n",
       "      <td>UPDATE</td>\n",
       "      <td>{'predicate': '(user_id#7300 = 7)'}</td>\n",
       "      <td>{'numAddedFiles': '1', 'scanTimeMs': '464', 'numCopiedRows': '982', 'executionTimeMs': '615', 'numUpdatedRows': '11', 'numRemovedFiles': '1', 'rewriteTimeMs': '151'}</td>\n",
       "    </tr>\n",
       "    <tr>\n",
       "      <th>5</th>\n",
       "      <td>9</td>\n",
       "      <td>2022-04-25 11:17:22.013</td>\n",
       "      <td>UPDATE</td>\n",
       "      <td>{'predicate': '(user_id#7300 = 6)'}</td>\n",
       "      <td>{'numAddedFiles': '1', 'scanTimeMs': '488', 'numCopiedRows': '988', 'executionTimeMs': '616', 'numUpdatedRows': '5', 'numRemovedFiles': '1', 'rewriteTimeMs': '128'}</td>\n",
       "    </tr>\n",
       "    <tr>\n",
       "      <th>6</th>\n",
       "      <td>8</td>\n",
       "      <td>2022-04-25 11:17:20.437</td>\n",
       "      <td>UPDATE</td>\n",
       "      <td>{'predicate': '(user_id#7300 = 5)'}</td>\n",
       "      <td>{'numAddedFiles': '1', 'scanTimeMs': '529', 'numCopiedRows': '976', 'executionTimeMs': '669', 'numUpdatedRows': '17', 'numRemovedFiles': '1', 'rewriteTimeMs': '140'}</td>\n",
       "    </tr>\n",
       "    <tr>\n",
       "      <th>7</th>\n",
       "      <td>7</td>\n",
       "      <td>2022-04-25 11:17:18.545</td>\n",
       "      <td>UPDATE</td>\n",
       "      <td>{'predicate': '(user_id#7300 = 4)'}</td>\n",
       "      <td>{'numAddedFiles': '1', 'scanTimeMs': '274', 'numCopiedRows': '978', 'executionTimeMs': '416', 'numUpdatedRows': '15', 'numRemovedFiles': '1', 'rewriteTimeMs': '142'}</td>\n",
       "    </tr>\n",
       "    <tr>\n",
       "      <th>8</th>\n",
       "      <td>6</td>\n",
       "      <td>2022-04-25 11:17:16.353</td>\n",
       "      <td>MERGE</td>\n",
       "      <td>{'matchedPredicates': '[{\"actionType\":\"update\"}]', 'predicate': '((CAST(old.user_id AS BIGINT) = upsert.user_id) AND (old.date = upsert.date))', 'notMatchedPredicates': '[{\"actionType\":\"insert\"}]'}</td>\n",
       "      <td>{'numOutputRows': '993', 'numTargetRowsInserted': '1', 'numTargetRowsUpdated': '1', 'numTargetFilesAdded': '1', 'numTargetFilesRemoved': '1', 'numTargetRowsDeleted': '0', 'scanTimeMs': '476', 'numSourceRows': '2', 'executionTimeMs': '954', 'numTargetRowsCopied': '991', 'rewriteTimeMs': '476'}</td>\n",
       "    </tr>\n",
       "    <tr>\n",
       "      <th>9</th>\n",
       "      <td>5</td>\n",
       "      <td>2022-04-25 11:17:12.601</td>\n",
       "      <td>MERGE</td>\n",
       "      <td>{'matchedPredicates': '[{\"actionType\":\"update\"}]', 'predicate': '((old.user_id = updates.id) AND (old.date = updates.date))', 'notMatchedPredicates': '[]'}</td>\n",
       "      <td>{'numOutputRows': '992', 'numTargetRowsInserted': '0', 'numTargetRowsUpdated': '11', 'numTargetFilesAdded': '1', 'numTargetFilesRemoved': '1', 'numTargetRowsDeleted': '0', 'scanTimeMs': '767', 'numSourceRows': '3', 'executionTimeMs': '1534', 'numTargetRowsCopied': '981', 'rewriteTimeMs': '763'}</td>\n",
       "    </tr>\n",
       "    <tr>\n",
       "      <th>10</th>\n",
       "      <td>4</td>\n",
       "      <td>2022-04-25 11:17:09.049</td>\n",
       "      <td>RESTORE</td>\n",
       "      <td>{'version': '2', 'timestamp': None}</td>\n",
       "      <td>{'removedFilesSize': '1312', 'tableSizeAfterRestore': '132472', 'numRemovedFiles': '1', 'restoredFilesSize': '0', 'numOfFilesAfterRestore': '2', 'numRestoredFiles': '0'}</td>\n",
       "    </tr>\n",
       "    <tr>\n",
       "      <th>11</th>\n",
       "      <td>3</td>\n",
       "      <td>2022-04-25 11:17:03.285</td>\n",
       "      <td>WRITE</td>\n",
       "      <td>{'mode': 'Append', 'partitionBy': '[]'}</td>\n",
       "      <td>{'numOutputRows': '8', 'numOutputBytes': '1312', 'numFiles': '1'}</td>\n",
       "    </tr>\n",
       "    <tr>\n",
       "      <th>12</th>\n",
       "      <td>2</td>\n",
       "      <td>2022-04-25 11:17:00.325</td>\n",
       "      <td>DELETE</td>\n",
       "      <td>{'predicate': '[\"(delta.user_id = 1)\"]'}</td>\n",
       "      <td>{'numAddedFiles': '1', 'scanTimeMs': '527', 'numCopiedRows': '992', 'executionTimeMs': '693', 'numDeletedRows': '8', 'numRemovedFiles': '1', 'rewriteTimeMs': '165'}</td>\n",
       "    </tr>\n",
       "    <tr>\n",
       "      <th>13</th>\n",
       "      <td>1</td>\n",
       "      <td>2022-04-25 11:16:53.757</td>\n",
       "      <td>WRITE</td>\n",
       "      <td>{'mode': 'Append', 'partitionBy': '[]'}</td>\n",
       "      <td>{'numOutputRows': '1000', 'numOutputBytes': '4160', 'numFiles': '1'}</td>\n",
       "    </tr>\n",
       "    <tr>\n",
       "      <th>14</th>\n",
       "      <td>0</td>\n",
       "      <td>2022-04-25 11:16:27.300</td>\n",
       "      <td>WRITE</td>\n",
       "      <td>{'mode': 'Overwrite', 'partitionBy': '[]'}</td>\n",
       "      <td>{'numOutputRows': '100000', 'numOutputBytes': '128331', 'numFiles': '1'}</td>\n",
       "    </tr>\n",
       "  </tbody>\n",
       "</table>\n",
       "</div>"
      ],
      "text/plain": [
       "    version               timestamp operation                                                                                                                                                                                    operationParameters                                                                                                                                                                                                                                                                                         operationMetrics\n",
       "0   14      2022-04-25 11:17:29.997  WRITE     {'mode': 'Overwrite', 'partitionBy': '[]'}                                                                                                                                                             {'numOutputRows': '100993', 'numOutputBytes': '130965', 'numFiles': '1'}                                                                                                                                                                                                                               \n",
       "1   13      2022-04-25 11:17:28.193  OPTIMIZE  {'predicate': '[\"true\"]'}                                                                                                                                                                              {'numRemovedBytes': '132000', 'p50FileSize': '130965', 'p25FileSize': '130965', 'numAddedFiles': '1', 'minFileSize': '130965', 'p75FileSize': '130965', 'numAddedBytes': '130965', 'maxFileSize': '130965', 'numRemovedFiles': '2'}                                                                    \n",
       "2   12      2022-04-25 11:17:26.529  UPDATE    {'predicate': '(user_id#7300 = 9)'}                                                                                                                                                                    {'numAddedFiles': '1', 'scanTimeMs': '461', 'numCopiedRows': '978', 'executionTimeMs': '584', 'numUpdatedRows': '15', 'numRemovedFiles': '1', 'rewriteTimeMs': '123'}                                                                                                                                  \n",
       "3   11      2022-04-25 11:17:25.157  UPDATE    {'predicate': '(user_id#7300 = 8)'}                                                                                                                                                                    {'numAddedFiles': '1', 'scanTimeMs': '429', 'numCopiedRows': '982', 'executionTimeMs': '559', 'numUpdatedRows': '11', 'numRemovedFiles': '1', 'rewriteTimeMs': '130'}                                                                                                                                  \n",
       "4   10      2022-04-25 11:17:23.417  UPDATE    {'predicate': '(user_id#7300 = 7)'}                                                                                                                                                                    {'numAddedFiles': '1', 'scanTimeMs': '464', 'numCopiedRows': '982', 'executionTimeMs': '615', 'numUpdatedRows': '11', 'numRemovedFiles': '1', 'rewriteTimeMs': '151'}                                                                                                                                  \n",
       "5   9       2022-04-25 11:17:22.013  UPDATE    {'predicate': '(user_id#7300 = 6)'}                                                                                                                                                                    {'numAddedFiles': '1', 'scanTimeMs': '488', 'numCopiedRows': '988', 'executionTimeMs': '616', 'numUpdatedRows': '5', 'numRemovedFiles': '1', 'rewriteTimeMs': '128'}                                                                                                                                   \n",
       "6   8       2022-04-25 11:17:20.437  UPDATE    {'predicate': '(user_id#7300 = 5)'}                                                                                                                                                                    {'numAddedFiles': '1', 'scanTimeMs': '529', 'numCopiedRows': '976', 'executionTimeMs': '669', 'numUpdatedRows': '17', 'numRemovedFiles': '1', 'rewriteTimeMs': '140'}                                                                                                                                  \n",
       "7   7       2022-04-25 11:17:18.545  UPDATE    {'predicate': '(user_id#7300 = 4)'}                                                                                                                                                                    {'numAddedFiles': '1', 'scanTimeMs': '274', 'numCopiedRows': '978', 'executionTimeMs': '416', 'numUpdatedRows': '15', 'numRemovedFiles': '1', 'rewriteTimeMs': '142'}                                                                                                                                  \n",
       "8   6       2022-04-25 11:17:16.353  MERGE     {'matchedPredicates': '[{\"actionType\":\"update\"}]', 'predicate': '((CAST(old.user_id AS BIGINT) = upsert.user_id) AND (old.date = upsert.date))', 'notMatchedPredicates': '[{\"actionType\":\"insert\"}]'}  {'numOutputRows': '993', 'numTargetRowsInserted': '1', 'numTargetRowsUpdated': '1', 'numTargetFilesAdded': '1', 'numTargetFilesRemoved': '1', 'numTargetRowsDeleted': '0', 'scanTimeMs': '476', 'numSourceRows': '2', 'executionTimeMs': '954', 'numTargetRowsCopied': '991', 'rewriteTimeMs': '476'}  \n",
       "9   5       2022-04-25 11:17:12.601  MERGE     {'matchedPredicates': '[{\"actionType\":\"update\"}]', 'predicate': '((old.user_id = updates.id) AND (old.date = updates.date))', 'notMatchedPredicates': '[]'}                                            {'numOutputRows': '992', 'numTargetRowsInserted': '0', 'numTargetRowsUpdated': '11', 'numTargetFilesAdded': '1', 'numTargetFilesRemoved': '1', 'numTargetRowsDeleted': '0', 'scanTimeMs': '767', 'numSourceRows': '3', 'executionTimeMs': '1534', 'numTargetRowsCopied': '981', 'rewriteTimeMs': '763'}\n",
       "10  4       2022-04-25 11:17:09.049  RESTORE   {'version': '2', 'timestamp': None}                                                                                                                                                                    {'removedFilesSize': '1312', 'tableSizeAfterRestore': '132472', 'numRemovedFiles': '1', 'restoredFilesSize': '0', 'numOfFilesAfterRestore': '2', 'numRestoredFiles': '0'}                                                                                                                              \n",
       "11  3       2022-04-25 11:17:03.285  WRITE     {'mode': 'Append', 'partitionBy': '[]'}                                                                                                                                                                {'numOutputRows': '8', 'numOutputBytes': '1312', 'numFiles': '1'}                                                                                                                                                                                                                                      \n",
       "12  2       2022-04-25 11:17:00.325  DELETE    {'predicate': '[\"(delta.user_id = 1)\"]'}                                                                                                                                                               {'numAddedFiles': '1', 'scanTimeMs': '527', 'numCopiedRows': '992', 'executionTimeMs': '693', 'numDeletedRows': '8', 'numRemovedFiles': '1', 'rewriteTimeMs': '165'}                                                                                                                                   \n",
       "13  1       2022-04-25 11:16:53.757  WRITE     {'mode': 'Append', 'partitionBy': '[]'}                                                                                                                                                                {'numOutputRows': '1000', 'numOutputBytes': '4160', 'numFiles': '1'}                                                                                                                                                                                                                                   \n",
       "14  0       2022-04-25 11:16:27.300  WRITE     {'mode': 'Overwrite', 'partitionBy': '[]'}                                                                                                                                                             {'numOutputRows': '100000', 'numOutputBytes': '128331', 'numFiles': '1'}                                                                                                                                                                                                                               "
      ]
     },
     "metadata": {},
     "output_type": "display_data"
    }
   ],
   "source": [
    "get_history()"
   ]
  },
  {
   "cell_type": "code",
   "execution_count": 55,
   "id": "96a87705",
   "metadata": {},
   "outputs": [
    {
     "name": "stdout",
     "output_type": "stream",
     "text": [
      "1\r\n"
     ]
    }
   ],
   "source": [
    "!ls -lhR {DELTA_PATH}/*.parquet | wc -l"
   ]
  },
  {
   "cell_type": "markdown",
   "id": "816792e3",
   "metadata": {},
   "source": [
    "## Renaming Columns\n",
    "\n",
    "This enables Delta schema evolution operations such as RENAME COLUMN on a Delta table without the need to rewrite the underlying Parquet files. It also allows users to name Delta table columns by using characters that are not allowed by Parquet (`,;{}()\\n\\t=`), so that users can directly ingest CSV or JSON data into Delta without the need to rename columns due to previous character constraints.\n",
    "\n",
    "\n",
    "####  Features by protocol version\n",
    "|Feature\t          |minWriterVersion\t| minReaderVersion |\tIntroduced in |\n",
    "|---------------------|-----------------|------------------|------------------|\n",
    "|Basic functionality  |\t2               |\t1              | \t–\t          |\n",
    "|CHECK constraints\t  | 3               |\t1              |\t 0.8.0\t      |\n",
    "|Generated columns\t  | 4               |\t1              |\t 1.0.0\t      |\n",
    "|Column mapping\t      | 5               |\t2              |\t 1.2.0\t      | "
   ]
  },
  {
   "cell_type": "code",
   "execution_count": 56,
   "id": "df693732",
   "metadata": {},
   "outputs": [
    {
     "name": "stderr",
     "output_type": "stream",
     "text": [
      "\r",
      "[Stage 359:===========================>                           (25 + 8) / 50]\r"
     ]
    },
    {
     "name": "stdout",
     "output_type": "stream",
     "text": [
      "++\n",
      "||\n",
      "++\n",
      "++\n",
      "\n"
     ]
    },
    {
     "name": "stderr",
     "output_type": "stream",
     "text": [
      "\r",
      "[Stage 359:================================================>      (44 + 6) / 50]\r",
      "\r",
      "                                                                                \r"
     ]
    }
   ],
   "source": [
    "spark.sql(f\"\"\"ALTER TABLE delta.`{DELTA_PATH}` SET TBLPROPERTIES (\n",
    "  'delta.minReaderVersion' = '2',\n",
    "  'delta.minWriterVersion' = '5',\n",
    "  'delta.columnMapping.mode' = 'name')\n",
    "  \"\"\")\n",
    "\n",
    "spark.sql(f\"ALTER TABLE delta.`{DELTA_PATH}` RENAME COLUMN device_id TO device\").show()"
   ]
  },
  {
   "cell_type": "code",
   "execution_count": 57,
   "id": "a9da22fd",
   "metadata": {},
   "outputs": [
    {
     "name": "stdout",
     "output_type": "stream",
     "text": [
      "root\n",
      " |-- action: string (nullable = true)\n",
      " |-- date: date (nullable = true)\n",
      " |-- device: integer (nullable = true)\n",
      " |-- user_id: integer (nullable = true)\n",
      "\n"
     ]
    }
   ],
   "source": [
    "spark.read.format(\"delta\")\\\n",
    "    .load(DELTA_PATH)\\\n",
    "    .printSchema()"
   ]
  },
  {
   "cell_type": "code",
   "execution_count": 58,
   "id": "7883f02a",
   "metadata": {},
   "outputs": [
    {
     "data": {
      "text/html": [
       "<div>\n",
       "<style scoped>\n",
       "    .dataframe tbody tr th:only-of-type {\n",
       "        vertical-align: middle;\n",
       "    }\n",
       "\n",
       "    .dataframe tbody tr th {\n",
       "        vertical-align: top;\n",
       "    }\n",
       "\n",
       "    .dataframe thead th {\n",
       "        text-align: right;\n",
       "    }\n",
       "</style>\n",
       "<table border=\"1\" class=\"dataframe\">\n",
       "  <thead>\n",
       "    <tr style=\"text-align: right;\">\n",
       "      <th></th>\n",
       "      <th>version</th>\n",
       "      <th>timestamp</th>\n",
       "      <th>operation</th>\n",
       "      <th>operationParameters</th>\n",
       "      <th>operationMetrics</th>\n",
       "    </tr>\n",
       "  </thead>\n",
       "  <tbody>\n",
       "    <tr>\n",
       "      <th>0</th>\n",
       "      <td>16</td>\n",
       "      <td>2022-04-25 11:17:50.598</td>\n",
       "      <td>CHANGE COLUMN</td>\n",
       "      <td>{'column': '{\"name\":\"device\",\"type\":\"integer\",\"nullable\":true,\"metadata\":{\"delta.columnMapping.id\":3,\"delta.columnMapping.physicalName\":\"device_id\"}}'}</td>\n",
       "      <td>{}</td>\n",
       "    </tr>\n",
       "    <tr>\n",
       "      <th>1</th>\n",
       "      <td>15</td>\n",
       "      <td>2022-04-25 11:17:49.662</td>\n",
       "      <td>SET TBLPROPERTIES</td>\n",
       "      <td>{'properties': '{\"delta.minReaderVersion\":\"2\",\"delta.minWriterVersion\":\"5\",\"delta.columnMapping.mode\":\"name\"}'}</td>\n",
       "      <td>{}</td>\n",
       "    </tr>\n",
       "    <tr>\n",
       "      <th>2</th>\n",
       "      <td>14</td>\n",
       "      <td>2022-04-25 11:17:29.997</td>\n",
       "      <td>WRITE</td>\n",
       "      <td>{'mode': 'Overwrite', 'partitionBy': '[]'}</td>\n",
       "      <td>{'numOutputRows': '100993', 'numOutputBytes': '130965', 'numFiles': '1'}</td>\n",
       "    </tr>\n",
       "    <tr>\n",
       "      <th>3</th>\n",
       "      <td>13</td>\n",
       "      <td>2022-04-25 11:17:28.193</td>\n",
       "      <td>OPTIMIZE</td>\n",
       "      <td>{'predicate': '[\"true\"]'}</td>\n",
       "      <td>{'numRemovedBytes': '132000', 'p50FileSize': '130965', 'p25FileSize': '130965', 'numAddedFiles': '1', 'minFileSize': '130965', 'p75FileSize': '130965', 'numAddedBytes': '130965', 'maxFileSize': '130965', 'numRemovedFiles': '2'}</td>\n",
       "    </tr>\n",
       "    <tr>\n",
       "      <th>4</th>\n",
       "      <td>12</td>\n",
       "      <td>2022-04-25 11:17:26.529</td>\n",
       "      <td>UPDATE</td>\n",
       "      <td>{'predicate': '(user_id#7300 = 9)'}</td>\n",
       "      <td>{'numAddedFiles': '1', 'scanTimeMs': '461', 'numCopiedRows': '978', 'executionTimeMs': '584', 'numUpdatedRows': '15', 'numRemovedFiles': '1', 'rewriteTimeMs': '123'}</td>\n",
       "    </tr>\n",
       "    <tr>\n",
       "      <th>5</th>\n",
       "      <td>11</td>\n",
       "      <td>2022-04-25 11:17:25.157</td>\n",
       "      <td>UPDATE</td>\n",
       "      <td>{'predicate': '(user_id#7300 = 8)'}</td>\n",
       "      <td>{'numAddedFiles': '1', 'scanTimeMs': '429', 'numCopiedRows': '982', 'executionTimeMs': '559', 'numUpdatedRows': '11', 'numRemovedFiles': '1', 'rewriteTimeMs': '130'}</td>\n",
       "    </tr>\n",
       "    <tr>\n",
       "      <th>6</th>\n",
       "      <td>10</td>\n",
       "      <td>2022-04-25 11:17:23.417</td>\n",
       "      <td>UPDATE</td>\n",
       "      <td>{'predicate': '(user_id#7300 = 7)'}</td>\n",
       "      <td>{'numAddedFiles': '1', 'scanTimeMs': '464', 'numCopiedRows': '982', 'executionTimeMs': '615', 'numUpdatedRows': '11', 'numRemovedFiles': '1', 'rewriteTimeMs': '151'}</td>\n",
       "    </tr>\n",
       "    <tr>\n",
       "      <th>7</th>\n",
       "      <td>9</td>\n",
       "      <td>2022-04-25 11:17:22.013</td>\n",
       "      <td>UPDATE</td>\n",
       "      <td>{'predicate': '(user_id#7300 = 6)'}</td>\n",
       "      <td>{'numAddedFiles': '1', 'scanTimeMs': '488', 'numCopiedRows': '988', 'executionTimeMs': '616', 'numUpdatedRows': '5', 'numRemovedFiles': '1', 'rewriteTimeMs': '128'}</td>\n",
       "    </tr>\n",
       "    <tr>\n",
       "      <th>8</th>\n",
       "      <td>8</td>\n",
       "      <td>2022-04-25 11:17:20.437</td>\n",
       "      <td>UPDATE</td>\n",
       "      <td>{'predicate': '(user_id#7300 = 5)'}</td>\n",
       "      <td>{'numAddedFiles': '1', 'scanTimeMs': '529', 'numCopiedRows': '976', 'executionTimeMs': '669', 'numUpdatedRows': '17', 'numRemovedFiles': '1', 'rewriteTimeMs': '140'}</td>\n",
       "    </tr>\n",
       "    <tr>\n",
       "      <th>9</th>\n",
       "      <td>7</td>\n",
       "      <td>2022-04-25 11:17:18.545</td>\n",
       "      <td>UPDATE</td>\n",
       "      <td>{'predicate': '(user_id#7300 = 4)'}</td>\n",
       "      <td>{'numAddedFiles': '1', 'scanTimeMs': '274', 'numCopiedRows': '978', 'executionTimeMs': '416', 'numUpdatedRows': '15', 'numRemovedFiles': '1', 'rewriteTimeMs': '142'}</td>\n",
       "    </tr>\n",
       "    <tr>\n",
       "      <th>10</th>\n",
       "      <td>6</td>\n",
       "      <td>2022-04-25 11:17:16.353</td>\n",
       "      <td>MERGE</td>\n",
       "      <td>{'matchedPredicates': '[{\"actionType\":\"update\"}]', 'predicate': '((CAST(old.user_id AS BIGINT) = upsert.user_id) AND (old.date = upsert.date))', 'notMatchedPredicates': '[{\"actionType\":\"insert\"}]'}</td>\n",
       "      <td>{'numOutputRows': '993', 'numTargetRowsInserted': '1', 'numTargetRowsUpdated': '1', 'numTargetFilesAdded': '1', 'numTargetFilesRemoved': '1', 'numTargetRowsDeleted': '0', 'scanTimeMs': '476', 'numSourceRows': '2', 'executionTimeMs': '954', 'numTargetRowsCopied': '991', 'rewriteTimeMs': '476'}</td>\n",
       "    </tr>\n",
       "    <tr>\n",
       "      <th>11</th>\n",
       "      <td>5</td>\n",
       "      <td>2022-04-25 11:17:12.601</td>\n",
       "      <td>MERGE</td>\n",
       "      <td>{'matchedPredicates': '[{\"actionType\":\"update\"}]', 'predicate': '((old.user_id = updates.id) AND (old.date = updates.date))', 'notMatchedPredicates': '[]'}</td>\n",
       "      <td>{'numOutputRows': '992', 'numTargetRowsInserted': '0', 'numTargetRowsUpdated': '11', 'numTargetFilesAdded': '1', 'numTargetFilesRemoved': '1', 'numTargetRowsDeleted': '0', 'scanTimeMs': '767', 'numSourceRows': '3', 'executionTimeMs': '1534', 'numTargetRowsCopied': '981', 'rewriteTimeMs': '763'}</td>\n",
       "    </tr>\n",
       "    <tr>\n",
       "      <th>12</th>\n",
       "      <td>4</td>\n",
       "      <td>2022-04-25 11:17:09.049</td>\n",
       "      <td>RESTORE</td>\n",
       "      <td>{'version': '2', 'timestamp': None}</td>\n",
       "      <td>{'removedFilesSize': '1312', 'tableSizeAfterRestore': '132472', 'numRemovedFiles': '1', 'restoredFilesSize': '0', 'numOfFilesAfterRestore': '2', 'numRestoredFiles': '0'}</td>\n",
       "    </tr>\n",
       "    <tr>\n",
       "      <th>13</th>\n",
       "      <td>3</td>\n",
       "      <td>2022-04-25 11:17:03.285</td>\n",
       "      <td>WRITE</td>\n",
       "      <td>{'mode': 'Append', 'partitionBy': '[]'}</td>\n",
       "      <td>{'numOutputRows': '8', 'numOutputBytes': '1312', 'numFiles': '1'}</td>\n",
       "    </tr>\n",
       "    <tr>\n",
       "      <th>14</th>\n",
       "      <td>2</td>\n",
       "      <td>2022-04-25 11:17:00.325</td>\n",
       "      <td>DELETE</td>\n",
       "      <td>{'predicate': '[\"(delta.user_id = 1)\"]'}</td>\n",
       "      <td>{'numAddedFiles': '1', 'scanTimeMs': '527', 'numCopiedRows': '992', 'executionTimeMs': '693', 'numDeletedRows': '8', 'numRemovedFiles': '1', 'rewriteTimeMs': '165'}</td>\n",
       "    </tr>\n",
       "    <tr>\n",
       "      <th>15</th>\n",
       "      <td>1</td>\n",
       "      <td>2022-04-25 11:16:53.757</td>\n",
       "      <td>WRITE</td>\n",
       "      <td>{'mode': 'Append', 'partitionBy': '[]'}</td>\n",
       "      <td>{'numOutputRows': '1000', 'numOutputBytes': '4160', 'numFiles': '1'}</td>\n",
       "    </tr>\n",
       "    <tr>\n",
       "      <th>16</th>\n",
       "      <td>0</td>\n",
       "      <td>2022-04-25 11:16:27.300</td>\n",
       "      <td>WRITE</td>\n",
       "      <td>{'mode': 'Overwrite', 'partitionBy': '[]'}</td>\n",
       "      <td>{'numOutputRows': '100000', 'numOutputBytes': '128331', 'numFiles': '1'}</td>\n",
       "    </tr>\n",
       "  </tbody>\n",
       "</table>\n",
       "</div>"
      ],
      "text/plain": [
       "    version               timestamp          operation                                                                                                                                                                                    operationParameters                                                                                                                                                                                                                                                                                         operationMetrics\n",
       "0   16      2022-04-25 11:17:50.598  CHANGE COLUMN      {'column': '{\"name\":\"device\",\"type\":\"integer\",\"nullable\":true,\"metadata\":{\"delta.columnMapping.id\":3,\"delta.columnMapping.physicalName\":\"device_id\"}}'}                                                {}                                                                                                                                                                                                                                                                                                     \n",
       "1   15      2022-04-25 11:17:49.662  SET TBLPROPERTIES  {'properties': '{\"delta.minReaderVersion\":\"2\",\"delta.minWriterVersion\":\"5\",\"delta.columnMapping.mode\":\"name\"}'}                                                                                        {}                                                                                                                                                                                                                                                                                                     \n",
       "2   14      2022-04-25 11:17:29.997  WRITE              {'mode': 'Overwrite', 'partitionBy': '[]'}                                                                                                                                                             {'numOutputRows': '100993', 'numOutputBytes': '130965', 'numFiles': '1'}                                                                                                                                                                                                                               \n",
       "3   13      2022-04-25 11:17:28.193  OPTIMIZE           {'predicate': '[\"true\"]'}                                                                                                                                                                              {'numRemovedBytes': '132000', 'p50FileSize': '130965', 'p25FileSize': '130965', 'numAddedFiles': '1', 'minFileSize': '130965', 'p75FileSize': '130965', 'numAddedBytes': '130965', 'maxFileSize': '130965', 'numRemovedFiles': '2'}                                                                    \n",
       "4   12      2022-04-25 11:17:26.529  UPDATE             {'predicate': '(user_id#7300 = 9)'}                                                                                                                                                                    {'numAddedFiles': '1', 'scanTimeMs': '461', 'numCopiedRows': '978', 'executionTimeMs': '584', 'numUpdatedRows': '15', 'numRemovedFiles': '1', 'rewriteTimeMs': '123'}                                                                                                                                  \n",
       "5   11      2022-04-25 11:17:25.157  UPDATE             {'predicate': '(user_id#7300 = 8)'}                                                                                                                                                                    {'numAddedFiles': '1', 'scanTimeMs': '429', 'numCopiedRows': '982', 'executionTimeMs': '559', 'numUpdatedRows': '11', 'numRemovedFiles': '1', 'rewriteTimeMs': '130'}                                                                                                                                  \n",
       "6   10      2022-04-25 11:17:23.417  UPDATE             {'predicate': '(user_id#7300 = 7)'}                                                                                                                                                                    {'numAddedFiles': '1', 'scanTimeMs': '464', 'numCopiedRows': '982', 'executionTimeMs': '615', 'numUpdatedRows': '11', 'numRemovedFiles': '1', 'rewriteTimeMs': '151'}                                                                                                                                  \n",
       "7   9       2022-04-25 11:17:22.013  UPDATE             {'predicate': '(user_id#7300 = 6)'}                                                                                                                                                                    {'numAddedFiles': '1', 'scanTimeMs': '488', 'numCopiedRows': '988', 'executionTimeMs': '616', 'numUpdatedRows': '5', 'numRemovedFiles': '1', 'rewriteTimeMs': '128'}                                                                                                                                   \n",
       "8   8       2022-04-25 11:17:20.437  UPDATE             {'predicate': '(user_id#7300 = 5)'}                                                                                                                                                                    {'numAddedFiles': '1', 'scanTimeMs': '529', 'numCopiedRows': '976', 'executionTimeMs': '669', 'numUpdatedRows': '17', 'numRemovedFiles': '1', 'rewriteTimeMs': '140'}                                                                                                                                  \n",
       "9   7       2022-04-25 11:17:18.545  UPDATE             {'predicate': '(user_id#7300 = 4)'}                                                                                                                                                                    {'numAddedFiles': '1', 'scanTimeMs': '274', 'numCopiedRows': '978', 'executionTimeMs': '416', 'numUpdatedRows': '15', 'numRemovedFiles': '1', 'rewriteTimeMs': '142'}                                                                                                                                  \n",
       "10  6       2022-04-25 11:17:16.353  MERGE              {'matchedPredicates': '[{\"actionType\":\"update\"}]', 'predicate': '((CAST(old.user_id AS BIGINT) = upsert.user_id) AND (old.date = upsert.date))', 'notMatchedPredicates': '[{\"actionType\":\"insert\"}]'}  {'numOutputRows': '993', 'numTargetRowsInserted': '1', 'numTargetRowsUpdated': '1', 'numTargetFilesAdded': '1', 'numTargetFilesRemoved': '1', 'numTargetRowsDeleted': '0', 'scanTimeMs': '476', 'numSourceRows': '2', 'executionTimeMs': '954', 'numTargetRowsCopied': '991', 'rewriteTimeMs': '476'}  \n",
       "11  5       2022-04-25 11:17:12.601  MERGE              {'matchedPredicates': '[{\"actionType\":\"update\"}]', 'predicate': '((old.user_id = updates.id) AND (old.date = updates.date))', 'notMatchedPredicates': '[]'}                                            {'numOutputRows': '992', 'numTargetRowsInserted': '0', 'numTargetRowsUpdated': '11', 'numTargetFilesAdded': '1', 'numTargetFilesRemoved': '1', 'numTargetRowsDeleted': '0', 'scanTimeMs': '767', 'numSourceRows': '3', 'executionTimeMs': '1534', 'numTargetRowsCopied': '981', 'rewriteTimeMs': '763'}\n",
       "12  4       2022-04-25 11:17:09.049  RESTORE            {'version': '2', 'timestamp': None}                                                                                                                                                                    {'removedFilesSize': '1312', 'tableSizeAfterRestore': '132472', 'numRemovedFiles': '1', 'restoredFilesSize': '0', 'numOfFilesAfterRestore': '2', 'numRestoredFiles': '0'}                                                                                                                              \n",
       "13  3       2022-04-25 11:17:03.285  WRITE              {'mode': 'Append', 'partitionBy': '[]'}                                                                                                                                                                {'numOutputRows': '8', 'numOutputBytes': '1312', 'numFiles': '1'}                                                                                                                                                                                                                                      \n",
       "14  2       2022-04-25 11:17:00.325  DELETE             {'predicate': '[\"(delta.user_id = 1)\"]'}                                                                                                                                                               {'numAddedFiles': '1', 'scanTimeMs': '527', 'numCopiedRows': '992', 'executionTimeMs': '693', 'numDeletedRows': '8', 'numRemovedFiles': '1', 'rewriteTimeMs': '165'}                                                                                                                                   \n",
       "15  1       2022-04-25 11:16:53.757  WRITE              {'mode': 'Append', 'partitionBy': '[]'}                                                                                                                                                                {'numOutputRows': '1000', 'numOutputBytes': '4160', 'numFiles': '1'}                                                                                                                                                                                                                                   \n",
       "16  0       2022-04-25 11:16:27.300  WRITE              {'mode': 'Overwrite', 'partitionBy': '[]'}                                                                                                                                                             {'numOutputRows': '100000', 'numOutputBytes': '128331', 'numFiles': '1'}                                                                                                                                                                                                                               "
      ]
     },
     "metadata": {},
     "output_type": "display_data"
    }
   ],
   "source": [
    "get_history()"
   ]
  },
  {
   "cell_type": "markdown",
   "id": "8d55015f",
   "metadata": {},
   "source": [
    "### File Pruning/skipping\n",
    "\n",
    "It aims to speed up queries that contain filters (WHERE clauses) on non-partitioned columns and on generated columns.\n",
    "\n",
    "\n",
    "> SELECT sum(ss_quantity) FROM store_sales  WHERE ss_item_sk IN (40, 41, 42)\n",
    "    \n",
    "    \n"
   ]
  },
  {
   "cell_type": "code",
   "execution_count": 59,
   "id": "b3873249",
   "metadata": {},
   "outputs": [
    {
     "name": "stdout",
     "output_type": "stream",
     "text": [
      "+------+----------+------+-------+\n",
      "|action|      date|device|user_id|\n",
      "+------+----------+------+-------+\n",
      "|  Open|2021-04-01|     2|   null|\n",
      "| Close|2021-04-01|     9|   null|\n",
      "|  Open|2021-04-04|    77|   null|\n",
      "| Close|2021-04-03|    54|   null|\n",
      "|  Open|2021-04-02|    33|   null|\n",
      "| Close|2021-04-01|     3|   null|\n",
      "|  Open|2021-04-02|    26|   null|\n",
      "| Close|2021-04-05|    94|   null|\n",
      "|  Open|2021-04-02|    28|   null|\n",
      "| Close|2021-04-01|     8|   null|\n",
      "|  Open|2021-04-03|    59|   null|\n",
      "| Close|2021-04-01|     2|   null|\n",
      "|  Open|2021-04-03|    43|   null|\n",
      "| Close|2021-04-04|    77|   null|\n",
      "|  Open|2021-04-04|    60|   null|\n",
      "| Close|2021-04-01|     0|   null|\n",
      "|  Open|2021-04-01|     3|   null|\n",
      "| Close|2021-04-04|    76|   null|\n",
      "|  Open|2021-04-03|    58|   null|\n",
      "| Close|2021-04-03|    42|   null|\n",
      "+------+----------+------+-------+\n",
      "only showing top 20 rows\n",
      "\n"
     ]
    }
   ],
   "source": [
    "df = spark.read.format(\"delta\")\\\n",
    "    .load(DELTA_PATH)\n",
    "df.show()"
   ]
  },
  {
   "cell_type": "code",
   "execution_count": 60,
   "id": "ff6ddf9d",
   "metadata": {},
   "outputs": [
    {
     "name": "stdout",
     "output_type": "stream",
     "text": [
      "++\n",
      "||\n",
      "++\n",
      "++\n",
      "\n"
     ]
    }
   ],
   "source": [
    "spark.sql(f\"\"\"INSERT INTO  delta.`{DELTA_PATH}` VALUES\n",
    "    ('?', date'2021-04-11', 2, -1)\n",
    "    \"\"\").show()"
   ]
  },
  {
   "cell_type": "code",
   "execution_count": 61,
   "id": "4f8b80e2",
   "metadata": {},
   "outputs": [
    {
     "name": "stdout",
     "output_type": "stream",
     "text": [
      "/tmp/delta_tutorial/delta_table:\r\n",
      "total 136K\r\n",
      "drwxr-xr-x 2 lucasmsp lucasmsp 4,0K abr 25 11:17 _delta_log\r\n",
      "-rw-r--r-- 1 lucasmsp lucasmsp 128K abr 25 11:17 part-00000-8cf42d57-16e9-4659-9e80-0c5b78cbe1c6-c000.snappy.parquet\r\n",
      "-rw-r--r-- 1 lucasmsp lucasmsp 1,3K abr 25 11:17 part-00000-da4e4398-d3f3-4622-af85-aa30d349b6dc-c000.snappy.parquet\r\n",
      "\r\n",
      "/tmp/delta_tutorial/delta_table/_delta_log:\r\n",
      "total 108K\r\n",
      "-rw-r--r-- 1 lucasmsp lucasmsp 1,3K abr 25 11:16 00000000000000000000.json\r\n",
      "-rw-r--r-- 1 lucasmsp lucasmsp 1,4K abr 25 11:16 00000000000000000001.json\r\n",
      "-rw-r--r-- 1 lucasmsp lucasmsp 1,1K abr 25 11:17 00000000000000000002.json\r\n",
      "-rw-r--r-- 1 lucasmsp lucasmsp  820 abr 25 11:17 00000000000000000003.json\r\n",
      "-rw-r--r-- 1 lucasmsp lucasmsp  13K abr 25 11:17 00000000000000000004.checkpoint.parquet\r\n",
      "-rw-r--r-- 1 lucasmsp lucasmsp 1,2K abr 25 11:17 00000000000000000004.json\r\n",
      "-rw-r--r-- 1 lucasmsp lucasmsp 1,4K abr 25 11:17 00000000000000000005.json\r\n",
      "-rw-r--r-- 1 lucasmsp lucasmsp 1,4K abr 25 11:17 00000000000000000006.json\r\n",
      "-rw-r--r-- 1 lucasmsp lucasmsp 1,1K abr 25 11:17 00000000000000000007.json\r\n",
      "-rw-r--r-- 1 lucasmsp lucasmsp 1,1K abr 25 11:17 00000000000000000008.json\r\n",
      "-rw-r--r-- 1 lucasmsp lucasmsp 1,1K abr 25 11:17 00000000000000000009.json\r\n",
      "-rw-r--r-- 1 lucasmsp lucasmsp  13K abr 25 11:17 00000000000000000010.checkpoint.parquet\r\n",
      "-rw-r--r-- 1 lucasmsp lucasmsp 1,1K abr 25 11:17 00000000000000000010.json\r\n",
      "-rw-r--r-- 1 lucasmsp lucasmsp 1,1K abr 25 11:17 00000000000000000011.json\r\n",
      "-rw-r--r-- 1 lucasmsp lucasmsp 1,1K abr 25 11:17 00000000000000000012.json\r\n",
      "-rw-r--r-- 1 lucasmsp lucasmsp 1,4K abr 25 11:17 00000000000000000013.json\r\n",
      "-rw-r--r-- 1 lucasmsp lucasmsp 1,1K abr 25 11:17 00000000000000000014.json\r\n",
      "-rw-r--r-- 1 lucasmsp lucasmsp 1,4K abr 25 11:17 00000000000000000015.json\r\n",
      "-rw-r--r-- 1 lucasmsp lucasmsp 1,4K abr 25 11:17 00000000000000000016.json\r\n",
      "-rw-r--r-- 1 lucasmsp lucasmsp  816 abr 25 11:17 00000000000000000017.json\r\n",
      "-rw-r--r-- 1 lucasmsp lucasmsp   25 abr 25 11:17 _last_checkpoint\r\n"
     ]
    }
   ],
   "source": [
    "!ls -lhR {DELTA_PATH}"
   ]
  },
  {
   "cell_type": "code",
   "execution_count": 62,
   "id": "f3b976d9",
   "metadata": {},
   "outputs": [
    {
     "name": "stdout",
     "output_type": "stream",
     "text": [
      "== Physical Plan ==\n",
      "*(1) Filter (isnotnull(action#15761) AND (action#15761 = ?))\n",
      "+- *(1) ColumnarToRow\n",
      "   +- FileScan parquet [action#15761,date#15762,device#15763,user_id#15764] Batched: true, DataFilters: [isnotnull(action#15761), (action#15761 = ?)], Format: Parquet, Location: PreparedDeltaFileIndex(1 paths)[file:/tmp/delta_tutorial/delta_table], PartitionFilters: [], PushedFilters: [IsNotNull(action), EqualTo(action,?)], ReadSchema: struct<action:string,date:date,device:int,user_id:int>\n",
      "\n",
      "\n"
     ]
    }
   ],
   "source": [
    "df.filter(\"action = '?'\").explain()"
   ]
  },
  {
   "attachments": {
    "image.png": {
     "image/png": "[encoded data removed]"
    }
   },
   "cell_type": "markdown",
   "id": "db3df15f",
   "metadata": {},
   "source": [
    "![image.png](attachment:image.png)"
   ]
  },
  {
   "cell_type": "code",
   "execution_count": 63,
   "id": "2f7e5252",
   "metadata": {},
   "outputs": [
    {
     "name": "stdout",
     "output_type": "stream",
     "text": [
      "+------+----------+------+-------+\n",
      "|action|      date|device|user_id|\n",
      "+------+----------+------+-------+\n",
      "|     ?|2021-04-11|     2|     -1|\n",
      "+------+----------+------+-------+\n",
      "\n"
     ]
    }
   ],
   "source": [
    "df.filter(\"action = '?'\").show()"
   ]
  },
  {
   "cell_type": "code",
   "execution_count": 64,
   "id": "4990fdc9",
   "metadata": {},
   "outputs": [],
   "source": [
    "spark.stop()"
   ]
  },
  {
   "cell_type": "markdown",
   "id": "9772ed06",
   "metadata": {},
   "source": [
    "### Others sources: \n",
    "\n",
    "- [deletes, updates and merges](https://docs.delta.io/latest/delta-update.html#table-deletes-updates-and-merges)\n",
    "- [best practices](https://docs.delta.io/latest/best-practices.html#best-practices)\n",
    "- [Python documentation](https://docs.delta.io/latest/api/python/index.html)"
   ]
  }
 ],
 "metadata": {
  "kernelspec": {
   "display_name": "Python 3 (ipykernel)",
   "language": "python",
   "name": "python3"
  },
  "language_info": {
   "codemirror_mode": {
    "name": "ipython",
    "version": 3
   },
   "file_extension": ".py",
   "mimetype": "text/x-python",
   "name": "python",
   "nbconvert_exporter": "python",
   "pygments_lexer": "ipython3",
   "version": "3.8.10"
  }
 },
 "nbformat": 4,
 "nbformat_minor": 5
}
